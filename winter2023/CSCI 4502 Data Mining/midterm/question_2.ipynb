{
 "cells": [
  {
   "cell_type": "code",
   "execution_count": 5,
   "id": "41a54eee-bd97-410c-871f-8a5d2ea89fed",
   "metadata": {},
   "outputs": [
    {
     "name": "stdout",
     "output_type": "stream",
     "text": [
      "Age scaled: [0.0, 1.0, 0.35, 0.41, 0.24]\n",
      "Weight scaled: [0.2, 0.4, 0.47, 1.0, 0.0]\n",
      "Height scaled: [0.6, 0.0, 0.75, 1.0, 0.6]\n"
     ]
    }
   ],
   "source": [
    "# Question 2 involves normalizing values of data\n",
    "\n",
    "# We will first scale some of the columns using a min-max scalar function\n",
    "def minMax(starting_values):\n",
    "    normalized_values = []\n",
    "    vmax = max(starting_values)\n",
    "    vmin = min(starting_values)\n",
    "    for value in starting_values:\n",
    "        normalized_value = round((value - vmin)/(vmax-vmin), 2)\n",
    "        normalized_values.append(normalized_value)\n",
    "    return normalized_values\n",
    "    \n",
    "    \n",
    "    \n",
    "print(\"Age scaled:\", minMax([25, 42, 31, 32, 29]))\n",
    "print(\"Weight scaled:\", minMax([68, 71, 72, 80, 65]))\n",
    "print(\"Height scaled:\", minMax([172, 160, 175, 180, 172]))\n"
   ]
  },
  {
   "cell_type": "code",
   "execution_count": 10,
   "id": "5c41c128-6fa5-40f1-9625-bbfb90aaec31",
   "metadata": {},
   "outputs": [
    {
     "name": "stdout",
     "output_type": "stream",
     "text": [
      "Blood Pressure Scaled: [-0.971, -0.597, -0.348, 1.892, 0.025]\n"
     ]
    }
   ],
   "source": [
    "# The next part of quesiton 2 involves normalizing some\n",
    "# data using z-score normalization\n",
    "\n",
    "import numpy as np\n",
    "\n",
    "def zScoreNormalization(starting_values):\n",
    "    normalized_values = []\n",
    "    vmean = sum(starting_values) / len(starting_values)\n",
    "    for value in starting_values:\n",
    "        scaled_value = round((value - vmean) / np.std(starting_values), 3)\n",
    "        normalized_values.append(scaled_value)\n",
    "    return normalized_values\n",
    "\n",
    "print(\"Blood Pressure Scaled:\", zScoreNormalization([117, 120, 122, 140, 125]))\n"
   ]
  },
  {
   "cell_type": "code",
   "execution_count": null,
   "id": "a793e16b-93b2-4363-a6e5-baa173c81b95",
   "metadata": {},
   "outputs": [],
   "source": []
  }
 ],
 "metadata": {
  "kernelspec": {
   "display_name": "Python 3 (ipykernel)",
   "language": "python",
   "name": "python3"
  },
  "language_info": {
   "codemirror_mode": {
    "name": "ipython",
    "version": 3
   },
   "file_extension": ".py",
   "mimetype": "text/x-python",
   "name": "python",
   "nbconvert_exporter": "python",
   "pygments_lexer": "ipython3",
   "version": "3.10.8"
  }
 },
 "nbformat": 4,
 "nbformat_minor": 5
}
