{
 "cells": [
  {
   "cell_type": "code",
   "execution_count": 1,
   "id": "c4b7fbe1-fcce-4c58-8a93-8fca1201ce4f",
   "metadata": {},
   "outputs": [],
   "source": [
    "# Hw 4 has some repedetive calculations we are suposed to show our work on\n",
    "# So I'm going to make some code so that I don't waste my time"
   ]
  },
  {
   "cell_type": "code",
   "execution_count": 18,
   "id": "5fd31925-b816-4f19-92c1-0079e4763379",
   "metadata": {},
   "outputs": [
    {
     "name": "stdout",
     "output_type": "stream",
     "text": [
      "Dist to centroid A: math.sqrt((1-x)**2 + (2-y)**2) = 3.1622776601683795\n",
      "Dist to centroid B: math.sqrt((3-x)**2 + (3-y)**2) = 2.23606797749979\n",
      "Dist to centroid C: math.sqrt((5-x)**2 + (5-y)**2) = 4.123105625617661\n",
      "The point will be assigned to the cluster it is closest to which is centroid \n"
     ]
    }
   ],
   "source": [
    "import math\n",
    "\n",
    "def centroid_calc(x,y):\n",
    "    distA = math.sqrt((1-x)**2 + (2-y)**2)\n",
    "    distB = math.sqrt((3-x)**2 + (3-y)**2)\n",
    "    distC = math.sqrt((5-x)**2 + (5-y)**2)\n",
    "    \n",
    "    print(\"Dist to centroid A: math.sqrt((1-x)**2 + (2-y)**2) =\", distA)\n",
    "    print(\"Dist to centroid B: math.sqrt((3-x)**2 + (3-y)**2) =\", distB)\n",
    "    print(\"Dist to centroid C: math.sqrt((5-x)**2 + (5-y)**2) =\", distC)\n",
    "    print(\"The point will be assigned to the cluster it is closest to which is centroid \")\n",
    "\n",
    "centroid_calc(4,1)"
   ]
  },
  {
   "cell_type": "code",
   "execution_count": null,
   "id": "52a0f604-a5cd-41e8-bd2e-00bd064579a3",
   "metadata": {},
   "outputs": [],
   "source": []
  }
 ],
 "metadata": {
  "kernelspec": {
   "display_name": "Python 3 (ipykernel)",
   "language": "python",
   "name": "python3"
  },
  "language_info": {
   "codemirror_mode": {
    "name": "ipython",
    "version": 3
   },
   "file_extension": ".py",
   "mimetype": "text/x-python",
   "name": "python",
   "nbconvert_exporter": "python",
   "pygments_lexer": "ipython3",
   "version": "3.10.8"
  }
 },
 "nbformat": 4,
 "nbformat_minor": 5
}
