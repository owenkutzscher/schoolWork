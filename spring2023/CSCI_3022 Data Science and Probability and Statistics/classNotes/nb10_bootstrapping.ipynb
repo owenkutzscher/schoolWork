{
 "cells": [
  {
   "cell_type": "markdown",
   "metadata": {},
   "source": [
    "# Notebook 10: The Bootstrap \n",
    "***\n",
    "\n",
    "We'll need Numpy, Matplotlib, Pandas, and scipy.stats for this notebook, so let's load them. "
   ]
  },
  {
   "cell_type": "code",
   "execution_count": 1,
   "metadata": {},
   "outputs": [],
   "source": [
    "import numpy as np \n",
    "from scipy import stats\n",
    "import pandas as pd \n",
    "import matplotlib.pyplot as plt \n",
    "%matplotlib inline\n",
    "\n",
    "import math"
   ]
  },
  {
   "cell_type": "markdown",
   "metadata": {},
   "source": [
    "### Exercise 1 - Bootstrapped Confidence Intervals for the Mean \n",
    "*** \n",
    "\n",
    "In this exercise you will experiment with empirical bootstrap techniques to compute confidence intervals the mean of the exponential distribution with parameter $\\lambda = 5$.  \n",
    "\n",
    "**Part A**: Write down the expected value, variance, and standard deviation of $X \\sim Exp(5)$.  You can look them up on [Wiki](https://en.wikipedia.org/wiki/Exponential_distribution) if you need to. "
   ]
  },
  {
   "cell_type": "markdown",
   "metadata": {},
   "source": [
    "**Solution**: We have \n",
    "\n",
    "$$\n",
    "E[X] = \\frac{1}{\\lambda} = \\frac{1}{5} = 0.2, \\quad \\textrm{Var}(X) = \\frac{1}{\\lambda^2} = \\frac{1}{25} = 0.04, \\quad \\textrm{SD}(X) = \\frac{1}{\\lambda} = \\frac{1}{5} = 0.2  \n",
    "$$"
   ]
  },
  {
   "cell_type": "markdown",
   "metadata": {},
   "source": [
    "**Part B**: The variable $\\texttt{sample1}$ below consists of $500$ samples from $Exp(5)$.  Complete the function bootstrapped_mean below, to draw at least $5000$ bootstrapped resamples (with replacement) from the empirical distribution defined by $\\texttt{sample1}$ and compute a bootstrapped confidence interval for the mean at the 95% confidence level.  "
   ]
  },
  {
   "cell_type": "code",
   "execution_count": 2,
   "metadata": {},
   "outputs": [],
   "source": [
    "sample1 = np.random.exponential(1/5, size=450)"
   ]
  },
  {
   "cell_type": "code",
   "execution_count": 3,
   "metadata": {},
   "outputs": [
    {
     "data": {
      "text/plain": [
       "[0.18059632867118036, 0.21339530363562764]"
      ]
     },
     "execution_count": 3,
     "metadata": {},
     "output_type": "execute_result"
    }
   ],
   "source": [
    "def bootstrapped_mean(sample,alpha, num_boots=5000):\n",
    "    \n",
    "    list_of_means = []\n",
    "    \n",
    "    for i in range(0,num_boots):\n",
    "        resample = np.random.choice(sample,size = len(sample))\n",
    "        mean_resample = np.mean(resample)\n",
    "        list_of_means.append(mean_resample)\n",
    "    L = np.percentile(list_of_means,alpha/2*100)\n",
    "    U = np.percentile(list_of_means,100-alpha/2*100)\n",
    "    \n",
    "    CI = [L, U]\n",
    "    return CI \n",
    "    \n",
    "bootstrapped_mean(sample1,alpha=.05)"
   ]
  },
  {
   "cell_type": "markdown",
   "metadata": {},
   "source": [
    "**Part C**: Modify the code you wrote in **Part B** to also plot a histogram of the bootstrapped sample means along with some graphical representation of the calculated confidence interval. "
   ]
  },
  {
   "cell_type": "code",
   "execution_count": 4,
   "metadata": {},
   "outputs": [
    {
     "data": {
      "text/plain": [
       "[0.18113264779866842, 0.21485085572768992]"
      ]
     },
     "execution_count": 4,
     "metadata": {},
     "output_type": "execute_result"
    },
    {
     "data": {
      "image/png": "[encoded data removed]",
      "text/plain": [
       "<Figure size 1200x600 with 1 Axes>"
      ]
     },
     "metadata": {},
     "output_type": "display_data"
    }
   ],
   "source": [
    "def bootstrapped_mean(sample, num_boots=5000):\n",
    "    \n",
    "    list_of_means = []\n",
    "    \n",
    "    for i in range(0,num_boots):\n",
    "        resample = np.random.choice(sample,size = len(sample))\n",
    "        mean_resample = np.mean(resample)\n",
    "        list_of_means.append(mean_resample)\n",
    "    L = np.percentile(list_of_means,2.5)\n",
    "    U = np.percentile(list_of_means,97.5)\n",
    "    \n",
    "    CI = [L, U]\n",
    "\n",
    "    fig, ax = plt.subplots(nrows=1, ncols=1, figsize=(12,6))\n",
    "    pd.Series(list_of_means).hist(ax=ax, color=\"steelblue\", edgecolor=\"white\", bins=20, density=False)\n",
    "    ax.grid(alpha=0.25)\n",
    "    ax.set_axisbelow(True)\n",
    "    ax.set_xlabel(\"Bootstrapped Mean Estimates\", fontsize=16)\n",
    "    ax.set_ylabel(\"Frequency\", fontsize=16)\n",
    "    \n",
    "    ax.plot([CI[0], CI[1]], [num_boots/12, num_boots/12], color=\"red\", lw=3)\n",
    "    ax.plot([CI[0], CI[0]], [num_boots/12-10, num_boots/12+10], color=\"red\", lw=3)\n",
    "    ax.plot([CI[1], CI[1]], [num_boots/12-10, num_boots/12+10], color=\"red\", lw=3)\n",
    "    return CI \n",
    "bootstrapped_mean(sample1)"
   ]
  },
  {
   "cell_type": "markdown",
   "metadata": {},
   "source": [
    "**Part D**: Use the sample mean of $\\texttt{sample1}$ and the known standard deviation of the distribution to compute a traditional 95% confidence interval for the mean of the distribution.  Compare your $\\color{red}{\\text{traditional confidence interval}}$ to the bootstrapped confidence interval returned by your code. "
   ]
  },
  {
   "cell_type": "code",
   "execution_count": 5,
   "metadata": {},
   "outputs": [
    {
     "name": "stdout",
     "output_type": "stream",
     "text": [
      "0.1788819529751953 0.21583938829118668\n"
     ]
    }
   ],
   "source": [
    "xbar = np.mean(sample1)\n",
    "\n",
    "zalpha = stats.norm.ppf(.975)\n",
    "\n",
    "sigma = 0.2\n",
    "\n",
    "n = len(sample1)\n",
    "\n",
    "L = xbar - zalpha*(sigma/np.sqrt(n))\n",
    "U = xbar + zalpha*(sigma/np.sqrt(n))\n",
    "\n",
    "print(L,U)"
   ]
  },
  {
   "cell_type": "code",
   "execution_count": 6,
   "metadata": {},
   "outputs": [
    {
     "name": "stdout",
     "output_type": "stream",
     "text": [
      "(0.1806610492518624, 0.21406029201451957)\n"
     ]
    }
   ],
   "source": [
    "#Or using built-in functions:\n",
    "\n",
    "print(stats.norm.interval(0.95, loc=np.mean(sample1), scale=stats.sem(sample1)))"
   ]
  },
  {
   "cell_type": "code",
   "execution_count": 7,
   "metadata": {},
   "outputs": [
    {
     "ename": "SyntaxError",
     "evalue": "incomplete input (1959259275.py, line 1)",
     "output_type": "error",
     "traceback": [
      "\u001b[0;36m  Cell \u001b[0;32mIn[7], line 1\u001b[0;36m\u001b[0m\n\u001b[0;31m    stats.norm.interval(0.95, loc=np.mean(sample1), scale=stats.sem(sample1)\u001b[0m\n\u001b[0m                                                                            ^\u001b[0m\n\u001b[0;31mSyntaxError\u001b[0m\u001b[0;31m:\u001b[0m incomplete input\n"
     ]
    }
   ],
   "source": [
    "stats.norm.interval(0.95, loc=np.mean(sample1), scale=stats.sem(sample1)"
   ]
  },
  {
   "cell_type": "markdown",
   "metadata": {},
   "source": [
    "### Exercise 2 - Bootstrapped Confidence Intervals for the Variance\n",
    "*** \n",
    "\n",
    "In this exercise you will experiment with empirical bootstrap techniques to compute confidence intervals for various statistics of $\\color{red}{\\text{the variance}}$ of the exponential distribution with parameter $\\lambda = 5$.  \n",
    "\n",
    "**Part A**: Complete the function bootstrapped_var below, to draw at least $5000$ bootstrapped samples (with replacement) from the empirical distribution defined by $\\texttt{sample}$ and compute a bootstrapped confidence interval for the variance at the 95% confidence level.  You should be able to copy paste your code from Exercise 1. Use your function to find the 95% bootstrapped CI for the data stored in $\\texttt{sample}$ from Exercise 1. "
   ]
  },
  {
   "cell_type": "code",
   "execution_count": null,
   "metadata": {},
   "outputs": [],
   "source": [
    "def bootstrapped_var(sample, num_boots=5000):\n",
    "\n",
    "    # Create a list (or array-like object) of bootstrap resample variances\n",
    "    list_of_variances = []\n",
    "    for ii in range(num_boots):\n",
    "        resample_var = np.random.choice(sample, size=len(sample), replace=True)\n",
    "        boot_var = resample_var.var(ddof=1)\n",
    "        list_of_variances.append(boot_var)\n",
    "    \n",
    "    # Compute the 2.5 and 97.5th percentiles of the list of bootstrapped variances\n",
    "    L = np.percentile(list_of_variances, 2.5)\n",
    "    U = np.percentile(list_of_variances, 97.5)\n",
    "\n",
    "    # Your 95% confidence interval estimate is given by these percentiles\n",
    "    CI = np.array([L, U])\n",
    "\n",
    "    fig, ax = plt.subplots(nrows=1, ncols=1, figsize=(12,6))\n",
    "    pd.Series(list_of_variances).hist(ax=ax, color=\"steelblue\", edgecolor=\"white\", bins=20, density=False)\n",
    "    ax.grid(alpha=0.25)\n",
    "    ax.set_axisbelow(True)\n",
    "    ax.set_xlabel(\"Bootstrapped Variance Estimates\", fontsize=16)\n",
    "    ax.set_ylabel(\"Frequency\", fontsize=16)\n",
    "    \n",
    "    ax.plot([CI[0], CI[1]], [num_boots/12, num_boots/12], color=\"red\", lw=3)\n",
    "    ax.plot([CI[0], CI[0]], [num_boots/12-10, num_boots/12+10], color=\"red\", lw=3)\n",
    "    ax.plot([CI[1], CI[1]], [num_boots/12-10, num_boots/12+10], color=\"red\", lw=3)\n",
    "    \n",
    "    return CI \n",
    "    \n",
    "bootstrapped_var(sample1)"
   ]
  },
  {
   "cell_type": "markdown",
   "metadata": {},
   "source": [
    "**Part B**: Does your 95% bootstrapped confidence interval cover the true variance of the population? "
   ]
  },
  {
   "cell_type": "markdown",
   "metadata": {},
   "source": [
    "yes"
   ]
  },
  {
   "cell_type": "markdown",
   "metadata": {},
   "source": [
    "### Exercise 3 - Empirical Coverage of Bootstrapped Confidence Intervals  \n",
    "*** \n",
    "\n",
    "Complete the function CI_test below to test the coverage of the bootstrapped confidence intervals at the 95% confidence level for the mean of the population that $\\texttt{sample}$ is drawn from.  Recall that you know that the true sample mean is $1/\\lambda = 0.2$.  "
   ]
  },
  {
   "cell_type": "code",
   "execution_count": null,
   "metadata": {},
   "outputs": [],
   "source": [
    "def CI_test(num_CIs=100, num_boots=5000):\n",
    "    \n",
    "    fig, ax = plt.subplots(nrows=1, ncols=1, figsize=(12,6))\n",
    "    mean = 0.2\n",
    "    \n",
    "    ax.plot([0,num_CIs], [mean, mean], color=\"steelblue\", ls='--', lw=3)\n",
    "       # Horizontal line marking the mean\n",
    "        \n",
    "    for jj in range(num_CIs):\n",
    "        sample = np.random.exponential(1/5, size=500)\n",
    "        list_of_means = []\n",
    "        for ii in range(num_boots):\n",
    "            resample_mean = np.random.choice(sample, size=len(sample), replace=True)\n",
    "            boot_mean = resample_mean.mean()\n",
    "            list_of_means.append(boot_mean)\n",
    "    \n",
    "        # Compute the 2.5 and 97.5th percentiles of the list of bootstrapped variances\n",
    "        L = np.percentile(list_of_means, 2.5)\n",
    "        U = np.percentile(list_of_means, 97.5)\n",
    "\n",
    "        # Your 95% confidence interval estimate is given by these percentiles\n",
    "        CI = np.array([L, U])\n",
    "        ax.plot([jj, jj], [L, U])\n",
    "        \n",
    "    ax.set_xlim([-1,num_CIs+1])\n",
    "    plt.xticks(range(num_CIs), fontsize=12)\n",
    "        \n",
    "CI_test(num_CIs=25, num_boots=5000)\n",
    "# Call the function"
   ]
  },
  {
   "cell_type": "markdown",
   "metadata": {},
   "source": [
    "### Exercise 4 - Parametric Bootstrap for the Exponential Parameter \n",
    "*** \n",
    "\n",
    "In this exercise you will experiment with the parametric bootstrap technique to compute confidence intervals for various statistics of the exponential distribution with parameter $\\lambda = 5$.  \n",
    "\n",
    "**Part A**: Complete the function bootstrapped_lam below, to draw at least $5000$ bootstrapped resamples (with replacement) from the empirical distribution defined by $\\texttt{sample}$ and compute a bootstrapped $\\color{red}{\\text{confidence interval for the exponential parameter}}$ $\\color{red}\\lambda$.  Recall from class that a good estimator for $\\lambda$ is $1/x$ where $x$ is assumed to come from $Exp(\\lambda)$. "
   ]
  },
  {
   "cell_type": "code",
   "execution_count": null,
   "metadata": {},
   "outputs": [],
   "source": [
    "\n",
    "def bootstrapped_lam(sample, num_boots=5000):\n",
    "    \n",
    "    list_of_lams = []\n",
    "    \n",
    "    \n",
    "    for i in range(0,num_boots):\n",
    "        resample = np.random.exponential(1/5, size=500)\n",
    "        resample_mean = resample.mean()\n",
    "        lambda_resample = 1/resample_mean\n",
    "        list_of_lams.append(lambda_resample)\n",
    "        \n",
    "    L = np.percentile(list_of_lams,2.5)\n",
    "    U = np.percentile(list_of_lams,97.5)\n",
    "    \n",
    "    CI = [L, U]\n",
    "    return CI \n",
    "    \n",
    "#bootstrapped_lam(sample1)\n",
    "\n",
    "bootstrapped_lam(xbar)"
   ]
  },
  {
   "cell_type": "markdown",
   "metadata": {},
   "source": [
    "**Part B**: Complete the function parametric_stdev below, to draw at least $5000$ bootstrapped resamples (with replacement) from the empirical distribution defined by $\\texttt{sample}$.  From each bootstrapped resample, $\\color{red}{\\text{estimate the exponential parameter}}$ $\\lambda$, then $\\color{blue}{\\text{transform the estimate}}$ of $\\lambda$ to the variance of the exponential distribution.  With your bootstrapped estimates of $\\sigma$, compute a 95% confidence interval for the variance.  How does this confidence interval compared to the one computed in Exercise 2? \n"
   ]
  },
  {
   "cell_type": "code",
   "execution_count": null,
   "metadata": {},
   "outputs": [],
   "source": [
    "def parametric_stdev(sample, num_boots=5000):\n",
    "    \n",
    "    list_of_sigs = []\n",
    "    \n",
    "    for i in range(0,num_boots):\n",
    "        resample = np.random.exponential(1/5, size=500)\n",
    "        #resample_mean = resample.mean()\n",
    "        #lambda_resample = 1/resample_mean\n",
    "        #sigma = 1/lambda_resample\n",
    "        #boot_variance = sigma**2\n",
    "        sigma = resample.std(ddof=1)\n",
    "        boot_variance = sigma**2\n",
    "        list_of_sigs.append(boot_variance)\n",
    "        \n",
    "    L = np.percentile(list_of_sigs,2.5)\n",
    "    U = np.percentile(list_of_sigs,97.5)\n",
    "    \n",
    "    CI = [L, U]\n",
    "    return CI \n",
    "    #return np.array([0,1]) # TODO, this is just a fill-value\n",
    "    \n",
    "parametric_stdev(sample1)"
   ]
  },
  {
   "cell_type": "code",
   "execution_count": null,
   "metadata": {},
   "outputs": [],
   "source": []
  }
 ],
 "metadata": {
  "kernelspec": {
   "display_name": "Python 3 (ipykernel)",
   "language": "python",
   "name": "python3"
  },
  "language_info": {
   "codemirror_mode": {
    "name": "ipython",
    "version": 3
   },
   "file_extension": ".py",
   "mimetype": "text/x-python",
   "name": "python",
   "nbconvert_exporter": "python",
   "pygments_lexer": "ipython3",
   "version": "3.10.8"
  }
 },
 "nbformat": 4,
 "nbformat_minor": 4
}
