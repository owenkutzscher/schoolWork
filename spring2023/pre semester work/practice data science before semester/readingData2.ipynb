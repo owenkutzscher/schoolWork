{
 "cells": [
  {
   "cell_type": "code",
   "execution_count": 28,
   "id": "dbaecb70-7a90-4513-921a-a47de4475658",
   "metadata": {},
   "outputs": [],
   "source": [
    "### lets try reading data again! \n",
    "# this time lets make it calculate some info from the data\n",
    "# i want it to access the data more than just displaying it\n",
    "# later down we will make some graphs from this!"
   ]
  },
  {
   "cell_type": "code",
   "execution_count": 29,
   "id": "3cc5ed61-fc82-4690-8f4c-067a0be5de4f",
   "metadata": {},
   "outputs": [],
   "source": [
    "import pandas as pd\n",
    "import csv\n",
    "import matplotlib.pyplot as plt\n",
    "\n",
    "df = pd.read_csv(\"Nutrition_Value_Dataset.csv\", nrows=100)"
   ]
  },
  {
   "cell_type": "code",
   "execution_count": 30,
   "id": "654536f4-d578-4cb0-bcf9-c941bc26c08b",
   "metadata": {},
   "outputs": [
    {
     "name": "stdout",
     "output_type": "stream",
     "text": [
      "      Company   Category                           Product Per Serve Size  \\\n",
      "0   Pizza Hut  All Meals          Corn n Cheese (Personal)        143.5 g   \n",
      "1   Pizza Hut  All Meals          Country Feast (Personal)          178 g   \n",
      "2   Pizza Hut  All Meals          Double Cheese (Personal)          143 g   \n",
      "3   Pizza Hut  All Meals  Double Paneer Supreme (Personal)        174.5 g   \n",
      "4   Pizza Hut  All Meals          Farmer`s Pick (Personal)          177 g   \n",
      "..        ...        ...                               ...            ...   \n",
      "95  Pizza Hut  All Meals              Veg Exotica (Medium)          183 g   \n",
      "96  Pizza Hut  All Meals       Veg Kebab Surprise (Medium)          226 g   \n",
      "97  Pizza Hut  All Meals             Veggie Feast (Medium)          178 g   \n",
      "98  Pizza Hut  All Meals             Veggie Lover (Medium)          193 g   \n",
      "99  Pizza Hut  All Meals           Veggie Supreme (Medium)          198 g   \n",
      "\n",
      "    Energy (kCal)  Carbohydrates (g)  Protein (g)  Fiber (g)  Sugar (g)  \\\n",
      "0          432.60              65.64        17.91       3.85        0.0   \n",
      "1          407.60              67.11        16.73       7.19        0.0   \n",
      "2          423.33              59.97        18.26       3.49        0.0   \n",
      "3          474.03              52.86        20.07       3.79        0.0   \n",
      "4          408.16              53.93        19.91       2.46        0.0   \n",
      "..            ...                ...          ...        ...        ...   \n",
      "95         401.67              58.71        16.47       4.32        0.0   \n",
      "96         603.65              71.73        28.02       6.06        0.0   \n",
      "97         450.64              65.22        19.69       4.91        0.0   \n",
      "98         486.61              66.33        20.01       3.98        0.0   \n",
      "99         473.08              60.49        20.67       4.61        0.0   \n",
      "\n",
      "    Total Fat (g)  Saturated Fat (g)  Trans Fat (g)  Cholesterol (mg)  \\\n",
      "0           10.93               5.14           0.16             16.19   \n",
      "1            8.03               3.24           0.11             66.80   \n",
      "2           12.27               5.23           0.18             19.75   \n",
      "3           20.26               9.25           0.33             71.72   \n",
      "4           12.53               4.90           0.14             48.09   \n",
      "..            ...                ...            ...               ...   \n",
      "95          11.22               3.81           0.13             14.48   \n",
      "96          22.74              10.35           0.32             19.30   \n",
      "97          12.34               4.68           0.14             14.77   \n",
      "98          15.69               6.20           0.23             15.86   \n",
      "99          16.49               7.17           0.26             19.60   \n",
      "\n",
      "    Sodium (mg)  \n",
      "0        499.72  \n",
      "1        818.00  \n",
      "2        638.22  \n",
      "3       1128.11  \n",
      "4        942.67  \n",
      "..          ...  \n",
      "95       632.10  \n",
      "96      1414.76  \n",
      "97       998.15  \n",
      "98       714.79  \n",
      "99       680.41  \n",
      "\n",
      "[100 rows x 14 columns]\n"
     ]
    }
   ],
   "source": [
    "# df.head()\n",
    "print(df)"
   ]
  },
  {
   "cell_type": "code",
   "execution_count": 31,
   "id": "5f671154-6988-49ea-8d87-eb7089d4a901",
   "metadata": {},
   "outputs": [
    {
     "name": "stdout",
     "output_type": "stream",
     "text": [
      "mean carbs: 59.0999\n",
      "sum serving sizes: 143.5 g178 g143 g174.5 g177 g130.5 g157 g139.5 g167.5 g170.5 g194.5 g160.5 g171 g178 g153.5 g209 g211 g165.5 g167.5 g154.5 g151.5 g172.5 g172.5 g148.5 g170.5 g167.5 g154.5 g193.5 g151.5 g200 g257 g185 g237 g182 g223.6 g229 g165.6 g205 g178 g215 g214 g257.6 g209.6 g223 g229.6 g218g221.6 g197.6 g194 g227 g223.6 g189.6 g213.2 g215.6 g198 g253 g226 g259 g126 g161 g126 g157 g148 g113 g140 g122 g149 g153 g177 g143 g155 g160 g136 g148 g150 g137 g131 g155 g163 g131 g153 g150 g137 g176 g153 g168 g154 g206 g151 g192 g186 g134 g174 g147 g183 g183 g226 g178 g193 g198 g\n",
      "max saturated fat: 12.09\n",
      "min salary: 13.23\n",
      "count of companies (Pizza hut twice would be 2): 100\n",
      "median sodium: 869.4\n",
      "std (deviation) of sodium: 293.2605808597914\n",
      "var(iance) of sodium: 86001.76828622226\n"
     ]
    }
   ],
   "source": [
    "\n",
    "# block 1 - simple stats\n",
    "mean1 = df['Carbohydrates (g)'].mean()\n",
    "sum1 = df['Per Serve Size'].sum()\n",
    "max1 = df['Saturated Fat (g)'].max()\n",
    "min1 = df['Protein (g)'].min()\n",
    "count1 = df['Company'].count()\n",
    "median1 = df['Sodium (mg)'].median() \n",
    "std1 = df['Sodium (mg)'].std() \n",
    "var1 = df['Sodium (mg)'].var()  \n",
    "\n",
    "# block 2 - group by\n",
    "#groupby_sum1 = df.groupby(['Company']).sum() \n",
    "#groupby_count1 = df.groupby(['Compnay']).count()\n",
    "\n",
    "# print block 1\n",
    "print('mean carbs: ' + str(mean1))\n",
    "print('sum serving sizes: ' + str(sum1))\n",
    "print('max saturated fat: ' + str(max1))\n",
    "print('min salary: ' + str(min1))\n",
    "print('count of companies (Pizza hut twice would be 2): ' + str(count1))\n",
    "print('median sodium: ' + str(median1))\n",
    "print('std (deviation) of sodium: ' + str(std1))\n",
    "print('var(iance) of sodium: ' + str(var1))\n",
    "\n",
    "# print block 2\n",
    "#print('sum of values, grouped by the company: ' + str(groupby_sum1))\n",
    "#print('count of values, grouped by the company: ' + str(groupby_count1))"
   ]
  },
  {
   "cell_type": "code",
   "execution_count": 54,
   "id": "7db9e7e2-a149-48d3-b2a9-52b2c01897fb",
   "metadata": {},
   "outputs": [
    {
     "data": {
      "text/plain": [
       "Text(0, 0.5, 'Fiber (g)')"
      ]
     },
     "execution_count": 54,
     "metadata": {},
     "output_type": "execute_result"
    },
    {
     "data": {
      "image/png": "[encoded data removed]",
      "text/plain": [
       "<Figure size 640x480 with 1 Axes>"
      ]
     },
     "metadata": {},
     "output_type": "display_data"
    }
   ],
   "source": [
    "### Now lets try plotting something!!!\n",
    "\n",
    "\n",
    "#df3.xlabel('xlabel')\n",
    "#df3.ylabel('ylabel')\n",
    "\n",
    "ax = df.plot(kind='scatter', title=\"fiber to protein among fast food items\", x=\"Protein (g)\", y=\"Fiber (g)\");\n",
    "# wow it looks wacky (if the data is a line graph). I wonder if we can make the data organized better..\n",
    "\n",
    "# Scale x axis\n",
    "ax.set_xlim((0, 70))\n",
    "\n",
    "# Set the x-axis label\n",
    "ax.set_xlabel(\"Protein (g)\")\n",
    "\n",
    "# Set the y-axis label\n",
    "ax.set_ylabel(\"Fiber (g)\")\n"
   ]
  },
  {
   "cell_type": "code",
   "execution_count": null,
   "id": "bb7e46ec-183a-4b04-9b5f-f02797a26273",
   "metadata": {},
   "outputs": [],
   "source": []
  }
 ],
 "metadata": {
  "kernelspec": {
   "display_name": "Python 3 (ipykernel)",
   "language": "python",
   "name": "python3"
  },
  "language_info": {
   "codemirror_mode": {
    "name": "ipython",
    "version": 3
   },
   "file_extension": ".py",
   "mimetype": "text/x-python",
   "name": "python",
   "nbconvert_exporter": "python",
   "pygments_lexer": "ipython3",
   "version": "3.10.8"
  }
 },
 "nbformat": 4,
 "nbformat_minor": 5
}
