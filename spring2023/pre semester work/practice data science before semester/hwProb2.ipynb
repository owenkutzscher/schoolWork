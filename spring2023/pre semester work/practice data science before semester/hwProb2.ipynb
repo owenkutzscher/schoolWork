{
 "cells": [
  {
   "cell_type": "code",
   "execution_count": null,
   "id": "36359545-7f27-4a6a-9d65-f55cd3820b99",
   "metadata": {},
   "outputs": [],
   "source": [
    "### Hw prob 2\n",
    "# See if there is a correlation between the number of \n",
    "# children and if customers require a parking space.\n",
    "# On the same graph or whatever see if the number of \n",
    "# kids correlated to type of meal plan. Graph the results.\n",
    "# Label the graph and its axis and all that.\n",
    "\n",
    "\n",
    "# whats the most efficient way to show this?\n",
    "# \n"
   ]
  }
 ],
 "metadata": {
  "kernelspec": {
   "display_name": "Python 3 (ipykernel)",
   "language": "python",
   "name": "python3"
  },
  "language_info": {
   "codemirror_mode": {
    "name": "ipython",
    "version": 3
   },
   "file_extension": ".py",
   "mimetype": "text/x-python",
   "name": "python",
   "nbconvert_exporter": "python",
   "pygments_lexer": "ipython3",
   "version": "3.10.8"
  }
 },
 "nbformat": 4,
 "nbformat_minor": 5
}
