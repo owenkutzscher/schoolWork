{
 "cells": [
  {
   "cell_type": "code",
   "execution_count": 2,
   "id": "fa25ac6d-22d3-4a4a-9125-a834e8a4c81f",
   "metadata": {},
   "outputs": [],
   "source": [
    "# hw 3 features math questions. I am using this ipynb file as scratch work1\n",
    "\n",
    "# some libararies we'll use for scratch work\n",
    "import math"
   ]
  },
  {
   "cell_type": "code",
   "execution_count": 3,
   "id": "443c2947-c46d-4914-9fdf-bc4745cac632",
   "metadata": {},
   "outputs": [],
   "source": [
    "# problem 1"
   ]
  },
  {
   "cell_type": "code",
   "execution_count": 4,
   "id": "5bc06c69-03c6-4b06-87a0-7e68a48db6f0",
   "metadata": {},
   "outputs": [
    {
     "name": "stdout",
     "output_type": "stream",
     "text": [
      "0.7384615384615384\n"
     ]
    }
   ],
   "source": [
    "# part a\n",
    "# lift = support(X,Y) / (support(X) * support(y))\n",
    "\n",
    "\n",
    "# use lift meausre to find correlation between bike and ski\n",
    "\n",
    "supportXY = 600/4000 # bike and ski\n",
    "supportX = 1300/4000 # bike\n",
    "supportY = 2500/4000 # ski\n",
    "\n",
    "lift = supportXY / (supportX * supportY)\n",
    "print(lift)"
   ]
  },
  {
   "cell_type": "code",
   "execution_count": 5,
   "id": "af9565b8-c95f-4ac6-94a4-11b2302f82c3",
   "metadata": {},
   "outputs": [
    {
     "name": "stdout",
     "output_type": "stream",
     "text": [
      "0.15 meets the min support threshold of 15%\n",
      "0.46153846153846156 meets the min confidence interval of 40%\n"
     ]
    }
   ],
   "source": [
    "# part b\n",
    "# now an asocation rule bike->ski is mined\n",
    "\n",
    "# min support threshold: 15%\n",
    "# this is supportXY\n",
    "# min confidence interval: 40%\n",
    "# this is p(ski|bike)\n",
    "confXY = 600/1300\n",
    "\n",
    "# is the association rule strong?\n",
    "\n",
    "print(supportXY, \"meets the min support threshold of 15%\")\n",
    "print(confXY, \"meets the min confidence interval of 40%\")"
   ]
  },
  {
   "cell_type": "code",
   "execution_count": 6,
   "id": "6f02b5cd-7938-47bf-a0e3-7bca3c1890ad",
   "metadata": {},
   "outputs": [],
   "source": [
    "# problem 2"
   ]
  },
  {
   "cell_type": "code",
   "execution_count": 7,
   "id": "ef628e7e-8b37-463b-ad54-56f7d371c862",
   "metadata": {},
   "outputs": [],
   "source": [
    "# part a\n",
    "# we need to find the max number of possible frequent itemsets...\n",
    "# hmmmmmm\n",
    "# uhhh idk lets go to office hours and figure this one out.\n",
    "# guess: 5! since there are 5 spots lol"
   ]
  },
  {
   "cell_type": "markdown",
   "id": "d256e7f6-8b80-4dcb-aedc-455130b9331d",
   "metadata": {},
   "source": [
    "# part b\n",
    "# find all the freq itemsets using apriori!! With min_support = 40%\n",
    "# answer should include all steps of computation proscess. So uhh lets show our work\n",
    "\n",
    "\n",
    "\n",
    "\n",
    "Scan db and get all freq 1 itemsets (k = 1)\n",
    "freq_1_itemsets = (A, B, C, D, H, K, M, R, S, T, X, Z)\n",
    "\n",
    "Test k item sets to see if they meet support threshold\n",
    "freq_1_itemsets = (A, B, D, H, S, T, X, Z)\n",
    "\n",
    "\n",
    "Make itemsets, k = 2\n",
    "freq_2_itemsets = (AB, AD, AH, AS, AT, AX, AZ, BD, BH, BS, BT, BX, BZ, DH, DS, \n",
    "                   DT, DX, DZ, HS, HT, HX, HZ, ST, SX, SZ, TX, TZ, XZ)\n",
    "\n",
    "Test k item sets to see if they meet support threshold\n",
    "freq_2_itemsets = (AT, AX, AZ, BD, BH, BS, HT, HX, TX, TZ, XZ)\n",
    "\n",
    "\n",
    "\n",
    "Make itemsets, k = 3\n",
    "freq_3_itemsets = (ATX, ATZ, ATH, AXZ, AXH, BDH, BDS, BHT, BHX,\n",
    "                    HTX, HTZ, HXZ, TXZ)\n",
    "\n",
    "Test k item sets to see if they meet support threshold\n",
    "freq_3_itemsets = (ATX, ATZ, AXZ)\n",
    "\n",
    "\n",
    "Make itemsets, k = 4\n",
    "freq_4_itemsets = (ATXZ)\n",
    "\n",
    "Test k item sets to see if they meet support threshold\n",
    "freq_4_itemsets = (ATXZ)\n",
    "\n"
   ]
  },
  {
   "cell_type": "code",
   "execution_count": 17,
   "id": "94e25a60-8aca-4ec1-ae6a-79329c59f5bb",
   "metadata": {},
   "outputs": [
    {
     "data": {
      "text/plain": [
       "0.863120568566631"
      ]
     },
     "execution_count": 17,
     "metadata": {},
     "output_type": "execute_result"
    }
   ],
   "source": [
    "# problem 4:\n",
    "\n",
    "def entropy_calculator(n):\n",
    "    if n == 0:\n",
    "        return 0\n",
    "    return -1 * (n * (math.log2(n))) \n",
    "\n",
    "entropy_calculator(5/7) + entropy_calculator(2/7)"
   ]
  },
  {
   "cell_type": "code",
   "execution_count": 46,
   "id": "3405cced-9626-4643-9768-89ba2beb20d2",
   "metadata": {},
   "outputs": [
    {
     "data": {
      "text/plain": [
       "0.010241666666666593"
      ]
     },
     "execution_count": 46,
     "metadata": {},
     "output_type": "execute_result"
    }
   ],
   "source": [
    "def s_minus_a(S, frac1, entropyYes, frac2, entropyNo):\n",
    "    return S - ((frac1*entropyYes + frac2*entropyNo))\n",
    "    \n",
    "s_minus_a(0.9183, 5/12, 0.9710, 7/12, 0.8631)"
   ]
  },
  {
   "cell_type": "code",
   "execution_count": 50,
   "id": "fa8f6cae-90e3-4e1a-93b8-ccd8f0329ab1",
   "metadata": {},
   "outputs": [
    {
     "name": "stdout",
     "output_type": "stream",
     "text": [
      "entropy_yes = -(( 4 / 8 log_2( 4 / 8 ))+( 4 / 8 log_2( 4 / 8 )))\n",
      "entropy_yes = 1.0\n",
      "entropy_no = -(( 4 / 4 log_2( 4 / 4 ))+( 0 / 4 log_2( 0 / 4 )))\n",
      "entropy_no = 0.0\n",
      "Information gain:  High Blood Pressure  = S - A\n",
      "Information gain:  High Blood Pressure  = S - ( 8 / 12 entropy_yes+ 4 / 12 entropy_no)\n",
      "Information gain:  High Blood Pressure  = 0.9183 - ( 8 / 12 1.0 + 4 / 12 0.0 )\n",
      "Information gain:  High Blood Pressure  = 0.2516333333333334\n",
      "Information gain:  High Blood Pressure  = 0.2516\n"
     ]
    }
   ],
   "source": [
    "def info_gain(name, S, yes, yesYes, yesNo, no, noYes, noNo):\n",
    "    print(\"entropy_yes = -((\",yesYes,\"/\",yes,\"log_2(\",yesYes,\"/\",yes,\"))+(\",yesNo,\"/\",yes,\"log_2(\",yesNo,\"/\",yes,\")))\")\n",
    "    entropy_yes = entropy_calculator(yesYes/yes) + entropy_calculator(yesNo/yes) \n",
    "    print(\"entropy_yes =\", entropy_yes)\n",
    "    \n",
    "    print(\"entropy_no = -((\",noYes,\"/\",no,\"log_2(\",noYes,\"/\",no,\"))+(\",noNo,\"/\",no,\"log_2(\",noNo,\"/\",no,\")))\")\n",
    "    entropy_no = entropy_calculator(noYes/no) + entropy_calculator(noNo/no) \n",
    "    print(\"entropy_no =\", entropy_no)\n",
    "    \n",
    "    print(\"Information gain: \", name,\" = S - A\")\n",
    "    print(\"Information gain: \", name,\" = S - (\",yes,\"/\",yes+no,\"entropy_yes+\",no,\"/\",no+yes,\"entropy_no)\")\n",
    "    print(\"Information gain: \", name,\" =\", S,\"- (\",yes,\"/\",yes+no, entropy_yes,\"+\",no,\"/\",no+yes,entropy_no,\")\")\n",
    "    infoGain = s_minus_a(S, yes/(yes+no), entropy_yes, no/(yes+no), entropy_no)\n",
    "    print(\"Information gain: \", name,\" =\",infoGain)\n",
    "    print(\"Information gain: \", name,\" =\",round(infoGain, 4))\n",
    "\n",
    "\n",
    "    \n",
    "    \n",
    "\n",
    "\n",
    "info_gain(\"High Blood Pressure\", 0.9183, 8,4,4, 4,4,0)"
   ]
  },
  {
   "cell_type": "code",
   "execution_count": 52,
   "id": "aa3cb51d-d867-4524-8dcb-9fd9b19121cb",
   "metadata": {},
   "outputs": [
    {
     "name": "stdout",
     "output_type": "stream",
     "text": [
      "entropy_non = -(( 2 / 3 log_2( 2 / 3 ))+( 1 / 3 log_2( 1 / 3 )))\n",
      "entropy_non = 0.9182958340544896\n",
      "entropy_occ = -(( 0 / 3 log_2( 0 / 3 ))+( 3 / 3 log_2( 3 / 3 )))\n",
      "entropy_occ = 0.0\n",
      "entropy_for = -(( 3 / 3 log_2( 3 / 3 ))+( 0 / 3 log_2( 0 / 3 )))\n",
      "entropy_for = 0.0\n",
      "entropy_freq = -(( 3 / 3 log_2( 3 / 3 ))+( 0 / 3 log_2( 0 / 3 )))\n",
      "entropy_freq = 0.0\n",
      "Information gain: Smoking  = S - A\n",
      "Information gain:  Smoking  = S - ( 3 / 12 entropy_non+ 3 / 12 entropy_occ, 3 / 12 entropy_for+ 3 / 12 entropy_freq)\n",
      "Information gain:  Smoking  = 0.6887260414863776\n",
      "Information gain:  Smoking  = 0.6887\n"
     ]
    }
   ],
   "source": [
    "# one of our attributes has 4 options rather than 2\n",
    "def info_gain4(name, S, non, nonYes, nonNo, occ, occYes, occNo, forr, forYes, forNo, freq, freqYes, freqNo):\n",
    "    print(\"entropy_non = -((\",nonYes,\"/\",non,\"log_2(\",nonYes,\"/\",non,\"))+(\",nonNo,\"/\",non,\"log_2(\",nonNo,\"/\",non,\")))\")\n",
    "    entropy_non = entropy_calculator(nonYes/non) + entropy_calculator(nonNo/non) \n",
    "    print(\"entropy_non =\", entropy_non)\n",
    "    \n",
    "    print(\"entropy_occ = -((\",occYes,\"/\",occ,\"log_2(\",occYes,\"/\",occ,\"))+(\",occNo,\"/\",occ,\"log_2(\",occNo,\"/\",occ,\")))\")\n",
    "    entropy_occ = entropy_calculator(occYes/occ) + entropy_calculator(occNo/occ) \n",
    "    print(\"entropy_occ =\", entropy_occ)\n",
    "    \n",
    "    print(\"entropy_for = -((\",forYes,\"/\",forr,\"log_2(\",forYes,\"/\",forr,\"))+(\",forNo,\"/\",forr,\"log_2(\",forNo,\"/\",forr,\")))\")\n",
    "    entropy_for = entropy_calculator(forYes/forr) + entropy_calculator(forNo/forr) \n",
    "    print(\"entropy_for =\", entropy_for)\n",
    "    \n",
    "    print(\"entropy_freq = -((\",freqYes,\"/\",freq,\"log_2(\",freqYes,\"/\",freq,\"))+(\",freqNo,\"/\",freq,\"log_2(\",freqNo,\"/\",freq,\")))\")\n",
    "    entropy_freq = entropy_calculator(freqYes/freq) + entropy_calculator(freqNo/freq) \n",
    "    print(\"entropy_freq =\", entropy_freq)\n",
    "    \n",
    "    \n",
    "    \n",
    "    print(\"Information gain:\", name,\" = S - A\")\n",
    "    print(\"Information gain: \", name,\" = S - (\",non,\"/\",12,\"entropy_non+\",occ,\"/\",12,\"entropy_occ,\",forr,\"/\",12,\"entropy_for+\",freq,\"/\",12,\"entropy_freq)\")\n",
    "    frac1 = non/12\n",
    "    frac2 = occ/12\n",
    "    frac3 = forr/12\n",
    "    frac4 = freq/12\n",
    "    \n",
    "    infoGain = S - ((frac1*entropy_non + frac2*entropy_occ + frac3*entropy_for + frac4*entropy_freq))\n",
    "    print(\"Information gain: \", name,\" =\",infoGain)\n",
    "    print(\"Information gain: \", name,\" =\",round(infoGain, 4))\n",
    "\n",
    "\n",
    "    \n",
    "    \n",
    "\n",
    "\n",
    "info_gain4(\"Smoking\", 0.9183, 3,2,1, 3,0,3, 3,3,0, 3,3,0)"
   ]
  },
  {
   "cell_type": "code",
   "execution_count": 64,
   "id": "2d7ad2d2-05b0-46a5-8e50-5ad4abd7b2ea",
   "metadata": {},
   "outputs": [
    {
     "name": "stdout",
     "output_type": "stream",
     "text": [
      "IG = 0.6887\n",
      "Intrinsic information = -(( 0.25 log_2( 0.25 ))+( 0.25 log_2( 0.25 ))+( 0.25 log_2( 0.25 ))+( 0.25 log_2( 0.25 )))\n",
      "II = 2.0\n",
      "gain ratio: Smoking = IG/II\n",
      "gain ratio: Smoking = 0.34435\n"
     ]
    }
   ],
   "source": [
    "# now time for problem 5b\n",
    "\n",
    "\n",
    "\n",
    "def gain_ratio(name, IG, f1, f2):\n",
    "    print(\"IG =\", IG)\n",
    "    print(\"Intrinsic information = -((\",f1,\"log_2(\",f1,\"))+(\",f2,\"log_2(\",f2,\")))\")\n",
    "    II = entropy_calculator(f1) + entropy_calculator(f2)\n",
    "    print(\"II =\", II)\n",
    "    print(\"gain ratio:\", name, \"= IG/II\")\n",
    "    print(\"gain ratio:\", name, \"=\", IG/II)\n",
    "    \n",
    "    \n",
    "# one of our attributes has 4 possible paramaters, so we will modify our function\n",
    "def gain_ratio4(name, IG, f1, f2, f3, f4):\n",
    "    print(\"IG =\", IG)\n",
    "    print(\"Intrinsic information = -((\",f1,\"log_2(\",f1,\"))+(\",f2,\"log_2(\",f2,\"))+(\",f3,\"log_2(\",f3,\"))+(\",f4,\"log_2(\",f4,\")))\")\n",
    "    II = entropy_calculator(f1) + entropy_calculator(f2)+ entropy_calculator(f3)+ entropy_calculator(f4)\n",
    "    print(\"II =\", II)\n",
    "    print(\"gain ratio:\", name, \"= IG/II\")\n",
    "    print(\"gain ratio:\", name, \"=\", IG/II)\n",
    "\n",
    "gain_ratio4(\"Smoking\", 0.6887, 3/12, 3/12, 3/12, 3/12)"
   ]
  },
  {
   "cell_type": "code",
   "execution_count": null,
   "id": "7715a541-4d81-4407-afc0-0ac2429bbe69",
   "metadata": {},
   "outputs": [],
   "source": []
  }
 ],
 "metadata": {
  "kernelspec": {
   "display_name": "Python 3 (ipykernel)",
   "language": "python",
   "name": "python3"
  },
  "language_info": {
   "codemirror_mode": {
    "name": "ipython",
    "version": 3
   },
   "file_extension": ".py",
   "mimetype": "text/x-python",
   "name": "python",
   "nbconvert_exporter": "python",
   "pygments_lexer": "ipython3",
   "version": "3.10.8"
  }
 },
 "nbformat": 4,
 "nbformat_minor": 5
}
