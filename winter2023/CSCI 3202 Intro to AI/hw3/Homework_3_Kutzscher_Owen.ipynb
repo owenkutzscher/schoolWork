{
 "cells": [
  {
   "cell_type": "markdown",
   "metadata": {},
   "source": [
    "---\n",
    "\n",
    "# CSCI 3202, Fall 2023\n",
    "# Homework 3\n",
    "# Due: Wednesday October 11, 2022 at 11:59 PM\n",
    "\n",
    "### 60 points total\n",
    "<br> \n",
    "\n",
    "### Your name: Owen Kutzscher\n",
    "\n",
    "<br> "
   ]
  },
  {
   "cell_type": "markdown",
   "metadata": {},
   "source": [
    "---\n",
    "\n",
    "There is no coding in this assignment. Type your answers in a Markdown cell using Latex formatting commands. If you're unfamiliar with Latex, it's used for formatting equations and other mathematical content. Here are a few examples that you might find useful.\n",
    "### Displaying an equation:\n",
    "$$P(a | b ) = 0.5$$\n",
    "### Displaying a fraction:\n",
    "$$ \\frac{a}{b}$$\n",
    "### Nested fractions:\n",
    "$$ \\frac{a}{\\frac{c}{b}}$$\n",
    "### Adding fractions:\n",
    "$$ \\frac{a}{b} + \\frac{d}{c}$$\n",
    "\n",
    "When you type your answers for each of the questions in this assignment, we need to see that you know how to set up the problem, including values assigned to individual components of the problem. We don't need to see every step of your calculations, just your final computed answer.\n",
    "\n",
    "For more information about how to use Latex, here is a great reference: https://ashki23.github.io/markdown-latex.html"
   ]
  },
  {
   "cell_type": "markdown",
   "metadata": {},
   "source": [
    "### 1. Playing Card Probabilities (8 points)\n",
    "\n",
    "Consider a standard deck of playing cards and answer the following questions:"
   ]
  },
  {
   "cell_type": "markdown",
   "metadata": {},
   "source": [
    "### a. What is the probability of drawing a Queen of any suit?"
   ]
  },
  {
   "cell_type": "markdown",
   "metadata": {},
   "source": [
    "$p(queen) = \\frac{numberOfQueensInDeck}{numberOfCardsInDeck}$\n",
    "\n",
    "$p(queen) = \\frac{4}{52}$\n",
    "\n",
    "$p(queen) = \\frac{1}{13}$"
   ]
  },
  {
   "cell_type": "markdown",
   "metadata": {},
   "source": [
    "### b. What is the probability of drawing a card that is of a red suit?"
   ]
  },
  {
   "cell_type": "markdown",
   "metadata": {},
   "source": [
    "$p(redSuit) = \\frac{numberOfCardsWithRedSuitInDeck}{numberOfCardsInDeck}$\n",
    "\n",
    "$p(redSuit) = \\frac{26}{52}$\n",
    "\n",
    "$p(redSuit) = \\frac{1}{2}$"
   ]
  },
  {
   "cell_type": "markdown",
   "metadata": {},
   "source": [
    "### c. What is the probability of drawing a Queen OR a card of a red suit?"
   ]
  },
  {
   "cell_type": "markdown",
   "metadata": {},
   "source": [
    "$Q = queen$\n",
    "\n",
    "$R = redSuit$\n",
    "\n",
    "$p(Q or R) = p(Q) + p(R)$\n",
    "\n",
    "$p(Q or R) = \\frac{1}{13} + \\frac{1}{2}$\n",
    "\n",
    "$p(Q or R) = \\frac{15}{26}$"
   ]
  },
  {
   "cell_type": "markdown",
   "metadata": {},
   "source": [
    "### d. Describe in your own words what a joint probability is."
   ]
  },
  {
   "cell_type": "markdown",
   "metadata": {},
   "source": [
    "Joint probability is the probability that two events occur simultaniously. We calculate it by multiplying the probabilities of events A and B occuring seperately to get the probability of them occuring together."
   ]
  },
  {
   "cell_type": "markdown",
   "metadata": {},
   "source": [
    "### 2. Rolling Dice (12 points)\n",
    "\n",
    "Consider two die with 6 equally weighted sides."
   ]
  },
  {
   "cell_type": "markdown",
   "metadata": {},
   "source": [
    "### a. What is the probability of a dice roll summing to 9?"
   ]
  },
  {
   "cell_type": "markdown",
   "metadata": {},
   "source": [
    "$p(sumTo9) = 2 * (p(6) * p(3)) + 2 * (p(5) * p(4))$\n",
    "\n",
    "$p(sumTo9) = 2 * (\\frac{1}{6} * \\frac{1}{6}) + 2 * (\\frac{1}{6} * \\frac{1}{6})$\n",
    "\n",
    "$p(sumTo9) = \\frac{1}{18} + \\frac{1}{18}$\n",
    "\n",
    "$p(sumTo9) = \\frac{1}{9}$"
   ]
  },
  {
   "cell_type": "markdown",
   "metadata": {},
   "source": [
    "### b. What is the probability of a dice roll summing to an odd number 8 times in a row?"
   ]
  },
  {
   "cell_type": "markdown",
   "metadata": {},
   "source": [
    "$p(sumToOddNumber) = (p(oddNumber))^8$\n",
    "\n",
    "$p(sumToOddNumber) = (\\frac{1}{9})^8$\n",
    "\n",
    "$p(sumToOddNumber) = \\frac{1}{43046721}$"
   ]
  },
  {
   "cell_type": "markdown",
   "metadata": {},
   "source": [
    "### c. Let's say that you roll one dice at a time. Your first die comes up as an odd number. What is the probability that your dice will sum to 9 after you roll the second die?"
   ]
  },
  {
   "cell_type": "markdown",
   "metadata": {},
   "source": [
    "$p(nextDiceSumsTo9 | firstRollOdd) = p(roll1:3) * p(roll2:6) + p(roll1: 5) * p(roll2: 4)$\n",
    "\n",
    "$p(nextDiceSumsTo9 | firstRollOdd) = \\frac{1}{3} * \\frac{1}{6} + \\frac{1}{3} * \\frac{1}{6}$\n",
    "\n",
    "$p(nextDiceSumsTo9 | firstRollOdd) = \\frac{1}{9}$"
   ]
  },
  {
   "cell_type": "markdown",
   "metadata": {},
   "source": [
    "### 3. Conditional Probability (20 points)\n",
    "The CU Buffs football team is preparing for a big game against their rival, and sports analysts are trying to predict whether the Buffs will win or lose. They have collaborated with a group of dedicated CU Buffs fans who are known for their accurate predictions about the team's performance. There are a total of 2389 game predictions in their data set, of which 1497 are a victory for CU Buffs. The sports prediction model correctly forecasts 1425 games as CU Buffs victories and 461 games as losses. However, the model isn't perfect and sometimes makes incorrect predictions. It incorrectly predicted 431 losses as Buffs victories and 72 victories as losses.\n",
    "\n",
    "|                       |   True_Win   |   True_Lose   |\n",
    "| -----------           | -----------  | -----------   |\n",
    "| <b>Pred_Win</b>       | 1425         | 431           |\n",
    "| <b>Pred_Lose</b>      | 72           | 461           |\n",
    "| <b>Total</b>          | 1497         | 892           |"
   ]
  },
  {
   "cell_type": "markdown",
   "metadata": {
    "tags": []
   },
   "source": [
    "#### (a)\n",
    "If the CU Buffs team actually win a game, what is the chance the ML classifier correctly identified the game as a victory?"
   ]
  },
  {
   "cell_type": "markdown",
   "metadata": {},
   "source": [
    "$p(predictsWin|trueWin) = \\frac{predictsWinAndtrueWinCOUNT}{trueWinCOUNT}$\n",
    "\n",
    "$p(predictsWin|trueWin) = \\frac{1425}{1497}$\n",
    "\n",
    "$p(predictsWin|trueWin) = \\frac{1425}{1497}$\n",
    "\n",
    "$p(predictsWin|trueWin) = 0.9519$\n"
   ]
  },
  {
   "cell_type": "markdown",
   "metadata": {},
   "source": [
    "#### (b)\n",
    "We sample a game from the data set and learn the ML algorithm predicted this game as a loss. What is the probability that it was incorrect and CU Buffs actually won that game?"
   ]
  },
  {
   "cell_type": "markdown",
   "metadata": {},
   "source": [
    "$p(trueWin|predictsLoss) = \\frac{p(trueWinAndPredictsLossCOUNT)}{p(predictsLossCOUNT)}$\n",
    "\n",
    "$p(trueWin|predictsLoss) = \\frac{72}{72+461}$\n",
    "\n",
    "$p(trueWin|predictsLoss) = 0.1351$"
   ]
  },
  {
   "cell_type": "markdown",
   "metadata": {},
   "source": [
    "#### (c)\n",
    "What is the difference between a <i>joint probability</i> and a <i>marginal probability</i>?"
   ]
  },
  {
   "cell_type": "markdown",
   "metadata": {},
   "source": [
    "Joint probability is the probability of two events occuring simultaniously. Marginal probability is when we calculate the probability of an event occuring given each possible state of another event. For example the probabilty Owen bikes to school given its sunny + probabilty bikes to school given rainy + probabily bikes to school given windy ... = probabilyt Owen bikes to school."
   ]
  },
  {
   "cell_type": "markdown",
   "metadata": {},
   "source": [
    "#### (d)\n",
    "What is the probability that the machine learning system predicted that a game was a victory? Is this a joint or a marginal probability?"
   ]
  },
  {
   "cell_type": "markdown",
   "metadata": {},
   "source": [
    "$p(predictsWin) = p(predictsWin|actualLoss) + p(predictsWin|actualWin)$\n",
    "\n",
    "$p(predictsWin) = \\frac{431}{1497+892} + \\frac{1425}{1497+892}$\n",
    "\n",
    "$p(predictsWin) = \\frac{1856}{2389}$\n",
    "\n",
    "$p(predictsWin) = 0.7769$\n",
    "\n",
    "\n",
    "This is a marginal probability since we need to add up the probabilties of the system predicting win given each state of the actual game outcome."
   ]
  },
  {
   "cell_type": "markdown",
   "metadata": {},
   "source": [
    "### 4. Bayes' Rule (20 points)"
   ]
  },
  {
   "cell_type": "markdown",
   "metadata": {},
   "source": [
    "### (a). \n",
    "Two bags contain different combinations of candies. Bag 1 has six chocolates and four gummy bears, while Bag 2 has five chocolates and five gummy bears. A bag is chosen at random: P(bag=1) = P(bag=2) = 0.5, and a candy drawn from this bag happens to be a chocolate. What is the probability that the chocolate came from Bag 1? (i.e., P(bag=1 | candy=chocolate)=?)"
   ]
  },
  {
   "cell_type": "markdown",
   "metadata": {},
   "source": [
    "$p(bag1Chosen|candyIsChocolate) = \\frac{p(candyIsChocolate|bag1Chosen)p(bag1Chosen)}{p(candyIsChocolate)}$\n",
    "\n",
    "$p(bag1Chosen|candyIsChocolate) = \\frac{\\frac{6}{10}\\frac{1}{2}}{\\frac{1}{2}\\frac{6}{10}+\\frac{1}{2}\\frac{5}{10}}$\n",
    "\n",
    "$p(bag1Chosen|candyIsChocolate) = \\frac{\\frac{3}{10}}{\\frac{11}{20}}$\n",
    "\n",
    "$p(bag1Chosen|candyIsChocolate) = 0.5455$"
   ]
  },
  {
   "cell_type": "markdown",
   "metadata": {},
   "source": [
    "### (b).\n",
    "\n",
    "Two cards are placed in an envelope as follows: A fair six-sided die is rolled, and a blue card is placed in the envelope if an even number (2, 4, or 6) comes up, otherwise a red card is placed in the envelope. The die is rolled again, and a red card is placed in the envelope if an odd number (1, 3, or 5) comes up, otherwise a blue card is placed in the envelope. Cards are drawn from the envelope three times in succession (always replacing the drawn card back in the envelope). It is found that on all three occasions a red card is drawn. What is the probability that both cards in the envelope are red?"
   ]
  },
  {
   "cell_type": "markdown",
   "metadata": {},
   "source": [
    "$p(bothCardsRed|3RedDrawn) = \\frac{p(3RedDrawn|bothCardsRed)p(bothCardsRed)}{p(3RedDrawn)}$\n",
    "\n",
    "$p(bothCardsRed|3RedDrawn) = \\frac{1*\\frac{1}{4}}{1*\\frac{1}{4} + \\frac{1}{4}*\\frac{1}{4} + 0*\\frac{1}{4}}$\n",
    "\n",
    "$p(bothCardsRed|3RedDrawn) = \\frac{\\frac{1}{4}}{\\frac{5}{16}}$\n",
    "\n",
    "$p(bothCardsRed|3RedDrawn) = \\frac{4}{5}$\n",
    "\n"
   ]
  },
  {
   "cell_type": "markdown",
   "metadata": {},
   "source": [
    "### (c).\n",
    "A secret government agency has developed a scanner that determines whether a person is an alien imposter. The scanner detects alien imposters with 95% reliability. However, 1% of the time the test returns a false positive for an upstanding citizen. The alien imposters are very dangerous, but also quite rare, with a prevalence in the population of only 0.1%. Upon a tip from an informant, the agency has administered the scanner to a suspicious person. \n",
    "\n",
    "#### i. \n",
    "Use the *Law of Total Probability* to calculate the probability that the suspicious person will test positive.\n",
    "\n",
    "#### ii.\n",
    "What is the probability that the person is actually an alien imposter given that they do test positive?"
   ]
  },
  {
   "cell_type": "markdown",
   "metadata": {},
   "source": [
    "$p(positive) = p(positive|alien)p(alien)+p(positive|NOTAlien)p(NOTAlien)$\n",
    "\n",
    "$p(positive) = 0.95*0.001 + 0.01*0.999$\n",
    "\n",
    "$p(positive) = 0.01094$\n",
    "\n",
    "$p(positive) = 1.094$\n",
    "\n",
    "\n",
    "$p(alien|positive) = \\frac{p(positive|alien)p(alien)}{p(positive)}$\n",
    "\n",
    "$p(alien|positive) = \\frac{0.95*0.001}{0.01094}$\n",
    "\n",
    "$p(alien|positive) = 0.08683$\n",
    "\n",
    "$p(alien|positive) = 8.683$"
   ]
  },
  {
   "cell_type": "code",
   "execution_count": null,
   "metadata": {},
   "outputs": [],
   "source": []
  }
 ],
 "metadata": {
  "kernelspec": {
   "display_name": "Python 3 (ipykernel)",
   "language": "python",
   "name": "python3"
  },
  "language_info": {
   "codemirror_mode": {
    "name": "ipython",
    "version": 3
   },
   "file_extension": ".py",
   "mimetype": "text/x-python",
   "name": "python",
   "nbconvert_exporter": "python",
   "pygments_lexer": "ipython3",
   "version": "3.10.8"
  }
 },
 "nbformat": 4,
 "nbformat_minor": 4
}
