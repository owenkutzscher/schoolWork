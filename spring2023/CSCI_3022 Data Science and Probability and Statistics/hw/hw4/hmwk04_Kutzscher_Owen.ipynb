{
 "cells": [
  {
   "cell_type": "markdown",
   "metadata": {},
   "source": [
    "<a id='top'></a>\n",
    "\n",
    "# CSCI3022 S23\n",
    "\n",
    "\n",
    "\n",
    "# Homework 4: Discrete Random Variables\n",
    "\n",
    "## Due Monday, February 13th at 11:59pm to Gradescope\n",
    "***\n",
    "\n",
    "**Name**: ________________________________________________________________________\n",
    "\n",
    "***\n",
    "\n",
    "***\n",
    "### Collaboration Policy\n",
    "\n",
    "While completing the assignment you are not allowed to consult any source other than the course textbooks/online reference links provided on Canvas, your own class notes, and/or the posted lecture slides/in-class Jupyter notebooks.   You may discuss questions you have with your classmates or on Piazza or in office hours, but all work you submit must be your own, which means when writing up your solutions or code, you MUST do it entirely by yourself. \n",
    "\n",
    "You should be able to easily reproduce from scratch and explain a solution that was your own when asked in office hours by a TA/Instructor or on a quiz/exam without referencing your notes/book/HW.   \n",
    "\n",
    "\n",
    "**Do not search/ask for a solution online**: You may not actively search for a solution to the problems below from the internet. This includes posting to or using sources like ChatGPT, StackOverflow, StackExchange, Reddit, Chegg, CourseHero, etc.  \n",
    "\n",
    "**We are here to help!  Visit HW Hours and/or post questions on Piazza!**\n",
    "\n",
    "\n",
    "Copying/consulting from the solution of another classmate or an online solution (or providing a classmate your solution) constitutes a **violation of the course's collaboration policy and the honor code and will result in an F in the course and a trip to the honor council**.   \n",
    "\n",
    "\n",
    "\n",
    "\n",
    "\n",
    "\n",
    "### Instructions for Submitting in Correct Format \n",
    "\n",
    "You must submit a PDF of this Juptyer notebook to Gradescope by the deadline listed above.  Submissions that are not a PDF or that are not submitted to Gradescope will not be counted for credit.  \n",
    "\n",
    "$\\color{red}{\\text{Before submitting your PDF, make sure that your LaTeX has rendered correctly in your PDF.}}$\n",
    "$\\color{red}{\\text{Any of your solutions with incorrectly rendered or incompletely rendered LaTeX will be given 0 points.}}$ \n",
    "\n",
    "- There are several ways to quickly make a .pdf out of this notebook for Gradescope submission.  \n",
    " \n",
    " - If you are running Juptyer locally on your computer: \n",
    " \n",
    "     - Option1 : Select Kernel->Restart & Run All.  Then select File ->  Print Preview, and then Right-Click -> Print using your default browser and \"Print to PDF\"\n",
    " \n",
    "     - Option 2: Select Kernel->Restart & Run All.   Then select File -> Download as PDF via LaTeX.  This will require your system path find a working install of a TeX compiler\n",
    " \n",
    " - If you are running using CSEL: \n",
    " \n",
    "     - Option1 :  Go to File ->Save & Export Notebook As-> HTML.  Then open the HTML, and then Right-Click -> Print and select \"Print to PDF\".  \n",
    "     - Option2 :  Go to File ->Download. Then use this converter https://htmtopdf.herokuapp.com/ipynbviewer/ to convert ipynb to pdf.\n",
    " \n",
    "### Notes\n",
    "- For full points you must correctly match your questions to the respective Gradescope problem, and include clear comments in your code.   Please note that any LaTeX that is not correctly rendered in your submitted PDF will result in a 0 on the entire problem(s) that involves the unrendered LaTeX. \n",
    "- For any question that asks you to calculate something, you **must show all work and justify your answers to receive credit**. Sparse or nonexistent work will receive sparse or nonexistent credit. \n",
    "- Any relevant data sets are available on Canvas. \n",
    "- LaTeX Tips:  Here is a [reference guide] (https://math.meta.stackexchange.com/questions/5020/mathjax-basic-tutorial-and-quick-reference).  **All** of your written commentary, justifications and mathematical work should be in Markdown.  I also recommend the [wikibook](https://en.wikibooks.org/wiki/LaTeX) for LaTex.\n",
    "- Because you can technically evaluate notebook cells is a non-linear order, it's a good idea to do **Kernel $\\rightarrow$ Restart & Run All** as a check before submitting your solutions.  \n",
    "- It is **bad form** to make your reader interpret numerical output from your code.  If a question asks you to compute some value from the data you should show your code output **AND** write a summary of the results in Markdown directly below your code. \n",
    "\n",
    "- There is *not a prescribed API* for these problems.  You may answer coding questions with whatever syntax or object typing you deem fit.  Your evaluation will primarily live in the clarity of how well you present your final results, so don't skip over any interpretations!  Your code should still be commented and readable to ensure you followed the given course algorithm.\n",
    "\n"
   ]
  },
  {
   "cell_type": "markdown",
   "metadata": {},
   "source": [
    "Import Pandas and NumPy."
   ]
  },
  {
   "cell_type": "code",
   "execution_count": 1,
   "metadata": {},
   "outputs": [],
   "source": [
    "# Per the standard import pandas as 'pd' and numpy as 'np'\n",
    "import pandas as pd\n",
    "import numpy as np\n",
    "\n",
    "# You may need binom to calculate a binomial coefficient\n",
    "from scipy.special import binom"
   ]
  },
  {
   "cell_type": "markdown",
   "metadata": {},
   "source": [
    "In case you create a graph, load Matplotlib's Pylab library to set up Jupyter so that it will plot directly in the notebook."
   ]
  },
  {
   "cell_type": "code",
   "execution_count": 2,
   "metadata": {},
   "outputs": [],
   "source": [
    "import matplotlib.pylab as plt\n",
    "%matplotlib inline \n",
    "    # 'inline' puts your graph in the cell versus a new popup window"
   ]
  },
  {
   "cell_type": "markdown",
   "metadata": {},
   "source": [
    "# Problem 1 (14 pts)\n",
    "***\n",
    "\n",
    "Dana and Brennan have created a new variation of baseball.  It's hard to play with only 2 of them, so they instead have a simplifed variant of a game with the following properties:\n",
    "\n",
    "- The game consists of rounds:\n",
    "    - In each round, Dana gets one attempt to hit a pitch thrown by Brennan.  Her probability of hitting any one pitch is $p$ and is independent of what occurred in previous rounds.\n",
    "    - Then Brennan gets one attempt to hit a pitch thrown by Dana.  His probability of hitting any one pitch is $q$ and is also independent from Dana's result and what occurred in previous rounds. \n",
    "    - If one of them succeeds and the other doesn't, the one that succeeded is the winner and the game ends!\n",
    "    - If they both fail **OR** they both succeed, they proceed to the next round.\n",
    "- The game will continue until one of them wins.\n",
    "\n",
    "Denote the following:\n",
    "- D is the event that Dana wins the **game** at the end.\n",
    "- E is the event that the game ends in the first round.\n",
    "\n",
    "\n",
    "\n",
    "**Part A**: The game will continue until one of them wins.  Represent the outcomes of individual hits by $H$ for a hit and $M$ for a miss, and assume that Dana has the first attempt in each round. \n",
    "\n",
    "\n",
    "Write out the first few events (i.e. all the events that include one round and all the events that include 2 rounds) in the sample space $\\Omega$.  Notice that since the sample space $\\Omega$  is infinite, so you won't be able to actually write out the entire set.  "
   ]
  },
  {
   "cell_type": "markdown",
   "metadata": {},
   "source": [
    "**Solution**: \n",
    "\n",
    "# Events given game ends 1st round\n",
    "$(HM, MH)$\n",
    "\n",
    "\n",
    "# Events given game ends 2nd round\n",
    "$(HH, MM, HHHM, HHMH, MMHM, MMMH)$\n"
   ]
  },
  {
   "cell_type": "markdown",
   "metadata": {},
   "source": [
    "**B:** Determine $P(D \\mid E)$ in terms of $p$ and $q$."
   ]
  },
  {
   "cell_type": "markdown",
   "metadata": {},
   "source": [
    "**Solution**:\n",
    "\n",
    "$P(D|E) = \\frac{(D\\cap E)}{P(E)}$\n",
    "\n",
    "$\\implies \\frac{P(HM)}{P(HM,MH)}$\n",
    "\n",
    "$\\implies \\frac{(p)(1-q)}{(p)(1-q) + (q)(1-p)}$\n",
    "\n",
    "$\\implies \\frac{p-qp}{p+q-2qp}$\n",
    "\n",
    "***"
   ]
  },
  {
   "cell_type": "markdown",
   "metadata": {},
   "source": [
    "**C**: Explain in words why the events $D$ and $E^C$ are independent (for this problem you can do this using words/intuition; you do not need to prove this mathematically)"
   ]
  },
  {
   "cell_type": "markdown",
   "metadata": {},
   "source": [
    "**Solution**:\n",
    "\n",
    "The proability that Dana wins eventually, and the probabilty that the game does not end on the first round are independent because the probability that Dana wins does not depend on if the game ends on the first round. And the probability the game ends on the first round is independent of if Dana wins eventually. \n",
    "\n",
    "***"
   ]
  },
  {
   "cell_type": "markdown",
   "metadata": {},
   "source": [
    "**D**: Use the Law of Total Probability to show that $P(D) = p(1-q) + (2pq - p - q +1) P(D \\mid E^C)$."
   ]
  },
  {
   "cell_type": "markdown",
   "metadata": {},
   "source": [
    "**Solution**: \n",
    "\n",
    "\n",
    "$P(D) = P(D|E)P(E) + P(D|E^C)P(E^C)$\n",
    "\n",
    "$P(E^C) = P(HH,MM)$\n",
    "\n",
    "$\\implies (pq) + ((1-p)(1-q))$\n",
    "$\\implies 1-p-q+2pq$\n",
    "\n",
    "\n",
    "$\\implies (\\frac{p(1-q)}{p+q-2pq})(p+q-2pq) + P(D|E^C)(1-p-q+2pq)$\n",
    "\n",
    "$\\implies p(1-q) + (2pq - p - q +1) P(D \\mid E^C)$\n",
    "\n",
    "\n",
    "***"
   ]
  },
  {
   "cell_type": "markdown",
   "metadata": {},
   "source": [
    "**E**: Use the fact from **Part C** that $P(D \\mid E^C) = P(D)$ and your work in **Part D** to determine $P(D)$ in terms of $p$ and $q$. "
   ]
  },
  {
   "cell_type": "markdown",
   "metadata": {},
   "source": [
    "**Solution**:\n",
    "\n",
    "$P(D)=p(1-q) + (2pq - p - q + 1)P(D)$\n",
    "\n",
    "$1 = \\frac{p(1-q)}{P(D)} + (2pq - p - q + 1)$\n",
    "\n",
    "$\\frac{p(1-q)}{P(D)} = 1 - (2pq - p - q + 1)$\n",
    "\n",
    "$P(D) = \\frac{p(1-q)}{1 - (2pq - p - q + 1)}$\n",
    "\n",
    "$P(D) = \\frac{p-qp}{p+q-2qp}$\n",
    "\n",
    "***"
   ]
  },
  {
   "cell_type": "markdown",
   "metadata": {},
   "source": [
    "**Part F (2 Points)**: Explain why the answers to **Part B** and **Part E** are the same. \n"
   ]
  },
  {
   "cell_type": "markdown",
   "metadata": {},
   "source": [
    "**Solution**:\n",
    "\n",
    "The answers to **Part B** and **Part D** are the same because the probability of Dana winning eventually is not dependent on what round the game ends on. And the probability the game ends on the first round or not on the first round does not depend on Dana eventually winning\n",
    "\n",
    "***"
   ]
  },
  {
   "cell_type": "markdown",
   "metadata": {},
   "source": [
    "# Problem 2 (7 pts)\n",
    "***\n",
    "\n",
    "You drink 3 cups of coffee each day, and in a continuation of your plans to change your diet you decide to stop using sugar in your coffee.\n",
    "\n",
    "However, you find it too difficult to completely stop using sugar. Therefore, 20% of the time you end up using sugar in your coffee anyway.\n",
    "\n",
    "Let $X$ be the random variable that indicates the number of 'sugared' coffees **out of a total of three** that you drink per day.\n",
    "\n",
    "### Part A ***(3 points)*** \n",
    "***\n",
    "\n",
    " What is the PMF (i.e. probability mass function) for $X$? Consider 'no sugar' to be success.  Represent your answer in 3 different ways:  \n",
    "- As a closed form function\n",
    "- In a table\n",
    "- As a density histogram (with bin width = 1)"
   ]
  },
  {
   "cell_type": "markdown",
   "metadata": {},
   "source": [
    "***Solution:*** \n",
    "\n",
    "**Closed form function**\n",
    "\n",
    "Use binomial distribution theorem.\n",
    "\n",
    "$f(k) = \\binom{3}{k} (0.20)^k (1-0.20)^{3-k}$\n",
    "\n",
    "\n",
    "\n",
    "**table**\n",
    "\n",
    "$\\begin{array}{c|ccccc}\n",
    "a & 0 & 1 & 2 & 3 \\\\\n",
    "\\hline\n",
    "f(a) & \\frac{64}{125} & \\frac{48}{125} & \\frac{12}{125} & \\frac{1}{125} \\\\\n",
    "\\end{array}$\n",
    "\n"
   ]
  },
  {
   "cell_type": "code",
   "execution_count": 3,
   "metadata": {},
   "outputs": [
    {
     "data": {
      "image/png": "[encoded data removed]",
      "text/plain": [
       "<Figure size 640x480 with 1 Axes>"
      ]
     },
     "metadata": {},
     "output_type": "display_data"
    }
   ],
   "source": [
    "# density histogram\n",
    "\n",
    "\n",
    "a0=np.zeros(64)\n",
    "a1=np.ones(48)\n",
    "a2=np.ones(12)*2\n",
    "a3=np.ones(1)*3\n",
    "\n",
    "sample_for_hist=np.concatenate((a0,a1,a2,a3),axis=None)\n",
    "\n",
    "\n",
    "bins = np.arange(-0.5, 5.5, 1)\n",
    "\n",
    "fig, ax = plt.subplots()\n",
    "\n",
    "#Plot histogram of array:\n",
    "ax.hist(sample_for_hist, edgecolor='white', density=True,bins=bins, rwidth=1)\n",
    "ax.set_axisbelow(True)\n",
    "ax.set_ylim([0, 0.45])\n",
    "ax.set_xlim([-0.5, 4.5])\n",
    "ax.grid(alpha=0.25)"
   ]
  },
  {
   "cell_type": "markdown",
   "metadata": {},
   "source": [
    "### Part B ***(3 points)*** \n",
    "***\n",
    "\n",
    "What is the CDF (i.e. cumulative distribution function) for $X$?  Represent your answer in 3 different ways:\n",
    "\n",
    "- A piecewise function.\n",
    "- A table.\n",
    "- A piecewise graph (write code to create this graph).\n",
    "\n",
    "\n",
    "\n",
    "\n",
    "\n",
    "***"
   ]
  },
  {
   "cell_type": "markdown",
   "metadata": {},
   "source": [
    "**piecewise function**\n",
    "\n",
    "$\\begin{equation}\n",
    "F(X)=\n",
    "    \\begin{cases}\n",
    "        0 & \\text{if } -\\infty<x<0\\\\\n",
    "        \\frac{64}{125} & \\text{if } 0\\leq x<1\\\\\n",
    "        \\frac{112}{125} & \\text{if } 1\\leq x<2\\\\\n",
    "        \\frac{124}{125} & \\text{if } 2\\leq x<3\\\\\n",
    "        1 & \\text{if } x \\geq 3\\\\\n",
    "    \\end{cases}\n",
    "\\end{equation}$\n",
    "\n",
    "\n",
    "$\\begin{array}{c|ccccc}\n",
    "x & 0 & 1 & 2 & 3 \\\\\n",
    "\\hline\n",
    "F(X) & \\frac{64}{125} & \\frac{112}{125} & \\frac{124}{125} & \\frac{1}{1} \\\\\n",
    "\\end{array}$\n",
    "\n"
   ]
  },
  {
   "cell_type": "code",
   "execution_count": 4,
   "metadata": {},
   "outputs": [
    {
     "data": {
      "text/plain": [
       "(-0.01, 1.01)"
      ]
     },
     "execution_count": 4,
     "metadata": {},
     "output_type": "execute_result"
    },
    {
     "data": {
      "image/png": "[encoded data removed]",
      "text/plain": [
       "<Figure size 640x480 with 1 Axes>"
      ]
     },
     "metadata": {},
     "output_type": "display_data"
    }
   ],
   "source": [
    "#Create an array that starts at smallest x-value minus 1 and ends at largest x-value plus 2:\n",
    "data = np.arange(-1, 5)\n",
    "\n",
    "#Enter in non-zero CDF values from CDF table:\n",
    "\n",
    "y = np.array([64/125, 112/125, 124/125,1])\n",
    "\n",
    "#Create a 2nd array for formatting piecewise endpoints\n",
    "yn = np.insert(y, 0, 0)\n",
    "\n",
    "fig, ax = plt.subplots()\n",
    "ax.set_facecolor('white')\n",
    "\n",
    "# https://matplotlib.org/api/_as_gen/matplotlib.axes.Axes.hlines.html\n",
    "ax.hlines(y=yn, xmin=data[:-1], xmax=data[1:],\n",
    "          color='red', zorder=1)\n",
    "\n",
    "# https://matplotlib.org/api/_as_gen/matplotlib.axes.Axes.vlines.html\n",
    "#ax.vlines(x=data[1:-1], ymin=yn[:-1], ymax=yn[1:], color='red',linestyle='dashed', zorder=1)\n",
    "\n",
    "ax.scatter(data[1:-1], y, color='red', s=18, zorder=2)\n",
    "ax.scatter(data[1:-1], yn[:-1], color='white', s=18, zorder=2,\n",
    "           edgecolor='red')\n",
    "ax.grid(False)\n",
    "ax.set_xlim(data[0], data[-1])\n",
    "ax.set_ylim([-0.01, 1.01])"
   ]
  },
  {
   "cell_type": "markdown",
   "metadata": {},
   "source": [
    "### Part C\n",
    "***\n",
    "\n",
    "***(1 points)*** What is the probability that you drank 2 or fewer sugared coffees in one day?"
   ]
  },
  {
   "cell_type": "markdown",
   "metadata": {},
   "source": [
    "$\\frac{124}{125}$"
   ]
  },
  {
   "cell_type": "markdown",
   "metadata": {},
   "source": [
    "# Problem 3 (8 pts)\n",
    "***\n",
    "Consider the probability mass function $P(X=x) = 2nx^2-2nx$ with the discrete random variable taking on values $1, 2, 3, 4$."
   ]
  },
  {
   "cell_type": "markdown",
   "metadata": {},
   "source": [
    "### Part A\n",
    "***\n",
    "\n",
    "***(2 points)*** What is the value of $n$?"
   ]
  },
  {
   "cell_type": "markdown",
   "metadata": {},
   "source": [
    "***solution:*** \n",
    "\n",
    "***n*** is an unknown constant value.\n",
    "We can simplify the equation into:\n",
    "\n",
    "$P(X=x)=2n(x^2-x)$"
   ]
  },
  {
   "cell_type": "markdown",
   "metadata": {},
   "source": [
    "### Part B\n",
    "***\n",
    "\n",
    "***(2 points)*** What is $P(X=4)$?"
   ]
  },
  {
   "cell_type": "markdown",
   "metadata": {},
   "source": [
    "***solution:*** \n",
    "\n",
    "$P(X=4)=2n(4^2-4)$\n",
    "\n",
    "$\\implies 24n$"
   ]
  },
  {
   "cell_type": "markdown",
   "metadata": {},
   "source": [
    " ### Part C\n",
    " ***\n",
    " \n",
    "***(2 points)*** What is $P(X\\leq3)=$?"
   ]
  },
  {
   "cell_type": "markdown",
   "metadata": {},
   "source": [
    "***solution:*** "
   ]
  },
  {
   "cell_type": "markdown",
   "metadata": {},
   "source": [
    "$P(X\\le3)=2n(3^2-3) + 2n(2^2-2) + 2n(1^2-1)$\n",
    "\n",
    "$\\implies 12n + 4n + 0n$\n",
    "\n",
    "$\\implies 16n$"
   ]
  },
  {
   "attachments": {
    "npdf.png": {
     "image/png": "[encoded data removed]"
    }
   },
   "cell_type": "markdown",
   "metadata": {},
   "source": [
    "### Part D\n",
    "***\n",
    "The following part is NOT related to parts a, b, and c above.\n",
    "\n",
    "One of the following graphs (either graph 1 or graph 2) is a PMF and one is not.\n",
    "\n",
    "***(2 points)*** Write code to draw the CDF for the one valid PMF.\n",
    "\n",
    "GRAPH 1\n",
    "![npdf.png](attachment:npdf.png)\n"
   ]
  },
  {
   "attachments": {
    "pmf2.png": {
     "image/png": "[encoded data removed]"
    }
   },
   "cell_type": "markdown",
   "metadata": {},
   "source": [
    "GRAPH 2:\n",
    "![pmf2.png](attachment:pmf2.png)\n"
   ]
  },
  {
   "cell_type": "markdown",
   "metadata": {},
   "source": [
    "***solution:*** "
   ]
  },
  {
   "cell_type": "code",
   "execution_count": 5,
   "metadata": {},
   "outputs": [
    {
     "data": {
      "text/plain": [
       "(-0.01, 1.01)"
      ]
     },
     "execution_count": 5,
     "metadata": {},
     "output_type": "execute_result"
    },
    {
     "data": {
      "image/png": "[encoded data removed]",
      "text/plain": [
       "<Figure size 640x480 with 1 Axes>"
      ]
     },
     "metadata": {},
     "output_type": "display_data"
    }
   ],
   "source": [
    "# the botton graph is the valid PMF since the data points add up to 1\n",
    "\n",
    "#Create an array that starts at smallest x-value minus 1 and ends at largest x-value plus 2:\n",
    "data2 = np.arange(-1, 4)\n",
    "\n",
    "#Enter in non-zero CDF values from CDF table:\n",
    "\n",
    "y2 = np.array([25/100, 75/100, 1])\n",
    "\n",
    "#Create a 2nd array for formatting piecewise endpoints\n",
    "yn2 = np.insert(y2, 0, 0)\n",
    "\n",
    "fig, ax = plt.subplots()\n",
    "ax.set_facecolor('white')\n",
    "\n",
    "# https://matplotlib.org/api/_as_gen/matplotlib.axes.Axes.hlines.html\n",
    "ax.hlines(y=yn2, xmin=data2[:-1], xmax=data2[1:],\n",
    "          color='red', zorder=1)\n",
    "\n",
    "# https://matplotlib.org/api/_as_gen/matplotlib.axes.Axes.vlines.html\n",
    "#ax.vlines(x=data[1:-1], ymin=yn[:-1], ymax=yn[1:], color='red',linestyle='dashed', zorder=1)\n",
    "\n",
    "ax.scatter(data2[1:-1], y2, color='red', s=18, zorder=2)\n",
    "ax.scatter(data2[1:-1], yn2[:-1], color='white', s=18, zorder=2,\n",
    "           edgecolor='red')\n",
    "ax.grid(False)\n",
    "ax.set_xlim(data2[0], data2[-1])\n",
    "ax.set_ylim([-0.01, 1.01])"
   ]
  },
  {
   "cell_type": "markdown",
   "metadata": {},
   "source": [
    "# Problem 4 (12 pts)\n",
    "***\n",
    "\n",
    "You are the proud new owner of a three sided die!\n",
    "\n",
    "The sides are marked '1', '2', and '3'. \n",
    "\n",
    "**Let $X$ be the amount of 3's obtained after rolling the die twice**.\n",
    "\n",
    "If $S$ is the sample space, then $X:S\\to\\mathbb{R}$, and $p(x_i)=P(X=x_i)$"
   ]
  },
  {
   "cell_type": "markdown",
   "metadata": {},
   "source": [
    "### Part A\n",
    "***\n",
    "\n",
    "   1] ***(1 point)*** What is $p(2)$?\n",
    "\n",
    "   2] ***(1 point)*** What is $p(1)$?"
   ]
  },
  {
   "cell_type": "markdown",
   "metadata": {},
   "source": [
    "**solution**\n",
    "\n",
    "$p(2) = \\binom{2}{2}p^2(1-p)^{2-2}$\n",
    "\n",
    "$\\implies (1)(\\frac{1}{9})(1)$\n",
    "\n",
    "$\\implies \\frac{1}{9}$\n",
    "\n",
    "\n",
    "\n",
    "\n",
    "$p(1) = \\binom{2}{1}p^1(1-p)^{2-1}$\n",
    "\n",
    "$\\implies (2)(\\frac{1}{3})(\\frac{2}{3})$\n",
    "\n",
    "$\\implies \\frac{4}{9}$"
   ]
  },
  {
   "cell_type": "markdown",
   "metadata": {},
   "source": [
    "### Part B\n",
    "***\n",
    "\n",
    "   1] ***(1.5 points)*** What is $X((3, 3))$?\n",
    "   \n",
    "   2] ***(1.5 points)*** What is $X((2, 3))$?"
   ]
  },
  {
   "cell_type": "markdown",
   "metadata": {},
   "source": [
    "***solution:*** "
   ]
  },
  {
   "cell_type": "markdown",
   "metadata": {},
   "source": [
    "### Part C\n",
    "***\n",
    "\n",
    "1] ***(2 points)*** Create a table of values for the PMF.\n",
    "\n",
    "2] ***(1 points)*** Create (code) a density histogram for the PMF."
   ]
  },
  {
   "cell_type": "markdown",
   "metadata": {},
   "source": [
    "***solution:*** "
   ]
  },
  {
   "cell_type": "code",
   "execution_count": 6,
   "metadata": {},
   "outputs": [],
   "source": [
    "# code your solution to Part C #2 here:\n",
    "    \n"
   ]
  },
  {
   "cell_type": "markdown",
   "metadata": {},
   "source": [
    "### Part D\n",
    "***\n",
    "\n",
    "   1] ***(2 points)*** Create a table of values for the CDF.\n",
    "\n",
    "   2] ***(1 points)*** Create a piecewise function for the CDF.\n",
    "\n",
    "   3] ***(1 points)*** Create (code) a graph for the CDF."
   ]
  },
  {
   "cell_type": "markdown",
   "metadata": {},
   "source": [
    "***solution:*** "
   ]
  },
  {
   "cell_type": "code",
   "execution_count": 7,
   "metadata": {},
   "outputs": [],
   "source": [
    "# Code your solution to part D, #3,  here:\n",
    "    \n"
   ]
  },
  {
   "cell_type": "markdown",
   "metadata": {},
   "source": [
    "# Problem 5 (9 pts)\n",
    "***\n",
    "\n",
    "### Part A\n",
    "\n",
    "We are still playing with our new three sided die and we are still considering rolling a '3' a success. Only now we are rolling the die 10 times!\n",
    "\n",
    "Suppose you actually rolled the 3-sided die ten times and counted how many times you rolled a '3'.\n",
    "\n",
    "You could get zero amount of 3's.\n",
    "\n",
    "You could roll a '3' only once.\n",
    "\n",
    "You could roll a '3' two out of ten times.\n",
    "\n",
    "You might even roll a '3' ten out of ten times!\n",
    "\n",
    "Write a $\\color{red}{\\text{function}}$ that takes in the parameters $n=10$ (for ten rolls of the 3-sided die) and $p=\\frac{1}{3}$ (for the probability of rolling a '3'). The function should $\\color{red}{\\text{return the PMF}}$ as a Numpy array.\n",
    "\n",
    "***(4 points)*** Use the function to print out the PMF as a table of values after rolling the 3-sided die 10 times.\n",
    "\n",
    "i.e. the table should show the probability of rolling zero 3's, one 3, two 3's,..., ten 3's."
   ]
  },
  {
   "cell_type": "markdown",
   "metadata": {},
   "source": [
    "***solution:*** "
   ]
  },
  {
   "cell_type": "code",
   "execution_count": 8,
   "metadata": {},
   "outputs": [],
   "source": [
    "# Put your code to Part A here:\n",
    "\n",
    "# Use binomial distribution theorem.\n",
    "\n",
    "# in LaTeX: f(k) = \\binom{10}{k} (frac{1}{3})^k (1-(frac{1}{3}))^{10-k}\n",
    "\n",
    "\n",
    "\n",
    "\n",
    "#def pmf_three_side_dice(k):\n",
    "    \n",
    "    #return combonation*rollThree*notRollThree\n"
   ]
  },
  {
   "cell_type": "markdown",
   "metadata": {},
   "source": [
    "### Part B\n",
    "\n",
    "Suppose you rolled the die ten times and wrote down how many 3's resulted.\n",
    "\n",
    "Then, you again rolled the die ten times and again wrote down how many 3's resulted.\n",
    "\n",
    "And again you roll ten times and record. And again. And again.\n",
    "\n",
    "In totality, lets say you recorded results 20 times. That is, twenty times in a row you rolled the 3-sided die 10 times and recorded the amount of 3' that appeared out of the 10 rolls.\n",
    "\n",
    "You might get 20 results like [2 2 4 4 2 4 5 2 5 2 2 4 2 1 3 1 3 2 3 3] representing 2 out of 10, 2 out of ten, 4 out of ten, etc.\n",
    "\n",
    "In order to determine how many successes (amount of 3's) TYPICALLY result when you roll this die ten times, you could look at a histogram (a distribution) of your 20 recordings. Better yet, a more accurate picture results from looking at a distribution of 100000 recordings.\n",
    "\n",
    "***(4 points)*** Create (code) a density histogram of 100000 results to get an estimation of the distribution (aka PMF)."
   ]
  },
  {
   "cell_type": "code",
   "execution_count": 9,
   "metadata": {},
   "outputs": [],
   "source": [
    "# code your answer to Part B here:\n",
    "\n"
   ]
  },
  {
   "cell_type": "markdown",
   "metadata": {},
   "source": [
    "## Part C\n",
    "\n",
    "***(1 point)*** From the PMF just created, what appears to be the most common result? In other words, how many times will '3' most commonly appear after rolling a 3-sided die ten times?"
   ]
  },
  {
   "cell_type": "markdown",
   "metadata": {},
   "source": [
    "***solution:*** Put your solution to Part C here:\n",
    "\n"
   ]
  },
  {
   "cell_type": "code",
   "execution_count": null,
   "metadata": {},
   "outputs": [],
   "source": []
  }
 ],
 "metadata": {
  "kernelspec": {
   "display_name": "Python 3 (ipykernel)",
   "language": "python",
   "name": "python3"
  },
  "language_info": {
   "codemirror_mode": {
    "name": "ipython",
    "version": 3
   },
   "file_extension": ".py",
   "mimetype": "text/x-python",
   "name": "python",
   "nbconvert_exporter": "python",
   "pygments_lexer": "ipython3",
   "version": "3.10.8"
  }
 },
 "nbformat": 4,
 "nbformat_minor": 4
}
