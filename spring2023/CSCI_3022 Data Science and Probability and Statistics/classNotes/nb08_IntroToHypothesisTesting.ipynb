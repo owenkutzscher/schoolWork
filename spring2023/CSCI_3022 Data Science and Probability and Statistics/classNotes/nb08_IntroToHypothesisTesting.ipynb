{
 "cells": [
  {
   "cell_type": "markdown",
   "metadata": {},
   "source": [
    "# nb08_IntroToHypothesisTesting"
   ]
  },
  {
   "cell_type": "code",
   "execution_count": 1,
   "metadata": {},
   "outputs": [],
   "source": [
    "##Get them stats in here\n",
    "import numpy as np \n",
    "import pandas as pd \n",
    "from scipy import stats\n",
    "import matplotlib.pylab as plt \n",
    "%matplotlib inline"
   ]
  },
  {
   "cell_type": "markdown",
   "metadata": {},
   "source": [
    "### Lesson 26 Ex 1:  \n",
    "Suppose I hand you a coin and ask you to determine whether or not it is fair.   "
   ]
  },
  {
   "cell_type": "code",
   "execution_count": 12,
   "metadata": {},
   "outputs": [
    {
     "name": "stdout",
     "output_type": "stream",
     "text": [
      "Prob. of exact outcome:  0.009765625000000002\n",
      "Prob. of outcome or more H:  0.010742187500000002\n",
      "Prob. of outcome or more H OR T:  0.021484375000000003\n"
     ]
    },
    {
     "data": {
      "text/plain": [
       "<matplotlib.lines.Line2D at 0x7f0fa6051d50>"
      ]
     },
     "execution_count": 12,
     "metadata": {},
     "output_type": "execute_result"
    },
    {
     "data": {
      "image/png": "[encoded data removed]",
      "text/plain": [
       "<Figure size 640x480 with 1 Axes>"
      ]
     },
     "metadata": {},
     "output_type": "display_data"
    }
   ],
   "source": [
    "#So we flip our coin 10 times and we observe k heads.  So what?\n",
    "\n",
    "nflips=10 #sample size\n",
    "k=9 #observed heads; \n",
    "p=0.50\n",
    "\n",
    "#Probability of exactly that many heads if the coin is fair\n",
    "print('Prob. of exact outcome: ',stats.binom.pmf(k, n=nflips, p=p))\n",
    "\n",
    "#Probability of that many heads OR MORE if the coin is fair\n",
    "outcomes=np.linspace(0,nflips,nflips+1) #set of all outcomes for summand\n",
    "\n",
    "print('Prob. of outcome or more H: ', np.sum([stats.binom.pmf(j, n=nflips, p=p) \\\n",
    "                                              for j in outcomes[outcomes>=k]]))\n",
    "#Probability of that many (heads OR tails) OR MORE if coin is fair\n",
    "print('Prob. of outcome or more H OR T: ', 2*np.sum([stats.binom.pmf(j, n=nflips, p=p) \\\n",
    "                                              for j in outcomes[outcomes>=k]]))\n",
    "#NB: (prior line assumed k>n/2; else result is 1; if non-symmetry would need compound outcomes boolean)\n",
    "##visually:\n",
    "\n",
    "xgrd=np.linspace(0,nflips,nflips+1)\n",
    "plt.scatter(xgrd, stats.binom.pmf(xgrd, n=nflips, p=.5)) #scatter over a line plot for a pmf\n",
    "plt.axvline(k, color='red')\n",
    "plt.axvline(nflips-k, color='red')\n"
   ]
  },
  {
   "cell_type": "markdown",
   "metadata": {},
   "source": [
    "Ex 2).  Suppose you're willing to commit an error and classify a coin as unfair at most $10\\%$ of the time.\n",
    "\n",
    "a).  Suppose you flip the coin 10 times.  How many heads or tails would you have to see to conclude the coin is unfair?\n",
    "b).  What if you flip it 100 times?\n",
    "c).  What if you flip it 1000 times?"
   ]
  },
  {
   "cell_type": "code",
   "execution_count": 20,
   "metadata": {},
   "outputs": [
    {
     "name": "stdout",
     "output_type": "stream",
     "text": [
      "Prob. of outcome or more H OR T:  0.08862608011406749\n"
     ]
    },
    {
     "data": {
      "text/plain": [
       "<matplotlib.lines.Line2D at 0x7f0fa5cdd600>"
      ]
     },
     "execution_count": 20,
     "metadata": {},
     "output_type": "execute_result"
    },
    {
     "data": {
      "image/png": "[encoded data removed]",
      "text/plain": [
       "<Figure size 640x480 with 1 Axes>"
      ]
     },
     "metadata": {},
     "output_type": "display_data"
    }
   ],
   "source": [
    "#So we flip our coin n times and we observe k heads.  So what?\n",
    "\n",
    "#REJECTION REGIONS: how many H/T until that's 10% or less of the outcomes?\n",
    "#Guess/Check for nflips=100 and nflips = 1000\n",
    "\n",
    "nflips=100 #sample size\n",
    "k=59 #observed heads; #Assumption:  k >=p*nflips\n",
    "p=0.50\n",
    "outcomes=np.linspace(0,nflips,nflips+1) #set of all outcomes forsummand\n",
    "\n",
    "#Probability of that many (heads OR tails) OR MORE if coin is fair\n",
    "print('Prob. of outcome or more H OR T: ', np.sum([stats.binom.pmf(j, n=nflips, p=p) \\\n",
    "                                              for j in outcomes[outcomes>=k]])+\\\n",
    "                                            np.sum([stats.binom.pmf(j, n=nflips, p=p) \\\n",
    "                                              for j in outcomes[outcomes<=(nflips-k)]])\n",
    "      \n",
    "     )\n",
    "xgrd=np.linspace(0,nflips,nflips+1)\n",
    "plt.scatter(xgrd, stats.binom.pmf(xgrd, n=nflips, p=.5)) #scatter over a line plot for a pmf\n",
    "plt.axvline(k, color='red')\n",
    "plt.axvline(nflips-k, color='red')\n",
    "\n"
   ]
  },
  {
   "cell_type": "markdown",
   "metadata": {},
   "source": [
    "Do we always have to guess and check?"
   ]
  },
  {
   "cell_type": "markdown",
   "metadata": {},
   "source": [
    "Suppose we want to find the values of \"k\" for the **rejection region** directly.  This lives in the .ppf!  \n",
    "\n",
    "\"Find the number of heads so that only 5% of the time we see that many heads on a fair coin\" is a rephrasing of our goal."
   ]
  },
  {
   "cell_type": "code",
   "execution_count": 21,
   "metadata": {},
   "outputs": [
    {
     "name": "stdout",
     "output_type": "stream",
     "text": [
      "58.0\n"
     ]
    }
   ],
   "source": [
    "nflips=100 #sample size\n",
    "p=0.5\n",
    "\n",
    "print(stats.binom.ppf(1-.05, n=nflips, p=p))\n",
    "\n",
    "#This is giving the last value in the \"accept\" region, not the first in the reject region!\n",
    "#why?  because above we have outcomes>=k, and .ppf looks for values of the form <=k, like a cdf.\n",
    "#for a discrete RV, where we have the equals sign matters!"
   ]
  },
  {
   "cell_type": "markdown",
   "metadata": {},
   "source": [
    "### Using Central Limit Theorem:\n",
    "Final note: binomials with $np \\geq 15$ and $n(1-p) \\geq 15$ are *approximately normal* thanks to the Central Limit Theorem (see HW 8 #3).  In our case, $p=0.5$, so we can use this normal approximation for $n\\geq30$.\n",
    "\n",
    "Since a sample probability $\\hat{p} \\stackrel{approx}{\\sim} N\\left(p,\\frac{p(1-p)}{n} \\right)$\n",
    "\n",
    "we can get the same number of heads/tails by asking about what $z$-value represents \"a 10% error\" and then convert that number back to probabilities by adding in the **mean** p and multiplying in the **standard deviation** $\\sqrt{\\frac{p(1-p)}{n}}$"
   ]
  },
  {
   "cell_type": "code",
   "execution_count": 5,
   "metadata": {},
   "outputs": [
    {
     "name": "stdout",
     "output_type": "stream",
     "text": [
      "Reject if proportion of heads/tails is at least 0.5822426813475736\n",
      "Reject if number of heads/tails is at least 58.22426813475736\n"
     ]
    }
   ],
   "source": [
    "nflips=100 #sample size\n",
    "p=0.5\n",
    "z_score=stats.norm.ppf(1-.05) #LOCATION on the normal with 5% \"error\" area above\n",
    "#this also means we have the other 5% error area below (-1)*z_score.\n",
    "\n",
    "#converted to probabilities\n",
    "#that region's z-value spread out to match probabilities, then centered at .5\n",
    "prob_region=p+z_score*np.sqrt(p*(1-p)/nflips) \n",
    "print('Reject if proportion of heads/tails is at least', prob_region)\n",
    "print('Reject if number of heads/tails is at least', nflips*prob_region)"
   ]
  },
  {
   "cell_type": "markdown",
   "metadata": {},
   "source": [
    "## Hypothesis Tests and P-Values in Python"
   ]
  },
  {
   "cell_type": "markdown",
   "metadata": {},
   "source": [
    "Ex 2 cont'd):  To determine if the Belgian 1 Euro coin is fair, you flip it 250 times and it comes up heads 140 times.  Do you reject the null at the 0.10 significance level or not?\n",
    "\n",
    "**Step 1**:  State null and alternative hypotheses:\n",
    "$H_0:  p=0.5$\n",
    "$H_A:  p \\neq 0.5$\n",
    "\n",
    "**Step 2**: Select a level of significance.   **This is already given to us in the problem statement:  $\\alpha = .10$**\n",
    "\n",
    "**Step 3**:  Gather data and calculate the test statistic.\n",
    "\n",
    "Let $H$ be the random variable that denotes the number of heads assuming the null hypothesis.   \n",
    "\n",
    "From our data, our test statistic is:\n",
    "\n",
    "$H_{test} = 140$\n",
    "\n",
    "**Step 4**: \n",
    "\n",
    "Our null hypothesis is that $p=0.5$, and because the number of heads is a binomial distribution, we have $H \\sim Bin(250, 0.5)$ under the null hypothesis\n",
    "\n",
    "Use a decision rule:\n",
    "\n",
    "Option 1:\n",
    "Calculate the p-value for the test statistic:  \n",
    "This is a two tailed test:"
   ]
  },
  {
   "cell_type": "code",
   "execution_count": 6,
   "metadata": {},
   "outputs": [
    {
     "name": "stdout",
     "output_type": "stream",
     "text": [
      "Prob. of outcome or more H OR T (i.e. p-value):  0.06642115124004327\n"
     ]
    }
   ],
   "source": [
    "#using the pmf:\n",
    "nflips=250 #sample size\n",
    "k=140 #observed heads; #Assumption:  k >=p*nflips\n",
    "p=0.50\n",
    "outcomes=np.linspace(0,nflips,nflips+1) #set of all outcomes forsummand\n",
    "\n",
    "#Probability of that many (heads OR tails) OR MORE if coin is fair\n",
    "print('Prob. of outcome or more H OR T (i.e. p-value): ', np.sum([stats.binom.pmf(j, n=nflips, p=p) \\\n",
    "                                              for j in outcomes[outcomes>=k]])+\\\n",
    "                                            np.sum([stats.binom.pmf(j, n=nflips, p=p) \\\n",
    "                                              for j in outcomes[outcomes<=(nflips-k)]])\n",
    "      \n",
    "     )"
   ]
  },
  {
   "cell_type": "code",
   "execution_count": 7,
   "metadata": {},
   "outputs": [
    {
     "data": {
      "text/plain": [
       "0.0664211512400435"
      ]
     },
     "execution_count": 7,
     "metadata": {},
     "output_type": "execute_result"
    }
   ],
   "source": [
    "#Or using cdf and pmf:\n",
    "2*(1-stats.binom.cdf(140,250,.5)+stats.binom.pmf(140, 250,.5))"
   ]
  },
  {
   "cell_type": "markdown",
   "metadata": {},
   "source": [
    "**Step 5:  Since p-value<=0.10, we REJECT THE NULL at the 10% significance level.    Thus we have reasonable evidence to assume this coin is NOT fair**"
   ]
  },
  {
   "cell_type": "markdown",
   "metadata": {},
   "source": [
    "Option 2:  \n",
    "Calculate critical value and compare to test statistic.  "
   ]
  },
  {
   "cell_type": "code",
   "execution_count": 8,
   "metadata": {},
   "outputs": [
    {
     "name": "stdout",
     "output_type": "stream",
     "text": [
      "Reject if number of heads/tails is at least 138.00370969688893\n"
     ]
    }
   ],
   "source": [
    "nflips=250 #sample size\n",
    "p=0.5\n",
    "z_score=stats.norm.ppf(1-.05) #LOCATION on the normal with 5% \"error\" area above\n",
    "#this also means we have the other 5% error area below (-1)*z_score.\n",
    "\n",
    "#converted to probabilities\n",
    "#that region's z-value spread out to match probabilities, then centered at .5\n",
    "prob_region=p+z_score*np.sqrt(p*(1-p)/nflips) \n",
    "print('Reject if number of heads/tails is at least', nflips*prob_region)"
   ]
  },
  {
   "cell_type": "markdown",
   "metadata": {},
   "source": [
    "**Since our test statistic = 140>138, we can reject the null at the 10% significance level and accept the alternative hypothesis that the coin is NOT fair.**"
   ]
  },
  {
   "cell_type": "code",
   "execution_count": 9,
   "metadata": {},
   "outputs": [
    {
     "name": "stdout",
     "output_type": "stream",
     "text": [
      "Prob. of outcome or more H OR T:  0.06642115124004327\n"
     ]
    }
   ],
   "source": [
    "nflips=250 #sample size\n",
    "k=140 #observed heads; \n",
    "p=0.50\n",
    "outcomes=np.linspace(0,nflips,nflips+1) #set of all outcomes forsummand\n",
    "\n",
    "#Probability of that many (heads OR tails) OR MORE if coin is fair\n",
    "print('Prob. of outcome or more H OR T: ', np.sum([stats.binom.pmf(j, n=nflips, p=p) \\\n",
    "                                              for j in outcomes[outcomes>=k]])+\\\n",
    "                                            np.sum([stats.binom.pmf(j, n=nflips, p=p) \\\n",
    "                                              for j in outcomes[outcomes<=(nflips-k)]])\n",
    "      \n",
    "     )"
   ]
  },
  {
   "cell_type": "markdown",
   "metadata": {},
   "source": [
    "## Using Central Limit Theorem Approximation "
   ]
  },
  {
   "cell_type": "markdown",
   "metadata": {},
   "source": [
    "Thanks to the central limit theorem, as we showed above we have:\n",
    "\n",
    "$\\hat{p} \\stackrel{approx}{\\sim} N\\left(p,\\frac{p(1-p)}{n} \\right)$\n",
    "\n",
    "Thus we could run an equivalent test by instead using the test statistic: $p_{test} = \\frac{140}{250}$\n",
    "\n",
    "The p-value is calculated by finding $P(\\hat{p} \\geq \\frac{140}{250})$, where $\\hat{p} \\stackrel{approx}{\\sim} N\\left(p,\\frac{p(1-p)}{n} \\right)$\n",
    "\n",
    "Python has built-in functions to do this work for you:  https://www.statsmodels.org/dev/generated/statsmodels.stats.proportion.proportions_ztest.html\n",
    "\n",
    "To test a hypothesis about a proportion using this built-in function:   "
   ]
  },
  {
   "cell_type": "code",
   "execution_count": 10,
   "metadata": {},
   "outputs": [
    {
     "name": "stdout",
     "output_type": "stream",
     "text": [
      "The p-value is 0.05777957112359698\n"
     ]
    }
   ],
   "source": [
    "from statsmodels.stats.proportion import proportions_ztest\n",
    "#--------perform a one proportion z-test using the invoked function\n",
    "#----count = number of successes (in this case number of Heads)\n",
    "#-----nobs = number of observations (in this case 250) \n",
    "#-----value: Hypothesized proportion (in this 50% for a fair coin)\n",
    "#----prop_var = Proportion to use when calculating the variance (use the p from our null hypothesis)\n",
    "test_stat, pvalue = proportions_ztest(count=140, nobs=250, value=0.50, prop_var=.5)\n",
    "\n",
    "print(\"The p-value is\", pvalue)\n"
   ]
  },
  {
   "cell_type": "markdown",
   "metadata": {},
   "source": [
    "This is a close approximation of the actual p-value (0.066) we found above, and it is consistent with our decision to reject the null hypothesis. "
   ]
  },
  {
   "cell_type": "markdown",
   "metadata": {},
   "source": [
    "## Comparing Two Proportions:\n",
    "\n",
    "Recall our titanic dataset from the beginning of the semester:\n",
    "Load `clean_titanic_data` into Python.\n"
   ]
  },
  {
   "cell_type": "code",
   "execution_count": 11,
   "metadata": {},
   "outputs": [
    {
     "ename": "FileNotFoundError",
     "evalue": "[Errno 2] No such file or directory: 'clean_titanic_data.csv'",
     "output_type": "error",
     "traceback": [
      "\u001b[0;31m---------------------------------------------------------------------------\u001b[0m",
      "\u001b[0;31mFileNotFoundError\u001b[0m                         Traceback (most recent call last)",
      "Cell \u001b[0;32mIn[11], line 5\u001b[0m\n\u001b[1;32m      2\u001b[0m file_path \u001b[38;5;241m=\u001b[39m \u001b[38;5;124m'\u001b[39m\u001b[38;5;124mclean_titanic_data.csv\u001b[39m\u001b[38;5;124m'\u001b[39m\n\u001b[1;32m      4\u001b[0m \u001b[38;5;66;03m# Load the data into a DataFrame \u001b[39;00m\n\u001b[0;32m----> 5\u001b[0m df \u001b[38;5;241m=\u001b[39m \u001b[43mpd\u001b[49m\u001b[38;5;241;43m.\u001b[39;49m\u001b[43mread_csv\u001b[49m\u001b[43m(\u001b[49m\u001b[43mfile_path\u001b[49m\u001b[43m)\u001b[49m\n\u001b[1;32m      7\u001b[0m \u001b[38;5;66;03m# Look at the data.\u001b[39;00m\n\u001b[1;32m      8\u001b[0m df\u001b[38;5;241m.\u001b[39mhead(\u001b[38;5;241m10\u001b[39m)\n",
      "File \u001b[0;32m/opt/conda/lib/python3.10/site-packages/pandas/util/_decorators.py:211\u001b[0m, in \u001b[0;36mdeprecate_kwarg.<locals>._deprecate_kwarg.<locals>.wrapper\u001b[0;34m(*args, **kwargs)\u001b[0m\n\u001b[1;32m    209\u001b[0m     \u001b[38;5;28;01melse\u001b[39;00m:\n\u001b[1;32m    210\u001b[0m         kwargs[new_arg_name] \u001b[38;5;241m=\u001b[39m new_arg_value\n\u001b[0;32m--> 211\u001b[0m \u001b[38;5;28;01mreturn\u001b[39;00m \u001b[43mfunc\u001b[49m\u001b[43m(\u001b[49m\u001b[38;5;241;43m*\u001b[39;49m\u001b[43margs\u001b[49m\u001b[43m,\u001b[49m\u001b[43m \u001b[49m\u001b[38;5;241;43m*\u001b[39;49m\u001b[38;5;241;43m*\u001b[39;49m\u001b[43mkwargs\u001b[49m\u001b[43m)\u001b[49m\n",
      "File \u001b[0;32m/opt/conda/lib/python3.10/site-packages/pandas/util/_decorators.py:331\u001b[0m, in \u001b[0;36mdeprecate_nonkeyword_arguments.<locals>.decorate.<locals>.wrapper\u001b[0;34m(*args, **kwargs)\u001b[0m\n\u001b[1;32m    325\u001b[0m \u001b[38;5;28;01mif\u001b[39;00m \u001b[38;5;28mlen\u001b[39m(args) \u001b[38;5;241m>\u001b[39m num_allow_args:\n\u001b[1;32m    326\u001b[0m     warnings\u001b[38;5;241m.\u001b[39mwarn(\n\u001b[1;32m    327\u001b[0m         msg\u001b[38;5;241m.\u001b[39mformat(arguments\u001b[38;5;241m=\u001b[39m_format_argument_list(allow_args)),\n\u001b[1;32m    328\u001b[0m         \u001b[38;5;167;01mFutureWarning\u001b[39;00m,\n\u001b[1;32m    329\u001b[0m         stacklevel\u001b[38;5;241m=\u001b[39mfind_stack_level(),\n\u001b[1;32m    330\u001b[0m     )\n\u001b[0;32m--> 331\u001b[0m \u001b[38;5;28;01mreturn\u001b[39;00m \u001b[43mfunc\u001b[49m\u001b[43m(\u001b[49m\u001b[38;5;241;43m*\u001b[39;49m\u001b[43margs\u001b[49m\u001b[43m,\u001b[49m\u001b[43m \u001b[49m\u001b[38;5;241;43m*\u001b[39;49m\u001b[38;5;241;43m*\u001b[39;49m\u001b[43mkwargs\u001b[49m\u001b[43m)\u001b[49m\n",
      "File \u001b[0;32m/opt/conda/lib/python3.10/site-packages/pandas/io/parsers/readers.py:950\u001b[0m, in \u001b[0;36mread_csv\u001b[0;34m(filepath_or_buffer, sep, delimiter, header, names, index_col, usecols, squeeze, prefix, mangle_dupe_cols, dtype, engine, converters, true_values, false_values, skipinitialspace, skiprows, skipfooter, nrows, na_values, keep_default_na, na_filter, verbose, skip_blank_lines, parse_dates, infer_datetime_format, keep_date_col, date_parser, dayfirst, cache_dates, iterator, chunksize, compression, thousands, decimal, lineterminator, quotechar, quoting, doublequote, escapechar, comment, encoding, encoding_errors, dialect, error_bad_lines, warn_bad_lines, on_bad_lines, delim_whitespace, low_memory, memory_map, float_precision, storage_options)\u001b[0m\n\u001b[1;32m    935\u001b[0m kwds_defaults \u001b[38;5;241m=\u001b[39m _refine_defaults_read(\n\u001b[1;32m    936\u001b[0m     dialect,\n\u001b[1;32m    937\u001b[0m     delimiter,\n\u001b[0;32m   (...)\u001b[0m\n\u001b[1;32m    946\u001b[0m     defaults\u001b[38;5;241m=\u001b[39m{\u001b[38;5;124m\"\u001b[39m\u001b[38;5;124mdelimiter\u001b[39m\u001b[38;5;124m\"\u001b[39m: \u001b[38;5;124m\"\u001b[39m\u001b[38;5;124m,\u001b[39m\u001b[38;5;124m\"\u001b[39m},\n\u001b[1;32m    947\u001b[0m )\n\u001b[1;32m    948\u001b[0m kwds\u001b[38;5;241m.\u001b[39mupdate(kwds_defaults)\n\u001b[0;32m--> 950\u001b[0m \u001b[38;5;28;01mreturn\u001b[39;00m \u001b[43m_read\u001b[49m\u001b[43m(\u001b[49m\u001b[43mfilepath_or_buffer\u001b[49m\u001b[43m,\u001b[49m\u001b[43m \u001b[49m\u001b[43mkwds\u001b[49m\u001b[43m)\u001b[49m\n",
      "File \u001b[0;32m/opt/conda/lib/python3.10/site-packages/pandas/io/parsers/readers.py:605\u001b[0m, in \u001b[0;36m_read\u001b[0;34m(filepath_or_buffer, kwds)\u001b[0m\n\u001b[1;32m    602\u001b[0m _validate_names(kwds\u001b[38;5;241m.\u001b[39mget(\u001b[38;5;124m\"\u001b[39m\u001b[38;5;124mnames\u001b[39m\u001b[38;5;124m\"\u001b[39m, \u001b[38;5;28;01mNone\u001b[39;00m))\n\u001b[1;32m    604\u001b[0m \u001b[38;5;66;03m# Create the parser.\u001b[39;00m\n\u001b[0;32m--> 605\u001b[0m parser \u001b[38;5;241m=\u001b[39m \u001b[43mTextFileReader\u001b[49m\u001b[43m(\u001b[49m\u001b[43mfilepath_or_buffer\u001b[49m\u001b[43m,\u001b[49m\u001b[43m \u001b[49m\u001b[38;5;241;43m*\u001b[39;49m\u001b[38;5;241;43m*\u001b[39;49m\u001b[43mkwds\u001b[49m\u001b[43m)\u001b[49m\n\u001b[1;32m    607\u001b[0m \u001b[38;5;28;01mif\u001b[39;00m chunksize \u001b[38;5;129;01mor\u001b[39;00m iterator:\n\u001b[1;32m    608\u001b[0m     \u001b[38;5;28;01mreturn\u001b[39;00m parser\n",
      "File \u001b[0;32m/opt/conda/lib/python3.10/site-packages/pandas/io/parsers/readers.py:1442\u001b[0m, in \u001b[0;36mTextFileReader.__init__\u001b[0;34m(self, f, engine, **kwds)\u001b[0m\n\u001b[1;32m   1439\u001b[0m     \u001b[38;5;28mself\u001b[39m\u001b[38;5;241m.\u001b[39moptions[\u001b[38;5;124m\"\u001b[39m\u001b[38;5;124mhas_index_names\u001b[39m\u001b[38;5;124m\"\u001b[39m] \u001b[38;5;241m=\u001b[39m kwds[\u001b[38;5;124m\"\u001b[39m\u001b[38;5;124mhas_index_names\u001b[39m\u001b[38;5;124m\"\u001b[39m]\n\u001b[1;32m   1441\u001b[0m \u001b[38;5;28mself\u001b[39m\u001b[38;5;241m.\u001b[39mhandles: IOHandles \u001b[38;5;241m|\u001b[39m \u001b[38;5;28;01mNone\u001b[39;00m \u001b[38;5;241m=\u001b[39m \u001b[38;5;28;01mNone\u001b[39;00m\n\u001b[0;32m-> 1442\u001b[0m \u001b[38;5;28mself\u001b[39m\u001b[38;5;241m.\u001b[39m_engine \u001b[38;5;241m=\u001b[39m \u001b[38;5;28;43mself\u001b[39;49m\u001b[38;5;241;43m.\u001b[39;49m\u001b[43m_make_engine\u001b[49m\u001b[43m(\u001b[49m\u001b[43mf\u001b[49m\u001b[43m,\u001b[49m\u001b[43m \u001b[49m\u001b[38;5;28;43mself\u001b[39;49m\u001b[38;5;241;43m.\u001b[39;49m\u001b[43mengine\u001b[49m\u001b[43m)\u001b[49m\n",
      "File \u001b[0;32m/opt/conda/lib/python3.10/site-packages/pandas/io/parsers/readers.py:1735\u001b[0m, in \u001b[0;36mTextFileReader._make_engine\u001b[0;34m(self, f, engine)\u001b[0m\n\u001b[1;32m   1733\u001b[0m     \u001b[38;5;28;01mif\u001b[39;00m \u001b[38;5;124m\"\u001b[39m\u001b[38;5;124mb\u001b[39m\u001b[38;5;124m\"\u001b[39m \u001b[38;5;129;01mnot\u001b[39;00m \u001b[38;5;129;01min\u001b[39;00m mode:\n\u001b[1;32m   1734\u001b[0m         mode \u001b[38;5;241m+\u001b[39m\u001b[38;5;241m=\u001b[39m \u001b[38;5;124m\"\u001b[39m\u001b[38;5;124mb\u001b[39m\u001b[38;5;124m\"\u001b[39m\n\u001b[0;32m-> 1735\u001b[0m \u001b[38;5;28mself\u001b[39m\u001b[38;5;241m.\u001b[39mhandles \u001b[38;5;241m=\u001b[39m \u001b[43mget_handle\u001b[49m\u001b[43m(\u001b[49m\n\u001b[1;32m   1736\u001b[0m \u001b[43m    \u001b[49m\u001b[43mf\u001b[49m\u001b[43m,\u001b[49m\n\u001b[1;32m   1737\u001b[0m \u001b[43m    \u001b[49m\u001b[43mmode\u001b[49m\u001b[43m,\u001b[49m\n\u001b[1;32m   1738\u001b[0m \u001b[43m    \u001b[49m\u001b[43mencoding\u001b[49m\u001b[38;5;241;43m=\u001b[39;49m\u001b[38;5;28;43mself\u001b[39;49m\u001b[38;5;241;43m.\u001b[39;49m\u001b[43moptions\u001b[49m\u001b[38;5;241;43m.\u001b[39;49m\u001b[43mget\u001b[49m\u001b[43m(\u001b[49m\u001b[38;5;124;43m\"\u001b[39;49m\u001b[38;5;124;43mencoding\u001b[39;49m\u001b[38;5;124;43m\"\u001b[39;49m\u001b[43m,\u001b[49m\u001b[43m \u001b[49m\u001b[38;5;28;43;01mNone\u001b[39;49;00m\u001b[43m)\u001b[49m\u001b[43m,\u001b[49m\n\u001b[1;32m   1739\u001b[0m \u001b[43m    \u001b[49m\u001b[43mcompression\u001b[49m\u001b[38;5;241;43m=\u001b[39;49m\u001b[38;5;28;43mself\u001b[39;49m\u001b[38;5;241;43m.\u001b[39;49m\u001b[43moptions\u001b[49m\u001b[38;5;241;43m.\u001b[39;49m\u001b[43mget\u001b[49m\u001b[43m(\u001b[49m\u001b[38;5;124;43m\"\u001b[39;49m\u001b[38;5;124;43mcompression\u001b[39;49m\u001b[38;5;124;43m\"\u001b[39;49m\u001b[43m,\u001b[49m\u001b[43m \u001b[49m\u001b[38;5;28;43;01mNone\u001b[39;49;00m\u001b[43m)\u001b[49m\u001b[43m,\u001b[49m\n\u001b[1;32m   1740\u001b[0m \u001b[43m    \u001b[49m\u001b[43mmemory_map\u001b[49m\u001b[38;5;241;43m=\u001b[39;49m\u001b[38;5;28;43mself\u001b[39;49m\u001b[38;5;241;43m.\u001b[39;49m\u001b[43moptions\u001b[49m\u001b[38;5;241;43m.\u001b[39;49m\u001b[43mget\u001b[49m\u001b[43m(\u001b[49m\u001b[38;5;124;43m\"\u001b[39;49m\u001b[38;5;124;43mmemory_map\u001b[39;49m\u001b[38;5;124;43m\"\u001b[39;49m\u001b[43m,\u001b[49m\u001b[43m \u001b[49m\u001b[38;5;28;43;01mFalse\u001b[39;49;00m\u001b[43m)\u001b[49m\u001b[43m,\u001b[49m\n\u001b[1;32m   1741\u001b[0m \u001b[43m    \u001b[49m\u001b[43mis_text\u001b[49m\u001b[38;5;241;43m=\u001b[39;49m\u001b[43mis_text\u001b[49m\u001b[43m,\u001b[49m\n\u001b[1;32m   1742\u001b[0m \u001b[43m    \u001b[49m\u001b[43merrors\u001b[49m\u001b[38;5;241;43m=\u001b[39;49m\u001b[38;5;28;43mself\u001b[39;49m\u001b[38;5;241;43m.\u001b[39;49m\u001b[43moptions\u001b[49m\u001b[38;5;241;43m.\u001b[39;49m\u001b[43mget\u001b[49m\u001b[43m(\u001b[49m\u001b[38;5;124;43m\"\u001b[39;49m\u001b[38;5;124;43mencoding_errors\u001b[39;49m\u001b[38;5;124;43m\"\u001b[39;49m\u001b[43m,\u001b[49m\u001b[43m \u001b[49m\u001b[38;5;124;43m\"\u001b[39;49m\u001b[38;5;124;43mstrict\u001b[39;49m\u001b[38;5;124;43m\"\u001b[39;49m\u001b[43m)\u001b[49m\u001b[43m,\u001b[49m\n\u001b[1;32m   1743\u001b[0m \u001b[43m    \u001b[49m\u001b[43mstorage_options\u001b[49m\u001b[38;5;241;43m=\u001b[39;49m\u001b[38;5;28;43mself\u001b[39;49m\u001b[38;5;241;43m.\u001b[39;49m\u001b[43moptions\u001b[49m\u001b[38;5;241;43m.\u001b[39;49m\u001b[43mget\u001b[49m\u001b[43m(\u001b[49m\u001b[38;5;124;43m\"\u001b[39;49m\u001b[38;5;124;43mstorage_options\u001b[39;49m\u001b[38;5;124;43m\"\u001b[39;49m\u001b[43m,\u001b[49m\u001b[43m \u001b[49m\u001b[38;5;28;43;01mNone\u001b[39;49;00m\u001b[43m)\u001b[49m\u001b[43m,\u001b[49m\n\u001b[1;32m   1744\u001b[0m \u001b[43m\u001b[49m\u001b[43m)\u001b[49m\n\u001b[1;32m   1745\u001b[0m \u001b[38;5;28;01massert\u001b[39;00m \u001b[38;5;28mself\u001b[39m\u001b[38;5;241m.\u001b[39mhandles \u001b[38;5;129;01mis\u001b[39;00m \u001b[38;5;129;01mnot\u001b[39;00m \u001b[38;5;28;01mNone\u001b[39;00m\n\u001b[1;32m   1746\u001b[0m f \u001b[38;5;241m=\u001b[39m \u001b[38;5;28mself\u001b[39m\u001b[38;5;241m.\u001b[39mhandles\u001b[38;5;241m.\u001b[39mhandle\n",
      "File \u001b[0;32m/opt/conda/lib/python3.10/site-packages/pandas/io/common.py:856\u001b[0m, in \u001b[0;36mget_handle\u001b[0;34m(path_or_buf, mode, encoding, compression, memory_map, is_text, errors, storage_options)\u001b[0m\n\u001b[1;32m    851\u001b[0m \u001b[38;5;28;01melif\u001b[39;00m \u001b[38;5;28misinstance\u001b[39m(handle, \u001b[38;5;28mstr\u001b[39m):\n\u001b[1;32m    852\u001b[0m     \u001b[38;5;66;03m# Check whether the filename is to be opened in binary mode.\u001b[39;00m\n\u001b[1;32m    853\u001b[0m     \u001b[38;5;66;03m# Binary mode does not support 'encoding' and 'newline'.\u001b[39;00m\n\u001b[1;32m    854\u001b[0m     \u001b[38;5;28;01mif\u001b[39;00m ioargs\u001b[38;5;241m.\u001b[39mencoding \u001b[38;5;129;01mand\u001b[39;00m \u001b[38;5;124m\"\u001b[39m\u001b[38;5;124mb\u001b[39m\u001b[38;5;124m\"\u001b[39m \u001b[38;5;129;01mnot\u001b[39;00m \u001b[38;5;129;01min\u001b[39;00m ioargs\u001b[38;5;241m.\u001b[39mmode:\n\u001b[1;32m    855\u001b[0m         \u001b[38;5;66;03m# Encoding\u001b[39;00m\n\u001b[0;32m--> 856\u001b[0m         handle \u001b[38;5;241m=\u001b[39m \u001b[38;5;28;43mopen\u001b[39;49m\u001b[43m(\u001b[49m\n\u001b[1;32m    857\u001b[0m \u001b[43m            \u001b[49m\u001b[43mhandle\u001b[49m\u001b[43m,\u001b[49m\n\u001b[1;32m    858\u001b[0m \u001b[43m            \u001b[49m\u001b[43mioargs\u001b[49m\u001b[38;5;241;43m.\u001b[39;49m\u001b[43mmode\u001b[49m\u001b[43m,\u001b[49m\n\u001b[1;32m    859\u001b[0m \u001b[43m            \u001b[49m\u001b[43mencoding\u001b[49m\u001b[38;5;241;43m=\u001b[39;49m\u001b[43mioargs\u001b[49m\u001b[38;5;241;43m.\u001b[39;49m\u001b[43mencoding\u001b[49m\u001b[43m,\u001b[49m\n\u001b[1;32m    860\u001b[0m \u001b[43m            \u001b[49m\u001b[43merrors\u001b[49m\u001b[38;5;241;43m=\u001b[39;49m\u001b[43merrors\u001b[49m\u001b[43m,\u001b[49m\n\u001b[1;32m    861\u001b[0m \u001b[43m            \u001b[49m\u001b[43mnewline\u001b[49m\u001b[38;5;241;43m=\u001b[39;49m\u001b[38;5;124;43m\"\u001b[39;49m\u001b[38;5;124;43m\"\u001b[39;49m\u001b[43m,\u001b[49m\n\u001b[1;32m    862\u001b[0m \u001b[43m        \u001b[49m\u001b[43m)\u001b[49m\n\u001b[1;32m    863\u001b[0m     \u001b[38;5;28;01melse\u001b[39;00m:\n\u001b[1;32m    864\u001b[0m         \u001b[38;5;66;03m# Binary mode\u001b[39;00m\n\u001b[1;32m    865\u001b[0m         handle \u001b[38;5;241m=\u001b[39m \u001b[38;5;28mopen\u001b[39m(handle, ioargs\u001b[38;5;241m.\u001b[39mmode)\n",
      "\u001b[0;31mFileNotFoundError\u001b[0m: [Errno 2] No such file or directory: 'clean_titanic_data.csv'"
     ]
    }
   ],
   "source": [
    "# Path to the data - select the path that works for you \n",
    "file_path = 'clean_titanic_data.csv'\n",
    "\n",
    "# Load the data into a DataFrame \n",
    "df = pd.read_csv(file_path)\n",
    "\n",
    "# Look at the data.\n",
    "df.head(10)"
   ]
  },
  {
   "cell_type": "markdown",
   "metadata": {},
   "source": [
    "Determine the proportion of men vs women who survived:"
   ]
  },
  {
   "cell_type": "code",
   "execution_count": null,
   "metadata": {},
   "outputs": [],
   "source": [
    "male_survived = df.loc[df['Sex']=='male', 'Survived'].sum()\n",
    "print(\"{} men survived the disaster\".format(male_survived))\n",
    "male_total = len(df.loc[(df[\"Sex\"]=='male')])\n",
    "print(\"... out of {} men total\".format(male_total))\n",
    "\n",
    "\n",
    "female_survived = df.loc[df['Sex']=='female', 'Survived'].sum() # your code goes here! \n",
    "print(\"{} women survived the disaster\".format(female_survived))\n",
    "female_total = len(df.loc[(df[\"Sex\"]=='female')])\n",
    "print(\"... out of {} women total\".format(female_total))"
   ]
  },
  {
   "cell_type": "markdown",
   "metadata": {},
   "source": [
    "Let $p_1$ = survival rate of men  and \n",
    "$p_2$ = survival rate of women\n",
    "\n",
    "Suppose we wanted to test whether there was a statistically significant difference in survival rates between men and women at the 0.01% significance level:\n",
    "\n",
    "i.e. $H_0:  p_1 = p_2$\n",
    "and  $H_A:  p_1 \\neq p_2$\n",
    "\n",
    "To conduct this test in python we use:"
   ]
  },
  {
   "cell_type": "code",
   "execution_count": null,
   "metadata": {},
   "outputs": [],
   "source": [
    "from statsmodels.stats.proportion import proportions_ztest\n",
    "#----count = number of successes (in this case number of Heads)\n",
    "#-----nobs = number of observations (in this case 250) \n",
    "#-----value: Hypothesized difference in proportions.  Default is 0\n",
    "#----prop_var:  Proportion to use when calculating the variance (use the p from our null hypothesis, \n",
    "#which assumes there's no difference in the survival distribution between men and women:\n",
    "#i.e. use p= (p1+p2)/(n1+n2))\n",
    "\n",
    "count = np.array([93, 197])\n",
    "nobs = np.array([453, 261])\n",
    "stat, pval = proportions_ztest(count, nobs, prop_var=(93+197)/(453+261))\n",
    "print(pval)"
   ]
  },
  {
   "cell_type": "markdown",
   "metadata": {},
   "source": [
    "Since our p-value <0.01 we can REJECT the null and accept the alternative hypothesis that there IS a statistically significant difference between the survival rates of men vs women at the 0.01 significance level."
   ]
  },
  {
   "cell_type": "code",
   "execution_count": null,
   "metadata": {},
   "outputs": [],
   "source": []
  }
 ],
 "metadata": {
  "kernelspec": {
   "display_name": "Python 3 (ipykernel)",
   "language": "python",
   "name": "python3"
  },
  "language_info": {
   "codemirror_mode": {
    "name": "ipython",
    "version": 3
   },
   "file_extension": ".py",
   "mimetype": "text/x-python",
   "name": "python",
   "nbconvert_exporter": "python",
   "pygments_lexer": "ipython3",
   "version": "3.10.8"
  }
 },
 "nbformat": 4,
 "nbformat_minor": 4
}
