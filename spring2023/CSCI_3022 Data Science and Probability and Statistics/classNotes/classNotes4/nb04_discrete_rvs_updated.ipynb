{
 "cells": [
  {
   "cell_type": "markdown",
   "metadata": {},
   "source": [
    "# Notebook 4: Discrete Random Variables and Distributions\n",
    "***\n",
    "\n",
    "In this notebook we'll get some more practice with discrete random variables and see how we can play with binomial distributions using Python.   \n",
    "\n",
    "We'll need Numpy and Matplotlib for this notebook, so let's load them.  We'll also need SciPy's binom function for computing binomial coefficients.  "
   ]
  },
  {
   "cell_type": "code",
   "execution_count": 1,
   "metadata": {},
   "outputs": [],
   "source": [
    "import numpy as np \n",
    "import matplotlib.pylab as plt \n",
    "from scipy.special import binom\n",
    "from math import factorial \n",
    "%matplotlib inline"
   ]
  },
  {
   "cell_type": "code",
   "execution_count": 2,
   "metadata": {},
   "outputs": [],
   "source": [
    "import scipy.stats as stats\n"
   ]
  },
  {
   "cell_type": "markdown",
   "metadata": {},
   "source": [
    "### Example 1 - Implementing and Sampling the Binomial Distribution \n",
    "*** \n",
    "\n",
    "Consider the experiment of flipping a biased coin 4 times. \n",
    "$P(H) = 0.75$ and $P(T) = 0.25$\n",
    "\n",
    "Let $X$ be the random variable that describes the number of times (out of 4) the coin lands on tails.\n",
    "\n",
    "Notice:\n",
    "\n",
    "The probability of 0 Tails out of 4 flips = $\\binom40(.25)^0(.75)^4 = \\frac{81}{256} \\approx .316\\phantom{xxxx}$   \n",
    "\n",
    "The probability of 1 Tail out of 4 flips = $\\binom41(.25)^1(.75)^3 = \\frac{108}{256} \\approx .422\\phantom{xxxx}$  \n",
    "\n",
    "The probability of 2 Tails out of 4 flips= $\\binom42(.25)^2(.75)^2 = \\frac{54}{256} \\approx .211\\phantom{xxxx}$  \n",
    "\n",
    "The probability of 3 Tails out of 4 flips = $\\binom43(.25)^3(.75)^1 = \\frac{12}{256} \\approx .047\\phantom{xxxx}$  \n",
    "\n",
    "The probability of 4 Tails out of 4 flips = $\\binom44(.25)^4(.75)^0 = \\frac{1}{256} \\approx .004\\phantom{xxxx}$  \n",
    "\n",
    "\n",
    "\n",
    "***We can represent the Probability Mass Function (i.e. PMF) in several ways:***\n",
    "\n",
    "\n",
    "- As a closed-form function: $f(k)= \\binom4k(.25)^k(.75)^{4-k}$ for $k=0,1,2,3,4$  \n",
    "\n",
    "\n",
    "\n",
    "- As a table:\n",
    "\n",
    "\n",
    "\n",
    "\n",
    "\n",
    "\n",
    "\n",
    "$\\begin{array}{c|ccccc}\n",
    "a & 0 & 1 & 2 & 3 & 4 \\\\\n",
    "\\hline\n",
    "f(a) & \\frac{81}{256} & \\frac{108}{256} & \\frac{54}{256} & \\frac{12}{256} & \\frac{1}{256} \\\\\n",
    "\\end{array}$\n",
    "\n",
    "\n",
    "\n",
    "\n",
    "- As a graph: \n",
    "SEE BELOW!\n",
    "\n",
    "***Similarly, we can represent the CDF in various ways:***\n",
    "\n",
    "- As a piecewise function:\n",
    "\n",
    "$\\begin{equation}\n",
    "F(x)=\n",
    "    \\begin{cases}\n",
    "        0 & \\text{if } -\\infty<x<0\\\\\n",
    "        \\frac{81}{256} & \\text{if } 0\\leq x<1\\\\\n",
    "        \\frac{189}{256} & \\text{if } 1\\leq x<2\\\\\n",
    "        \\frac{243}{256} & \\text{if } 2\\leq x<3\\\\\n",
    "        \\frac{255}{256} & \\text{if } 3\\leq x<4\\\\\n",
    "        1 & \\text{if } x \\geq 4\\\\\n",
    "    \\end{cases}\n",
    "\\end{equation}$\n",
    "\n",
    "- As a table:\n",
    "$\\begin{array}{c|ccccc}\n",
    "a & 0 & 1 & 2 & 3 & 4 \\\\\n",
    "\\hline\n",
    "F(a) & \\frac{81}{256} & \\frac{189}{256} & \\frac{243}{256} & \\frac{255}{256} & \\frac{256}{256} \\\\\n",
    "\\end{array}$\n",
    "\n",
    "- As a graph: \n",
    "SEE BELOW!\n",
    "\n",
    "\n",
    "**Part A**: Write a function that takes in the parameters of the binomial distribution, $n$ and $p$, and returns the probability mass function as a Numpy array. In order to get the coefficient in the binomial distribution, you'll need a way to compute ${n \\choose k}$.  You can do this from scratch using Python's factorial function, or you can get the value directly using Scipy's canned function [binom](https://docs.scipy.org/doc/scipy-0.14.0/reference/generated/scipy.special.binom.html).  "
   ]
  },
  {
   "cell_type": "code",
   "execution_count": 3,
   "metadata": {},
   "outputs": [
    {
     "data": {
      "text/plain": [
       "6.0"
      ]
     },
     "execution_count": 3,
     "metadata": {},
     "output_type": "execute_result"
    }
   ],
   "source": [
    "binom(4,2)\n",
    "# just verifying the `binom` function for calculating combinations"
   ]
  },
  {
   "cell_type": "code",
   "execution_count": 4,
   "metadata": {},
   "outputs": [],
   "source": [
    "def binomial_pmf(n, p):\n",
    "    pmf = np.array([binom(n,k)*(p**k)*((1-p)**(n-k)) for k in range(n+1)])\n",
    "    return pmf\n"
   ]
  },
  {
   "cell_type": "markdown",
   "metadata": {},
   "source": [
    "Use your function to check your answers for the pmf you found above (for the probability of $X$ tails out of 4, using the biased coin)\n",
    "\n",
    "(Sidenote:  See below for how to output code in a table.  In Python, a $\\color{red}{\\text{for loop}}$ is usually written as a loop over an iterable object. This means you $\\color{blue}{\\text{don’t need}}$ a counting variable to access items in the iterable. Sometimes, though, $\\color{blue}{\\text{you do want}}$ to have a variable that changes on each loop iteration. Rather than creating and incrementing a variable yourself, you can use Python’s `enumerate()` to get a counter and the value from the iterable at the same time!  )"
   ]
  },
  {
   "cell_type": "code",
   "execution_count": 5,
   "metadata": {},
   "outputs": [
    {
     "name": "stdout",
     "output_type": "stream",
     "text": [
      "0 | 0.3164\n",
      "1 | 0.4219\n",
      "2 | 0.2109\n",
      "3 | 0.0469\n",
      "4 | 0.0039\n"
     ]
    }
   ],
   "source": [
    "pmf = binomial_pmf(4, 0.25)\n",
    "\n",
    "# `enumerate` is a pre-made python function.\n",
    "# documentation, https://www.geeksforgeeks.org/enumerate-in-python/\n",
    "# documentation, https://docs.python.org/3/library/functions.html#enumerate\n",
    "\n",
    "for k, prob in enumerate(pmf):\n",
    "    print(\"{} | {:0.4f}\".format(k, prob))\n",
    "    \n",
    "# Here is a check that your binomial_pmf function at least sums to 1\n",
    "assert np.sum(pmf)==1, \"Error: pmf does not add up to 1\"\n"
   ]
  },
  {
   "cell_type": "markdown",
   "metadata": {},
   "source": [
    "For instance $\\binom{4}{1}(\\frac{1}{4})\\cdot(\\frac{3}{4})^3 = \\frac{108}{256}\\approx .0.4219$ as seen in row '2'."
   ]
  },
  {
   "cell_type": "markdown",
   "metadata": {},
   "source": [
    "### Graphing the PMF:  \n",
    "Use the function you wrote in **Part A** to graph the probability mass function:"
   ]
  },
  {
   "cell_type": "code",
   "execution_count": 6,
   "metadata": {},
   "outputs": [
    {
     "data": {
      "image/png": "[encoded data removed]",
      "text/plain": [
       "<Figure size 640x480 with 1 Axes>"
      ]
     },
     "metadata": {},
     "output_type": "display_data"
    }
   ],
   "source": [
    "#OPTION 1:  using the ax.bar method\n",
    "\n",
    "n = 4\n",
    "p = 0.25\n",
    "\n",
    "bins = np.arange(-0.5, 11.5, 1)\n",
    "\n",
    "X = np.array(range(n+1))\n",
    "#Use the function we wrote above:\n",
    "pmf = binomial_pmf(n, p)\n",
    "\n",
    "fig, ax = plt.subplots()\n",
    "\n",
    "#Plot pmf distribution\n",
    "ax.set_ylim([0, 0.45])\n",
    "ax.set_xlim([-0.5, 4.5])\n",
    "ax.bar(X, pmf,width=1, edgecolor='white')\n",
    "ax.set_axisbelow(True)\n",
    "ax.grid(alpha=0.25);"
   ]
  },
  {
   "cell_type": "code",
   "execution_count": 7,
   "metadata": {},
   "outputs": [
    {
     "data": {
      "image/png": "[encoded data removed]",
      "text/plain": [
       "<Figure size 640x480 with 1 Axes>"
      ]
     },
     "metadata": {},
     "output_type": "display_data"
    }
   ],
   "source": [
    "#Option 2: using hist: Create an array with the corresponding probabilities of each event:\n",
    "\n",
    "a0=np.zeros(81)\n",
    "a1=np.ones(108)\n",
    "a2=np.ones(54)*2\n",
    "a3=np.ones(12)*3\n",
    "a4=np.ones(1)*4\n",
    "\n",
    "\n",
    "sample_for_hist=np.concatenate((a0,a1,a2,a3,a4),axis=None)\n",
    "\n",
    "\n",
    "bins = np.arange(-0.5, 5.5, 1)\n",
    "\n",
    "fig, ax = plt.subplots()\n",
    "\n",
    "#Plot histogram of array:\n",
    "ax.hist(sample_for_hist, edgecolor='white', density=True,bins=bins, rwidth=1)\n",
    "ax.set_axisbelow(True)\n",
    "ax.set_ylim([0, 0.45])\n",
    "ax.set_xlim([-0.5, 4.5])\n",
    "ax.grid(alpha=0.25)"
   ]
  },
  {
   "cell_type": "markdown",
   "metadata": {},
   "source": [
    "**Part B:  Sampling the Binomial Distribution**: So now you know the exact distribution of a binomial random variable, but very frequently we'll want to generate samples from that distribution.  You can do that with Numpy's [binomial](https://docs.scipy.org/doc/numpy-1.13.0/reference/generated/numpy.random.binomial.html) function. Read the documentation, and then try drawing 20 samples from _Bin(n,p)_ for $n=10$ and $p=0.25$.  "
   ]
  },
  {
   "cell_type": "code",
   "execution_count": 8,
   "metadata": {},
   "outputs": [
    {
     "name": "stdout",
     "output_type": "stream",
     "text": [
      "[5 4 3 4 3 3 2 3 2 2 5 5 2 1 1 2 1 0 1 2 2 2 1 3 5 1 3 3 3 6 3 1 2 2 2 1 5\n",
      " 3 3 2 3 4 3 5 3 2 5 4 2 4 2 2 4 3 1 2 4 1 2 0 3 1 5 6 2 3 2 0 4 5 3 1 2 1\n",
      " 4 1 4 4 4 2 0 2 4 5 2 4 4 3 0 2 2 4 2 5 3 3 3 2 6 2 1 1 2 1 3 5 7 2 3 2 4\n",
      " 1 3 1 2 3 2 4 4 3 3 1 1 4 2 6 2 4 3 3 1 4 4 4 2 4 1 4 2 5 4 3 3 3 2 3 2 3\n",
      " 4 3 4 4 3 1 0 4 2 3 1 2 1 1 3 3 1 3 2 3 4 1 0 5 2 2 4 4 2 0 2 2 2 4 1 2 1\n",
      " 0 3 3 4 2 3 2 3 1 2 0 1 1 5 4]\n"
     ]
    }
   ],
   "source": [
    "# numpy.random.binomial(n, p, size=None)\n",
    "\n",
    "samples = np.random.binomial(10,0.25,size=200)\n",
    "print(samples)"
   ]
  },
  {
   "cell_type": "markdown",
   "metadata": {},
   "source": [
    "**Part C**: We can approximate the pmf of _Bin(n,p)_ by drawing $\\color{red}{\\text{many many}}$ samples from the distribution and plotting a **density** $\\color{blue}{\\text{histogram}}$.  Do this now.    (Note: Make sure your bin width =1 for this to accurately give you the pmf).  "
   ]
  },
  {
   "cell_type": "markdown",
   "metadata": {},
   "source": [
    "How does this compare to the exact pmf you graphed above?   What happens if you use more or fewer samples in the histogram? "
   ]
  },
  {
   "cell_type": "code",
   "execution_count": 9,
   "metadata": {},
   "outputs": [
    {
     "data": {
      "text/plain": [
       "(-0.5, 4.5)"
      ]
     },
     "execution_count": 9,
     "metadata": {},
     "output_type": "execute_result"
    },
    {
     "data": {
      "image/png": "[encoded data removed]",
      "text/plain": [
       "<Figure size 640x480 with 1 Axes>"
      ]
     },
     "metadata": {},
     "output_type": "display_data"
    }
   ],
   "source": [
    "n = 4\n",
    "p = 0.25\n",
    "\n",
    "sample = np.random.binomial(n=n, p=p, size=1000)\n",
    "bins = np.arange(-0.5, 11.5, 1)\n",
    "\n",
    "X = np.array(range(n+1))\n",
    "pmf = binomial_pmf(n, p)\n",
    "\n",
    "fig, ax = plt.subplots(nrows=1, ncols=1)\n",
    "\n",
    "#Plot of sample\n",
    "ax.hist(sample, edgecolor='white', density=True, bins=bins, rwidth=1)\n",
    "ax.set_axisbelow(True)\n",
    "ax.grid(alpha=0.25)\n",
    "ax.set_ylim([0, 0.45])\n",
    "ax.set_xlim([-0.5, 4.5])"
   ]
  },
  {
   "cell_type": "markdown",
   "metadata": {},
   "source": [
    "\n",
    "### Graphing the CDF:"
   ]
  },
  {
   "cell_type": "markdown",
   "metadata": {},
   "source": [
    "Recall the CDF for this distribution is:\n",
    "\n",
    "$\\begin{array}{c|ccccc}\n",
    "x & 0 & 1 & 2 & 3 & 4 \\\\\n",
    "\\hline\n",
    "F(x) & \\frac{81}{256} & \\frac{189}{256} & \\frac{243}{256} & \\frac{255}{256} & \\frac{256}{256} \\\\\n",
    "\\end{array}$\n"
   ]
  },
  {
   "cell_type": "markdown",
   "metadata": {},
   "source": [
    "or, as a piecewise function:\n",
    "\n",
    "$\\begin{equation}\n",
    "F(x)=\n",
    "    \\begin{cases}\n",
    "        0 & \\text{if } -\\infty<x<0\\\\\n",
    "        \\frac{81}{256} & \\text{if } 0\\leq x<1\\\\\n",
    "        \\frac{189}{256} & \\text{if } 1\\leq x<2\\\\\n",
    "        \\frac{243}{256} & \\text{if } 2\\leq x<3\\\\\n",
    "        \\frac{255}{256} & \\text{if } 3\\leq x<4\\\\\n",
    "        1 & \\text{if } x \\geq 4\\\\\n",
    "    \\end{cases}\n",
    "\\end{equation}$\n",
    "\n",
    "\n"
   ]
  },
  {
   "cell_type": "code",
   "execution_count": 10,
   "metadata": {},
   "outputs": [
    {
     "data": {
      "text/plain": [
       "0.421875"
      ]
     },
     "execution_count": 10,
     "metadata": {},
     "output_type": "execute_result"
    }
   ],
   "source": [
    "np.sum(binomial_pmf(4, 0.25)[1:2])\n",
    "# This sums the previous pmf values from indices xx and xx\n",
    "# Just an idea to check values, i.e. the CDF"
   ]
  },
  {
   "cell_type": "markdown",
   "metadata": {},
   "source": [
    "Here is one way we can graph the piecewise CDF function:"
   ]
  },
  {
   "cell_type": "code",
   "execution_count": 11,
   "metadata": {},
   "outputs": [
    {
     "data": {
      "text/plain": [
       "(-0.01, 1.01)"
      ]
     },
     "execution_count": 11,
     "metadata": {},
     "output_type": "execute_result"
    },
    {
     "data": {
      "image/png": "[encoded data removed]",
      "text/plain": [
       "<Figure size 640x480 with 1 Axes>"
      ]
     },
     "metadata": {},
     "output_type": "display_data"
    }
   ],
   "source": [
    "#OPTION 1:  USING ax.hlines\n",
    "\n",
    "#Create an array that starts at smallest x-value minus 1 and ends at largest x-value plus 2:\n",
    "data = np.arange(-1, 6)\n",
    "\n",
    "#Enter in non-zero CDF values from CDF table:\n",
    "\n",
    "y = np.array([81/256, 189/256, 243/256,255/256,1])\n",
    "\n",
    "#Create a 2nd array for formatting piecewise endpoints\n",
    "yn = np.insert(y, 0, 0)\n",
    "\n",
    "fig, ax = plt.subplots()\n",
    "ax.set_facecolor('white')\n",
    "\n",
    "# https://matplotlib.org/api/_as_gen/matplotlib.axes.Axes.hlines.html\n",
    "ax.hlines(y=yn, xmin=data[:-1], xmax=data[1:],\n",
    "          color='red', zorder=1)\n",
    "\n",
    "# https://matplotlib.org/api/_as_gen/matplotlib.axes.Axes.vlines.html\n",
    "#ax.vlines(x=data[1:-1], ymin=yn[:-1], ymax=yn[1:], color='red',linestyle='dashed', zorder=1)\n",
    "\n",
    "ax.scatter(data[1:-1], y, color='red', s=18, zorder=2)\n",
    "ax.scatter(data[1:-1], yn[:-1], color='white', s=18, zorder=2,\n",
    "           edgecolor='red')\n",
    "ax.grid(False)\n",
    "ax.set_xlim(data[0], data[-1])\n",
    "ax.set_ylim([-0.01, 1.01])"
   ]
  },
  {
   "cell_type": "markdown",
   "metadata": {},
   "source": [
    "### Exercise 1 - Winning Concert Tickets \n",
    "*** \n",
    "\n",
    "You and a friend want to go to a concert, but unfortunately only one ticket is still available. The man who sells the tickets decides to toss a coin until heads appears. In each toss heads appears with probability $p$, where $0 < p < 1$, independent of each of the previous tosses. If the number of tosses needed is odd, your friend is allowed to buy the ticket; otherwise you can buy it. Would you agree to this arrangement?\n",
    "\n",
    "**Part A**: What discrete distribution would be useful in solving this problem? "
   ]
  },
  {
   "cell_type": "markdown",
   "metadata": {},
   "source": [
    "Solution here"
   ]
  },
  {
   "cell_type": "markdown",
   "metadata": {},
   "source": [
    "**Part B**: In a minute we'll simluate the approximate probability that you win the concert tickets, but before doing so, can you solve this problem mathematically?  (i.e. what is the probability you win and what is the probability your friend wins?) "
   ]
  },
  {
   "cell_type": "markdown",
   "metadata": {},
   "source": [
    "Solution here"
   ]
  },
  {
   "cell_type": "markdown",
   "metadata": {},
   "source": [
    "**Part C**: Write a Python function that takes in the probability of heads on the coin and returns the probability mass function of the random variable described above.  You can safely assume that nobody wants to stick around for more than 100 coin flips, so only consider up to and including the 100th coin flip.  So, the output of this function should be an array or list of length 100."
   ]
  },
  {
   "cell_type": "code",
   "execution_count": 12,
   "metadata": {},
   "outputs": [],
   "source": [
    "def pmf_geo(p):\n",
    "    #YOUR CODE HERE\n",
    "    \n",
    "    return pmf"
   ]
  },
  {
   "cell_type": "markdown",
   "metadata": {},
   "source": [
    "**Part D**: Use the function you wrote in **Part C** to estimate the probabilities that your friend or you win the ticket for different values of the bias of the coin.  Use $p = 0.25$, $~p = 0.5$, and $p = 0.75$. "
   ]
  },
  {
   "cell_type": "markdown",
   "metadata": {},
   "source": [
    "### Exercise 2 - Implementing and Sampling the Geometric Distribution \n",
    "***\n",
    "\n",
    "**Part A**: Write a function flips_until_heads that simulates the coin flipping scenario in **Exercise 1**. Your function should take as its sole argument the probability $p$ of flipping Heads for the coin and return the number of flips observed when you find your first Heads.  "
   ]
  },
  {
   "cell_type": "code",
   "execution_count": 13,
   "metadata": {},
   "outputs": [],
   "source": [
    "coin = np.array([\"H\", \"T\"])\n",
    "\n",
    "def flips_until_heads(p):\n",
    "    coin_flip = np.random.choice(coin, p=[p,1-p])\n",
    "    counter = 1\n",
    "    while coin_flip != \"H\":\n",
    "        counter += 1\n",
    "        coin_flip = np.random.choice(coin,p=[p,1-p])\n",
    "    return counter"
   ]
  },
  {
   "cell_type": "markdown",
   "metadata": {},
   "source": [
    "**Part B**: Now, run many trials of the experiment and count how many trials result in each value of the random variable.  Make a _density_ histogram of the results, using $p=0.25$. "
   ]
  },
  {
   "cell_type": "code",
   "execution_count": 14,
   "metadata": {},
   "outputs": [
    {
     "data": {
      "image/png": "[encoded data removed]",
      "text/plain": [
       "<Figure size 640x480 with 1 Axes>"
      ]
     },
     "metadata": {},
     "output_type": "display_data"
    }
   ],
   "source": [
    "# Solution:\n",
    "\n",
    "sample = [flips_until_heads(0.25) for k in range(10000)]\n",
    "\n",
    "bins = np.arange(0.5, 50.5, 1)\n",
    "plt.hist(sample, edgecolor=\"white\", bins=bins, density=True)\n",
    "plt.xticks(range(1,50))\n",
    "plt.xlim([0,20])\n",
    "plt.xlabel('Flips before first Heads')\n",
    "plt.ylabel('Density')\n",
    "plt.show()"
   ]
  },
  {
   "cell_type": "markdown",
   "metadata": {},
   "source": [
    "**Part C**: Use the function you wrote in **Exercise 1** to make a bar plot of the probability mass function of $X$.  Does it look like the density histogram from **Part B**?  If not, run your simulation in **Part B** for more trials.  Does the situation improve?  Again, use $p=0.25$ in your codes.\n"
   ]
  },
  {
   "cell_type": "code",
   "execution_count": 15,
   "metadata": {},
   "outputs": [],
   "source": [
    "# Solution:\n",
    "\n"
   ]
  },
  {
   "cell_type": "markdown",
   "metadata": {},
   "source": [
    "Why, the two of them look pretty darn similar!  Yay!"
   ]
  },
  {
   "cell_type": "markdown",
   "metadata": {},
   "source": [
    "### Exercise 4 - Predicting Space Shuttle Disasters \n",
    "***\n",
    "\n",
    "The space shuttle _Challenger_ disaster occurred in January 1986 when one of six O-rings failed and caused the main fuel tank to explode.  The failure of the O-ring was likely due to the low temperature at the time of the launch.  Further analysis shows that the probability of an O-ring failure as a function of temperature is given by \n",
    "\n",
    "$$\n",
    "p(T) = \\frac{e^{a+bT}}{1 + e^{a+bT}}\n",
    "$$\n",
    "\n",
    "where $a = 5.085$ and $b = -0.1156$, and $T$ is the temperature (in degrees Fahrenheit) at the time of the launch of the shuttle. At the time of the _Challenger_ launch the temperature was $T=31$, corresponding to a probability of O-ring failure of $p(31) = 0.8178$. \n",
    "\n",
    "**Part A**: Let $X$ be the number of failing O-rings at launch temperature $31^{\\circ} F$.  Assume that the failure of each of the six O-rings is independent. What type of probability distribution does $X$ have, and what are the values of its parameters? "
   ]
  },
  {
   "cell_type": "markdown",
   "metadata": {},
   "source": [
    "**Solution:**\n",
    "\n",
    "Your Answer here"
   ]
  },
  {
   "cell_type": "markdown",
   "metadata": {},
   "source": [
    "**Part B**: Calculate (by hand) the probability $P(X \\geq 1)$ that at least one O-ring fails."
   ]
  },
  {
   "cell_type": "markdown",
   "metadata": {},
   "source": [
    "**Solution:**\n",
    "\n",
    "Your Answer here"
   ]
  },
  {
   "cell_type": "markdown",
   "metadata": {},
   "source": [
    "**Part C**:  Let us assume that all space shuttles will be launched at $81^{\\circ}F$.  With this temperature, the probability of an O-ring failure is equal to $p(81) = 0.0137$. \n",
    "\n",
    "What is the probability that during 23 launches no O-ring will fail, but that at least one O-ring will fail during the 24th launch of the space shuttle? "
   ]
  },
  {
   "cell_type": "markdown",
   "metadata": {},
   "source": [
    "**Solution:**\n",
    "\n",
    "Your Answer here"
   ]
  },
  {
   "cell_type": "markdown",
   "metadata": {},
   "source": [
    "**Part D**: What is the probability that no O-ring fails during 24 launches? "
   ]
  },
  {
   "cell_type": "markdown",
   "metadata": {},
   "source": [
    "**Solution:**\n",
    "\n",
    "Your Answer here"
   ]
  },
  {
   "cell_type": "code",
   "execution_count": null,
   "metadata": {},
   "outputs": [],
   "source": []
  }
 ],
 "metadata": {
  "kernelspec": {
   "display_name": "Python 3 (ipykernel)",
   "language": "python",
   "name": "python3"
  },
  "language_info": {
   "codemirror_mode": {
    "name": "ipython",
    "version": 3
   },
   "file_extension": ".py",
   "mimetype": "text/x-python",
   "name": "python",
   "nbconvert_exporter": "python",
   "pygments_lexer": "ipython3",
   "version": "3.10.8"
  }
 },
 "nbformat": 4,
 "nbformat_minor": 4
}
