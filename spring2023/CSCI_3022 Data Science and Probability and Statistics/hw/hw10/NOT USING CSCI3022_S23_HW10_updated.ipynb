{
 "cells": [
  {
   "cell_type": "markdown",
   "metadata": {},
   "source": [
    "<a id='top'></a>\n",
    "\n"
   ]
  },
  {
   "cell_type": "markdown",
   "metadata": {},
   "source": [
    "<a id='top'></a>\n",
    "\n",
    "\n",
    "# CSCI3022 S23\n",
    "\n",
    "\n",
    "# Homework 10: Bootstrapping and Intro to SLR\n",
    "## Due Monday, April 24th at 11:59pm to Gradescope\n",
    "***\n",
    "\n",
    "**Name**: ________________________________________________________________________\n",
    "\n",
    "***\n",
    "\n",
    "***\n",
    "### Collaboration Policy\n",
    "\n",
    "While completing the assignment you are not allowed to consult any source other than the course textbooks/online reference links provided on Canvas, your own class notes, and/or the posted lecture slides/in-class Jupyter notebooks.   You may discuss questions you have with your classmates or on Piazza or in office hours, but all work you submit must be your own, which means when writing up your solutions or code, you MUST do it entirely by yourself. \n",
    "\n",
    "You should be able to easily reproduce from scratch and explain a solution that was your own when asked in office hours by a TA/Instructor or on a quiz/exam without referencing your notes/book/HW.   \n",
    "\n",
    "\n",
    "**Do not search/ask for a solution online**: You may not actively search for a solution to the problems below from the internet. This includes posting to or using sources like ChatGPT, StackOverflow, StackExchange, Reddit, Chegg, CourseHero, etc.  \n",
    "\n",
    "**We are here to help!  Visit HW Hours and/or post questions on Piazza!**\n",
    "\n",
    "\n",
    "Copying/consulting from the solution of another classmate or an online solution (or providing a classmate your solution) constitutes a **violation of the course's collaboration policy and the honor code and will result in an F in the course and a trip to the honor council**.   \n",
    "\n",
    "\n",
    "\n",
    "\n",
    "\n",
    "\n",
    "### Instructions for Submitting in Correct Format \n",
    "\n",
    "You must submit a PDF of this Juptyer notebook to Gradescope by the deadline listed above.  Submissions that are not a PDF or that are not submitted to Gradescope will not be counted for credit.  \n",
    "\n",
    "$\\color{red}{\\text{Before submitting your PDF, make sure that your LaTeX has rendered correctly in your PDF.}}$\n",
    "$\\color{red}{\\text{Any of your solutions with incorrectly rendered or incompletely rendered LaTeX will be given 0 points.}}$ \n",
    "\n",
    "- There are several ways to quickly make a .pdf out of this notebook for Gradescope submission.  \n",
    " \n",
    " - If you are running Juptyer locally on your computer: \n",
    " \n",
    "     - Option1 : Select Kernel->Restart & Run All.  Then select File ->  Print Preview, and then Right-Click -> Print using your default browser and \"Print to PDF\"\n",
    " \n",
    "     - Option 2: Select Kernel->Restart & Run All.   Then select File -> Download as PDF via LaTeX.  This will require your system path find a working install of a TeX compiler\n",
    " \n",
    " - If you are running using CSEL: \n",
    " \n",
    "     - Option1 :  Go to File ->Save & Export Notebook As-> HTML.  Then open the HTML, and then Right-Click -> Print and select \"Print to PDF\".  \n",
    "     - Option2 :  Go to File ->Download. Then use this converter https://htmtopdf.herokuapp.com/ipynbviewer/ to convert ipynb to pdf.\n",
    " \n",
    "### Notes\n",
    "- For full points you must correctly match your questions to the respective Gradescope problem, and include clear comments in your code.   Please note that any LaTeX that is not correctly rendered in your submitted PDF will result in a 0 on the entire problem(s) that involves the unrendered LaTeX. \n",
    "- You **must show all work and justify ALL answers to receive credit**. Sparse or nonexistent work will receive sparse or nonexistent credit. \n",
    "- Any relevant data sets are available on Canvas. \n",
    "- LaTeX Tips:  Here is a [reference guide] (https://math.meta.stackexchange.com/questions/5020/mathjax-basic-tutorial-and-quick-reference).  **All** of your written commentary, justifications and mathematical work should be in Markdown.  I also recommend the [wikibook](https://en.wikibooks.org/wiki/LaTeX) for LaTex.\n",
    "- Because you can technically evaluate notebook cells is a non-linear order, it's a good idea to do **Kernel $\\rightarrow$ Restart & Run All** as a check before submitting your solutions.  \n",
    "- It is **bad form** to make your reader interpret numerical output from your code.  If a question asks you to compute some value from the data you should show your code output **AND** write a summary of the results in Markdown directly below your code. \n",
    "\n",
    "- There is *not a prescribed API* for these problems.  You may answer coding questions with whatever syntax or object typing you deem fit.  Your evaluation will primarily live in the clarity of how well you present your final results, so don't skip over any interpretations!  Your code should still be commented and readable to ensure you followed the given course algorithm.\n",
    "\n",
    "\n",
    "\n",
    "\n",
    "We'll need Numpy, Matplotlib, Pandas, and scipy.stats for this notebook, so let's load them. "
   ]
  },
  {
   "cell_type": "code",
   "execution_count": 3,
   "metadata": {},
   "outputs": [],
   "source": [
    "import numpy as np\n",
    "import pandas as pd\n",
    "import matplotlib.pylab as plt\n",
    "import scipy.stats as stats\n",
    "import statsmodels.api as sm\n",
    "from patsy import dmatrices\n",
    "%matplotlib inline"
   ]
  },
  {
   "cell_type": "markdown",
   "metadata": {},
   "source": [
    "\n",
    "---\n",
    "**Shortcuts:**  [Problem 1](#p1) | [Problem 2](#p2) |[Problem 3](#p3) \n",
    "---\n"
   ]
  },
  {
   "cell_type": "markdown",
   "metadata": {},
   "source": [
    "<br>\n",
    "\n",
    "---\n",
    "<a/ id='p1'></a>\n",
    "\n",
    "### [4 points] Problem 1  - Scientists vs. P-Values \n",
    "***\n",
    "\n",
    "Read the following article from **FiveThirtyEight**: [Statisticians Found One Thing They Can Agree On: It's Time to Stop Misusing P-Values](http://fivethirtyeight.com/features/statisticians-found-one-thing-they-can-agree-on-its-time-to-stop-misusing-p-values/). Then answer the following questions:  \n",
    "\n",
    "Based on the article:\n",
    "\n",
    "a).  In what ways are scientists misusing p-values?  \n",
    "\n",
    "\n",
    "b).  What suggestions are being made to use them properly? "
   ]
  },
  {
   "cell_type": "markdown",
   "metadata": {},
   "source": [
    "<br>\n",
    "\n",
    "---\n",
    "<a/ id='p2'></a>\n",
    "[Back to top](#top)\n",
    "## (22 pts) Problem 2  (Confidence Intervals & Bootstrapping)\n",
    "\n",
    "Consider the `hubble.csv` sample data set we used in nb09. (A description of the variables can be obtained from page 73 of https://cran.r-project.org/web/packages/gamair/gamair.pdf.) \n",
    "\n",
    "We're interested in using this sample data to calculate the mean distance from a galaxy to Earth in Mega parsecs (column `x` of the data).\n",
    "\n",
    "Load the data into a dataframe:\n",
    "\n"
   ]
  },
  {
   "cell_type": "code",
   "execution_count": null,
   "metadata": {},
   "outputs": [],
   "source": []
  },
  {
   "cell_type": "markdown",
   "metadata": {},
   "source": [
    "\n",
    "**Part A**:\n",
    "\n",
    "When creating a $t$-confidence interval when we have less than 30 data points, the theoretical assumptions require that the population distribution is approximately normally distributed.  Let's check this assumption visually:\n",
    "\n",
    "**Part A1: (2 pts)** Make a **density** histogram of the '$x$' data and overlay the theoretical density of the normal with mean $\\bar{x}$ and sample variance $s^2$.  \n",
    " "
   ]
  },
  {
   "cell_type": "code",
   "execution_count": null,
   "metadata": {},
   "outputs": [],
   "source": []
  },
  {
   "cell_type": "markdown",
   "metadata": {},
   "source": [
    "**Part A2: (1 pt)** Make a QQ-plot of the '$x$' data compared with the quantiles of a normal distribution. \n",
    "  "
   ]
  },
  {
   "cell_type": "code",
   "execution_count": null,
   "metadata": {},
   "outputs": [],
   "source": []
  },
  {
   "cell_type": "markdown",
   "metadata": {},
   "source": [
    "**Part A3:(1 pt)**  Based on your plots above, does this data appear approximately normally distributed or not?  Explain.\n",
    "  "
   ]
  },
  {
   "cell_type": "markdown",
   "metadata": {},
   "source": []
  },
  {
   "cell_type": "markdown",
   "metadata": {},
   "source": [
    "**Part B**:\n",
    "\n",
    "Things may not look perfectly normal in part A.  Fortunately, as long as the distribution is not extremely skewed, the theoretical method is pretty robust.  To see this, let's create confidence intervals using the theory that requires normality anyway, to see how it does:   \n",
    "\n",
    "For Part B only, assume each observation is independent and identically distributed as a normal random variable.\n",
    "\n",
    "**Part B1 (2 pts)** Create a 95% confidence interval for the mean of a galaxy's distance from Earth in Mega parsecs from scratch using the definition of a t-confidence interval shown below (i.e. use the data to calculate each of the variables shown below, and do NOT use a built-in confidence interval method):\n",
    "\n",
    "$$\\bar{x} \\pm t_{\\alpha/2,n-1}\\hspace{1mm}\\frac{s}{\\sqrt{n}} $$\n"
   ]
  },
  {
   "cell_type": "code",
   "execution_count": null,
   "metadata": {},
   "outputs": [],
   "source": []
  },
  {
   "cell_type": "markdown",
   "metadata": {},
   "source": [
    "**Part B2 (1 pt)** Check your answer to B1 using a built-in function to calculate t-confidence intervals.  "
   ]
  },
  {
   "cell_type": "code",
   "execution_count": null,
   "metadata": {},
   "outputs": [],
   "source": []
  },
  {
   "cell_type": "markdown",
   "metadata": {},
   "source": [
    "**Part B3** Suppose you were only given the output of this confidence interval.  Determine whether or not you can answer the questions below, and if so, answer them.  If not, explain what additional information you'd need:\n",
    "\n",
    " - **Part B3i (1 pt)** Using only the confidence interval you found in part B2, can you find the sample mean $\\bar{x}$ for the galaxy data?  If so, find it and then check your answer by actually computing the sample mean (you can use built-in functions).\n",
    " "
   ]
  },
  {
   "cell_type": "markdown",
   "metadata": {},
   "source": []
  },
  {
   "cell_type": "markdown",
   "metadata": {},
   "source": [
    " - **Part B3ii (2 pts)** Suppose want to test the hypothesis that the population mean of a galaxy's distance from Earth is $H_0: \\mu_x=16$ (Mega parsecs) vs $H_A: \\mu_x\\neq 16$ (Mega parsecs), at the $95\\%$ confidence level.   Using only the confidence interval from part B2 can you make a conclusion about your test?  What does your test conclude?\n",
    " "
   ]
  },
  {
   "cell_type": "markdown",
   "metadata": {},
   "source": []
  },
  {
   "cell_type": "markdown",
   "metadata": {},
   "source": [
    " - **Part B3iii (1 pt)** Check your answer to part (B3ii) by conducting a hypothesis test using the built-in function `scipy.stats.ttest_1samp` (https://docs.scipy.org/doc/scipy/reference/generated/scipy.stats.ttest_1samp.html) \n",
    "\n",
    " - What is the p-value?  What is the conclusion of the test using this p-value?\n",
    " "
   ]
  },
  {
   "cell_type": "code",
   "execution_count": null,
   "metadata": {},
   "outputs": [],
   "source": []
  },
  {
   "cell_type": "markdown",
   "metadata": {},
   "source": [
    "**Part C**:\n",
    "\n",
    "For part C only, assume each observation is independent and identically distributed but is **not** normally distributed. In that case we can use  bootstrapping to create a 95% confidence interval for the mean of a galaxy's distance from Earth in Mega parsecs.  \n",
    "\n",
    "**Part C1 (2 pts)** Write code for a function to take in sample data and draw $10000$ bootstrapped resamples (with replacement) from the data.   This function should: \n",
    "\n",
    " - Plot a histogram of the bootstrapped sample means\n",
    "\n",
    " - Compute a bootstrapped confidence interval for the mean at the 95% confidence level\n",
    "\n",
    " - Plot the confidence interval for the mean on the histogram (see nb10 for an example)\n",
    "  \n"
   ]
  },
  {
   "cell_type": "code",
   "execution_count": 4,
   "metadata": {},
   "outputs": [
    {
     "ename": "SyntaxError",
     "evalue": "incomplete input (3421526682.py, line 2)",
     "output_type": "error",
     "traceback": [
      "\u001b[0;36m  Cell \u001b[0;32mIn[4], line 2\u001b[0;36m\u001b[0m\n\u001b[0;31m    #Your Code Here\u001b[0m\n\u001b[0m                   ^\u001b[0m\n\u001b[0;31mSyntaxError\u001b[0m\u001b[0;31m:\u001b[0m incomplete input\n"
     ]
    }
   ],
   "source": [
    "def bootstrapped_mean(sample, num_boots=10000):\n",
    "    #Your Code Here"
   ]
  },
  {
   "cell_type": "markdown",
   "metadata": {},
   "source": [
    "***Part C2 (1 pt)***  Compare your bootstrapped CI to the theoretical CI you computed in Part B.  Are they similar or different? "
   ]
  },
  {
   "cell_type": "markdown",
   "metadata": {},
   "source": []
  },
  {
   "cell_type": "markdown",
   "metadata": {},
   "source": [
    "**Part D** \n",
    "Bootstrapping is useful for calculating CIs for many other population parameters (not just means).  \n",
    "For each of the parameters below:\n",
    " - use bootstrapping to create the indicated confidence interval AND \n",
    " - overlay this confidence interval on a histogram of the bootstrapped results (similar to Part C).\n",
    "\n",
    "Your final answer to this part should include 4 different histograms and CIs (one for each parameter).  \n",
    "\n",
    "\n",
    "**Part D1 (2 pts)** A $90\\%$ CI for the **standard deviation** of a galaxy's distance from Earth in Mega parsecs."
   ]
  },
  {
   "cell_type": "code",
   "execution_count": null,
   "metadata": {},
   "outputs": [],
   "source": []
  },
  {
   "cell_type": "markdown",
   "metadata": {},
   "source": [
    "**Part D2 (2 pts)** An $85\\%$ CI for the **lower quartile** of a galaxy's distance from Earth in Mega parsecs.\n",
    "\n"
   ]
  },
  {
   "cell_type": "code",
   "execution_count": null,
   "metadata": {},
   "outputs": [],
   "source": []
  },
  {
   "cell_type": "markdown",
   "metadata": {},
   "source": [
    "**Part D3 (2 pts)**  A $94\\%$ CI for the **upper quartile** of a galaxy's distance from Earth in Mega parsecs.\n",
    "\n"
   ]
  },
  {
   "cell_type": "code",
   "execution_count": null,
   "metadata": {},
   "outputs": [],
   "source": []
  },
  {
   "cell_type": "markdown",
   "metadata": {},
   "source": [
    "\n",
    "**Part D4 (2 pts)** A $ 80\\%$ CI for the **interquartile range (IQR)** of a galaxy's distance from Earth in Mega parsecs.\n",
    "\n"
   ]
  },
  {
   "cell_type": "code",
   "execution_count": null,
   "metadata": {},
   "outputs": [],
   "source": []
  },
  {
   "cell_type": "markdown",
   "metadata": {},
   "source": [
    "[Back to top](#top)\n",
    "\n",
    "<a id='p3'></a>\n",
    "\n",
    "## (24 pts) Problem 3: Practice with SLR and Inference\n",
    "\n",
    "\n",
    "Is calcium in your drinking water good for your health? In England and Wales, an investigation of environmental causes of disease was conducted. The annual mortality rate (percentage of deaths) and the calcium concentration in the drinking water supply were recorded for $61$ large towns. The data in mortality.csv represent the annual mortality rate averaged over the years 1958–1964, and the calcium concentration in parts per million. \n",
    "\n",
    "The data has the following variables:\n",
    "\n",
    "- `Rate`; the annual mortality rate (as a percentage) over the years 1958–1964 of 61 towns in England and Wales.\n",
    "- `Calc`; the recorded calcium concentration in the drinking water supply for those towns, in parts-per-million\n",
    "\n",
    "\n",
    "Load the data in Pandas and make a scatter plot with the calcium concentration as the feature on the horizontal axis and mortality rate as the response on the vertical axis. \n"
   ]
  },
  {
   "cell_type": "code",
   "execution_count": null,
   "metadata": {},
   "outputs": [],
   "source": []
  },
  {
   "cell_type": "markdown",
   "metadata": {},
   "source": [
    "**Part A1) (2 pts)** \n",
    " - Create a linear regression model using the `OLS` method from `statsmodels`.   Note: Remember to include an intercept in your model (see NB 12 for how to do this).\n",
    " - Print the resulting `summary` table \n",
    " - Typeset the actual line of best fit (as a print statement or in a markdown cell), using the coefficients from your fit.  (See: `.params`.)"
   ]
  },
  {
   "cell_type": "code",
   "execution_count": null,
   "metadata": {},
   "outputs": [],
   "source": []
  },
  {
   "cell_type": "markdown",
   "metadata": {},
   "source": [
    "**Part A2) (1 pt)**  What are the units of the slope and the intercept in your model from part b1?"
   ]
  },
  {
   "cell_type": "markdown",
   "metadata": {},
   "source": [
    "**Solution**:"
   ]
  },
  {
   "cell_type": "markdown",
   "metadata": {},
   "source": [
    "Part A3) \n",
    "\n",
    "Several of the outputs are smaller than $0.001$ and thus show up in the table as $0.000$.  To see their exact values, you can use built-in attributes.  \n",
    "\n",
    "Here are some useful built-in attributes to explore the output.  Note that in each output the first entry is info for the intercept and the 2nd entry is info for the slope.\n",
    "\n",
    "\n"
   ]
  },
  {
   "cell_type": "code",
   "execution_count": 5,
   "metadata": {},
   "outputs": [
    {
     "ename": "NameError",
     "evalue": "name 'lm' is not defined",
     "output_type": "error",
     "traceback": [
      "\u001b[0;31m---------------------------------------------------------------------------\u001b[0m",
      "\u001b[0;31mNameError\u001b[0m                                 Traceback (most recent call last)",
      "Cell \u001b[0;32mIn[5], line 1\u001b[0m\n\u001b[0;32m----> 1\u001b[0m \u001b[38;5;28mprint\u001b[39m(\u001b[38;5;124m\"\u001b[39m\u001b[38;5;124mCoefficients: \u001b[39m\u001b[38;5;124m\"\u001b[39m, \u001b[43mlm\u001b[49m\u001b[38;5;241m.\u001b[39mparams)\n\u001b[1;32m      2\u001b[0m \u001b[38;5;28mprint\u001b[39m(\u001b[38;5;124m\"\u001b[39m\u001b[38;5;124mStandard errors: \u001b[39m\u001b[38;5;124m\"\u001b[39m, lm\u001b[38;5;241m.\u001b[39mbse)\n\u001b[1;32m      3\u001b[0m \u001b[38;5;28mprint\u001b[39m(\u001b[38;5;124m\"\u001b[39m\u001b[38;5;124mp-values: \u001b[39m\u001b[38;5;124m\"\u001b[39m, lm\u001b[38;5;241m.\u001b[39mpvalues)\n",
      "\u001b[0;31mNameError\u001b[0m: name 'lm' is not defined"
     ]
    }
   ],
   "source": [
    "print(\"Coefficients: \", lm.params)\n",
    "print(\"Standard errors: \", lm.bse)\n",
    "print(\"p-values: \", lm.pvalues)\n",
    "print(\"Confidence intervals\", lm.conf_int(.05))"
   ]
  },
  {
   "cell_type": "markdown",
   "metadata": {},
   "source": [
    "\n",
    "#### Part B: Visualize.\n",
    "\n",
    "**Part B1 (4 pts)** Make the following 4 plots:\n",
    "\n",
    "\n",
    "i).  A scatter plot of the data set with overlay the line of best least-squares fit.\n",
    "\n",
    "ii).  A histogram of *residuals* of best least-squares fit.  \n",
    "\n",
    "iii).  A Q-Q plot of *residuals*, comparing to a normal distribution.\n",
    "\n",
    "iv).  A scatter plot where the original x-values are the x-axis and the *residuals* are the y-axis "
   ]
  },
  {
   "cell_type": "code",
   "execution_count": null,
   "metadata": {},
   "outputs": [],
   "source": []
  },
  {
   "cell_type": "code",
   "execution_count": null,
   "metadata": {},
   "outputs": [],
   "source": []
  },
  {
   "cell_type": "code",
   "execution_count": null,
   "metadata": {},
   "outputs": [],
   "source": []
  },
  {
   "cell_type": "markdown",
   "metadata": {},
   "source": [
    "**Part B2 (2 pts)**: What are the 4 major assumptions of the simple linear model?  For each of these assumptions, use your plots in part B1 to decide whether or not the data set meets those assumptions. Explain your reasoning."
   ]
  },
  {
   "cell_type": "markdown",
   "metadata": {},
   "source": [
    "**Solution:**\n"
   ]
  },
  {
   "cell_type": "markdown",
   "metadata": {},
   "source": [
    "**Part C: Statistical Inference**: \n",
    "\n",
    "In the rest of this problem we will draw specific statistical conclusions from our analysis and linear model.  For each prompt, you should provide both a numerical answer and a full sentence explaining the conclusion.\n",
    "\n",
    "**Part C1 (2 pts)**: \n",
    "Use the output of your model to find how much of the variance in the mortality rates can be explained by the calcium in the drinking water?  Does this seem like a high value or not given the context? Explain your reasoning.\n"
   ]
  },
  {
   "cell_type": "markdown",
   "metadata": {},
   "source": []
  },
  {
   "cell_type": "markdown",
   "metadata": {},
   "source": [
    "**Part C2 (2 pts)**: Verify your answer to part C1 by calculating $R^2$ step-by step in Python.  i.e. complete the following code and output the $R^2$ value.  Verify that it matches the output from the model summary table.  \n",
    "\n"
   ]
  },
  {
   "cell_type": "code",
   "execution_count": 6,
   "metadata": {},
   "outputs": [
    {
     "ename": "SyntaxError",
     "evalue": "invalid syntax (2157969369.py, line 1)",
     "output_type": "error",
     "traceback": [
      "\u001b[0;36m  Cell \u001b[0;32mIn[6], line 1\u001b[0;36m\u001b[0m\n\u001b[0;31m    yhat = # TODO\u001b[0m\n\u001b[0m           ^\u001b[0m\n\u001b[0;31mSyntaxError\u001b[0m\u001b[0;31m:\u001b[0m invalid syntax\n"
     ]
    }
   ],
   "source": [
    "\n",
    "    yhat = # TODO \n",
    "    SSE  = # TODO \n",
    "    SSR  = # TODO \n",
    "    SST  = # TODO \n",
    "    R2 = #TODO \n",
    "    \n",
    "    "
   ]
  },
  {
   "cell_type": "markdown",
   "metadata": {},
   "source": [
    "**Part C3)**:  A skeptic insists that \"there's no way water quality is actually affecting death rates.\"  You decide to test whether or not your linear model demonstrates otherwise.  \n",
    "\n",
    "**C3i) (1 pt)**  To test this, you start with the null hypothesis that water quality is NOT actually affecting death rates.  Write the null hypothesis and the alternative hypothesis mathematically in terms of our model parameter(s):\n",
    "\n",
    "\n"
   ]
  },
  {
   "cell_type": "code",
   "execution_count": null,
   "metadata": {},
   "outputs": [],
   "source": []
  },
  {
   "cell_type": "markdown",
   "metadata": {},
   "source": [
    "**C3ii)(1 pt)**  Using the summary table output of the model, what is the $95\\%$ confidence interval for the slope $\\beta$?\n",
    "\n"
   ]
  },
  {
   "cell_type": "code",
   "execution_count": null,
   "metadata": {},
   "outputs": [],
   "source": []
  },
  {
   "cell_type": "markdown",
   "metadata": {},
   "source": [
    "**C3iii)(1 pts)** Using the confidence interval from C3ii, can you make a conclusion about your hypothesis test?  If so, what do you conclude?  If not, what additional information would you need?\n"
   ]
  },
  {
   "cell_type": "markdown",
   "metadata": {},
   "source": []
  },
  {
   "cell_type": "markdown",
   "metadata": {},
   "source": [
    "**Part C4)**:  The government decides they believe your analysis in part C3 that Calcium levels are actually affecting death rates,  but augmenting the drinking supply with Calcium is costly.  They insist that they don't actually want to take any actions unless you can demonstrate that the effect size of `Calcium` concentration on mortality `Rate` is *large enough*.  \n",
    "\n",
    "In particular, they will implement a calcification campaign if and only one part-per-million of `Calcium` decreases mortality rate by more than 0.0025 percentage at the $1\\%$ significance level.\n",
    "i.e. $\\frac{\\text{change in mortality %}}{\\text{change in ppm of Calcium}}< -0.0025$\n",
    "\n",
    "We can reframe this as a new hypothesis test, where\n",
    "\n",
    "$H_0: \\beta = -0.0025$\n",
    "\n",
    "and\n",
    "\n",
    "$H_A:  \\beta < -0.0025$\n",
    "\n",
    "\n",
    "**Part C4i (1 pt)**.  Since this is a one-sided test, our rejection region will only be in the left tail.  Find the cutoff for the rejection region  (i.e. find  $-t_{\\alpha/2, n-2})$.  You can use built-in Python functions to calculate.\n",
    "\n"
   ]
  },
  {
   "cell_type": "code",
   "execution_count": null,
   "metadata": {},
   "outputs": [],
   "source": []
  },
  {
   "cell_type": "markdown",
   "metadata": {},
   "source": [
    "**Part C4ii (1 pt)**  The formula for the test statistic for this test assuming the null hypothesis is true is given by:\n",
    "\n",
    "test_statistic $=\\frac{b-\\beta}{SE(b)}=\\frac{b-(-.0025)}{SE(b)}$\n",
    "\n",
    "\n",
    "Use the summary output from the model to find the terms needed to calculate this test statistic and then calculate.\n"
   ]
  },
  {
   "cell_type": "code",
   "execution_count": null,
   "metadata": {},
   "outputs": [],
   "source": []
  },
  {
   "cell_type": "markdown",
   "metadata": {},
   "source": [
    "**Part C4iii (1 pt)**  Is your test statistic in your rejection region or not?  What do you recommend to the government based on the results of this test?"
   ]
  },
  {
   "cell_type": "markdown",
   "metadata": {},
   "source": []
  },
  {
   "cell_type": "markdown",
   "metadata": {},
   "source": [
    "**Part D** Prediction and Confidence Bands\n",
    "\n",
    "**Part D1) (2 pts)**  Create one plot with the original data, the model, and the $95\\%$ predication and confidence bands for the model (see nb12 for how to do this).\n"
   ]
  },
  {
   "cell_type": "code",
   "execution_count": null,
   "metadata": {},
   "outputs": [],
   "source": []
  },
  {
   "cell_type": "markdown",
   "metadata": {},
   "source": [
    "\n",
    "**Part D2) (1 pt)** Explain the difference between what the $95\\%$ prediction band is measuring vs the $95\\%$ confidence band.\n"
   ]
  },
  {
   "cell_type": "markdown",
   "metadata": {},
   "source": []
  },
  {
   "cell_type": "markdown",
   "metadata": {},
   "source": [
    "**Part D3)**:  The town of Manchester and their football clubs are loathsome.  While the town wasn't originally tested, we are told that the calcium concentration in their drinking water is exactly 100 ppm.\n",
    "\n",
    "**Part D3i (1 pt)** What is the 95% **prediction** interval for the mortality rate in Manchester?  In other words, given our linear model, what is the interval that we think should contain the actual mortality rate for Manchester?\n",
    "\n",
    "\n",
    "**Part D3ii (1 pt)**  \n",
    "What is the 95% **confidence** interval for the mortality rate in Manchester?  In other words, what is the interval that we think should contain the **mean** mortality rate for any town with a Calcium concentration of 100 ppm?\n"
   ]
  },
  {
   "cell_type": "code",
   "execution_count": null,
   "metadata": {},
   "outputs": [],
   "source": []
  },
  {
   "cell_type": "markdown",
   "metadata": {},
   "source": [
    "**Answers To Selected Problems**\n",
    "\n",
    "Problem 2\n",
    "B1:  [9.5992725, 14.5098941]\n",
    "\n",
    "B3ii:  Yes, we can reject the null and accept the alternative that $\\mu_x\\neq 16$\n",
    "\n",
    "B3iii:  pvalue=$0.002953586$\n",
    "\n",
    "C2:  Answers will vary.  Should be something close to [9.7, 14.3]\n",
    "\n",
    "D1:  Answers will vary.  Should be something close to [4.6, 6.7]\n",
    "\n",
    "D2:  Answers will vary.  Should be something close to [3.6, 11.2]\n",
    "\n",
    "D3:  Answers will vary.  Should be something close to  [14.3, 17.8]\n",
    "\n",
    "D4:  Answers will vary.  Should be something close to  [4.9, 11.6]\n",
    "\n",
    "Problem 3\n",
    "\n",
    "C4i:  -2.66175\n",
    "\n",
    "C4ii:  test_statistic = -1.49795\n",
    "\n",
    "\n",
    "\n",
    "\n"
   ]
  },
  {
   "cell_type": "markdown",
   "metadata": {},
   "source": [
    "## [Back to top](#top)\n"
   ]
  },
  {
   "cell_type": "code",
   "execution_count": null,
   "metadata": {},
   "outputs": [],
   "source": []
  },
  {
   "cell_type": "code",
   "execution_count": null,
   "metadata": {},
   "outputs": [],
   "source": []
  },
  {
   "cell_type": "code",
   "execution_count": null,
   "metadata": {},
   "outputs": [],
   "source": []
  },
  {
   "cell_type": "code",
   "execution_count": null,
   "metadata": {},
   "outputs": [],
   "source": []
  },
  {
   "cell_type": "code",
   "execution_count": null,
   "metadata": {},
   "outputs": [],
   "source": []
  },
  {
   "cell_type": "code",
   "execution_count": null,
   "metadata": {},
   "outputs": [],
   "source": []
  },
  {
   "cell_type": "code",
   "execution_count": null,
   "metadata": {},
   "outputs": [],
   "source": []
  },
  {
   "cell_type": "code",
   "execution_count": null,
   "metadata": {},
   "outputs": [],
   "source": []
  },
  {
   "cell_type": "code",
   "execution_count": null,
   "metadata": {},
   "outputs": [],
   "source": []
  },
  {
   "cell_type": "code",
   "execution_count": null,
   "metadata": {},
   "outputs": [],
   "source": []
  },
  {
   "cell_type": "code",
   "execution_count": null,
   "metadata": {},
   "outputs": [],
   "source": []
  },
  {
   "cell_type": "code",
   "execution_count": null,
   "metadata": {},
   "outputs": [],
   "source": []
  },
  {
   "cell_type": "code",
   "execution_count": null,
   "metadata": {},
   "outputs": [],
   "source": []
  },
  {
   "cell_type": "code",
   "execution_count": null,
   "metadata": {},
   "outputs": [],
   "source": []
  },
  {
   "cell_type": "code",
   "execution_count": null,
   "metadata": {},
   "outputs": [],
   "source": []
  },
  {
   "cell_type": "code",
   "execution_count": null,
   "metadata": {},
   "outputs": [],
   "source": []
  },
  {
   "cell_type": "code",
   "execution_count": null,
   "metadata": {},
   "outputs": [],
   "source": []
  },
  {
   "cell_type": "code",
   "execution_count": null,
   "metadata": {},
   "outputs": [],
   "source": []
  }
 ],
 "metadata": {
  "kernelspec": {
   "display_name": "Python 3 (ipykernel)",
   "language": "python",
   "name": "python3"
  },
  "language_info": {
   "codemirror_mode": {
    "name": "ipython",
    "version": 3
   },
   "file_extension": ".py",
   "mimetype": "text/x-python",
   "name": "python",
   "nbconvert_exporter": "python",
   "pygments_lexer": "ipython3",
   "version": "3.10.8"
  }
 },
 "nbformat": 4,
 "nbformat_minor": 4
}
