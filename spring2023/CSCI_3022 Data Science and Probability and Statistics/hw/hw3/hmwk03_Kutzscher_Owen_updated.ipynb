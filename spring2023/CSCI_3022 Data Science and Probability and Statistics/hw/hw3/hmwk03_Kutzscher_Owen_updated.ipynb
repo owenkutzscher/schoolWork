{
 "cells": [
  {
   "cell_type": "markdown",
   "metadata": {},
   "source": [
    "<a id='top'></a>\n",
    "\n",
    "# CSCI3022 S23\n",
    "\n",
    "\n",
    "\n",
    "# Homework 3: Introduction to Probability and Simulation \n",
    "\n",
    "## Due Monday, February 6th at 11:59pm to Gradescope\n",
    "***\n",
    "\n",
    "**Name**: Owen Kutzscher\n",
    "\n",
    "***\n",
    "\n",
    "***\n",
    "### Collaboration Policy\n",
    "\n",
    "While completing the assignment you are not allowed to consult any source other than the course textbooks/online reference links provided on Canvas, your own class notes, and/or the posted lecture slides/in-class Jupyter notebooks.   You may discuss questions you have with your classmates or on Piazza or in office hours, but all work you submit must be your own, which means when writing up your solutions or code, you MUST do it entirely by yourself. \n",
    "\n",
    "You should be able to easily reproduce from scratch and explain a solution that was your own when asked in office hours by a TA/Instructor or on a quiz/exam without referencing your notes/book/HW.   \n",
    "\n",
    "\n",
    "**Do not search/ask for a solution online**: You may not actively search for a solution to the problems below from the internet. This includes posting to or using sources like ChatGPT, StackOverflow, StackExchange, Reddit, Chegg, CourseHero, etc.  \n",
    "\n",
    "**We are here to help!  Visit HW Hours and/or post questions on Piazza!**\n",
    "\n",
    "\n",
    "Copying/consulting from the solution of another classmate or an online solution (or providing a classmate your solution) constitutes a **violation of the course's collaboration policy and the honor code and will result in an F in the course and a trip to the honor council**.   \n",
    "\n",
    "\n",
    "\n",
    "\n",
    "\n",
    "\n",
    "### Instructions for Submitting in Correct Format \n",
    "\n",
    "You must submit a PDF of this Juptyer notebook to Gradescope by the deadline listed above.  Submissions that are not a PDF or that are not submitted to Gradescope will not be counted for credit.  \n",
    "\n",
    "$\\color{red}{\\text{Before submitting your PDF, make sure that your LaTeX has rendered correctly in your PDF.}}$\n",
    "$\\color{red}{\\text{Any of your solutions with incorrectly rendered or incompletely rendered LaTeX will be given 0 points.}}$ \n",
    "\n",
    "- There are several ways to quickly make a .pdf out of this notebook for Gradescope submission.  \n",
    " \n",
    " - If you are running Juptyer locally on your computer: \n",
    " \n",
    "     - Option1 : Select Kernel->Restart & Run All.  Then select File ->  Print Preview, and then Right-Click -> Print using your default browser and \"Print to PDF\"\n",
    " \n",
    "     - Option 2: Select Kernel->Restart & Run All.   Then select File -> Download as PDF via LaTeX.  This will require your system path find a working install of a TeX compiler\n",
    " \n",
    " - If you are running using CSEL: \n",
    " \n",
    "     - Option1 :  Go to File ->Save & Export Notebook As-> HTML.  Then open the HTML, and then Right-Click -> Print and select \"Print to PDF\".  \n",
    "     - Option2 :  Go to File ->Download. Then use this converter https://htmtopdf.herokuapp.com/ipynbviewer/ to convert ipynb to pdf.\n",
    " \n",
    "### Notes\n",
    "- For full points you must correctly match your questions to the respective Gradescope problem, and include clear comments in your code.   Please note that any LaTeX that is not correctly rendered in your submitted PDF will result in a 0 on the entire problem(s) that involves the unrendered LaTeX. \n",
    "- For any question that asks you to calculate something, you **must show all work and justify your answers to receive credit**. Sparse or nonexistent work will receive sparse or nonexistent credit. \n",
    "- Any relevant data sets are available on Canvas. \n",
    "- LaTeX Tips:  Here is a [reference guide] (https://math.meta.stackexchange.com/questions/5020/mathjax-basic-tutorial-and-quick-reference).  **All** of your written commentary, justifications and mathematical work should be in Markdown.  I also recommend the [wikibook](https://en.wikibooks.org/wiki/LaTeX) for LaTex.\n",
    "- Because you can technically evaluate notebook cells is a non-linear order, it's a good idea to do **Kernel $\\rightarrow$ Restart & Run All** as a check before submitting your solutions.  \n",
    "- It is **bad form** to make your reader interpret numerical output from your code.  If a question asks you to compute some value from the data you should show your code output **AND** write a summary of the results in Markdown directly below your code. \n",
    "\n",
    "- There is *not a prescribed API* for these problems.  You may answer coding questions with whatever syntax or object typing you deem fit.  Your evaluation will primarily live in the clarity of how well you present your final results, so don't skip over any interpretations!  Your code should still be commented and readable to ensure you followed the given course algorithm.\n",
    "\n",
    "---\n",
    "**Shortcuts:**  [Problem 1](#p1) | [Problem 2](#p2) | [Problem 3](#p3) | [Problem 4](#p4) | [Problem 5](#p5) | \n",
    "---"
   ]
  },
  {
   "cell_type": "code",
   "execution_count": 1,
   "metadata": {
    "scrolled": true
   },
   "outputs": [],
   "source": [
    "import pandas as pd\n",
    "import numpy as np\n",
    "import matplotlib.pylab as plt\n",
    "%matplotlib inline"
   ]
  },
  {
   "cell_type": "markdown",
   "metadata": {},
   "source": [
    "***\n",
    "<a/ id='p1'> \n",
    "[Back to top](#top)\n",
    "\n",
    "### [10 points] Problem 1\n",
    "\n",
    "The following four parts are NOT related:\n",
    "\n",
    "**Part A**  Suppose we wish to create a data set where CU polls current undergraduate students regarding their average number of hours of sleep per night.\n",
    "\n",
    "The Registrar's office contains a list of all currently enrolled students.  They provide this list, with e-mail addresses, to the office of Data Analytics, who consider the following 4 ways to poll:\n",
    "\n",
    "- A) Send an e-mail to each and every current CU student on the list\n",
    "- B) Use a random number generator to randomly select 10% of the students.  \n",
    "- C) For each department at CU, randomly choose 10% of their declared majors and send them an e-mail\n",
    "- D) Sort the list by the students' Student ID numbers, then send e-mails to exactly 10% of the list by sending it to the 4th, 14th, 24th, 34th, etc. students in the order of the sorted list.\n",
    "\n",
    "What kinds of samples are *A, B*, *C* and *D*?  Use the definitions from class.  Provide a 1-sentence justification or definition for each type as part of your answer.\n",
    "\n",
    "\n",
    "\n"
   ]
  },
  {
   "cell_type": "markdown",
   "metadata": {},
   "source": [
    "Your Answer Here\n",
    "\n",
    "A. Census. The population is the list of all currently enrolled students. This hypothetically polls from the entire population.\n",
    "\n",
    "B. Simple random sample. The sample frame is the same as the population. Every member of the sample frame has an equally likley chance of being selected. \n",
    "\n",
    "C. Stratifies random sample. We are breaking the population into groups and then randomly selecting a students from each group. The number of students selected from each group is proportional to their number in the entire population\n",
    "\n",
    "D. Symmetric sample. We come up with some way of nunbering the individuals in the population, then we select every kth unit. Here k = 10, and we start at 4."
   ]
  },
  {
   "cell_type": "markdown",
   "metadata": {},
   "source": [
    "**Part B**\n",
    "\n",
    "It is free donut day on campus! There are three locations offering each participant one free donut; either a glazed donut or a cake donut.\n",
    "\n",
    "The C4C is offering donuts, 75% of their donuts are glazed and the rest are cake.\n",
    "\n",
    "The Alfred Packer Grill is offering donuts. 55% of their donuts are glazed and the rest are cake.\n",
    "\n",
    "The SEEC Cafe (East campus) is offering donuts, 60% are glazed and the rest are cake.\n",
    "\n",
    "\n",
    "Your roommate heads out to pick you up a donut, but to add some fun to the errand they randomly choose their location based on rolling a die once.  They decide if the die lands on a 1 they will go to the C4C.  If it lands on a 2 or 3 they will go to the Alfred Packer Grill.  Otherwise, they will go to the SEEC Cafe.  \n",
    "Once they get to their location they tell the barista to randomly hand them a donut.  \n",
    "After this adventure your roommate comes back and hands you this mysterious random donut.  What is the probability that it is a cake donut?  Give you final answer as a fraction, fully simplified.\n",
    "\n",
    "Write up your full solution using LaTeX.\n"
   ]
  },
  {
   "cell_type": "markdown",
   "metadata": {},
   "source": [
    "## These are independent probabilties. We will use formulas that apply to independent probabilities.\n",
    "\n",
    "Probability of getting a cake doughnut = $P(C)$\n",
    "\n",
    "### Probability go to the C4C and get a Cake doughnut:\n",
    "\n",
    "Probability going to the C4C:\n",
    "\n",
    "$P(C4C) = \\frac{1}{6}$\n",
    "\n",
    "Probabilty getting a cake doughnut given friends went to the C4C:\n",
    "\n",
    "$P(C|C4C) = \\frac{1}{4}$\n",
    "\n",
    "\n",
    "$\\implies P(C4C \\bigcap C|C4C)$\n",
    "\n",
    "$\\implies P(C4C)*P(C|C4C)$\n",
    "\n",
    "$\\implies (\\frac{1}{6})(\\frac{1}{4})$\n",
    "\n",
    "$\\implies \\frac{1}{24}$\n",
    "\n",
    "\n",
    "\n",
    "\n",
    "### Probability go to the APG and get a Cake doughnut:\n",
    "\n",
    "Probability going to the APG:\n",
    "\n",
    "$P(APG) = \\frac{1}{3}$\n",
    "\n",
    "Probabilty getting a cake doughnut given friends went to the APG:\n",
    "\n",
    "$P(C|APG) = \\frac{9}{20}$\n",
    "\n",
    "\n",
    "$\\implies P(APG \\bigcap C|APG)$\n",
    "\n",
    "$\\implies P(APG)*P(C|APG)$\n",
    "\n",
    "$\\implies (\\frac{1}{3})(\\frac{9}{20})$\n",
    "\n",
    "$\\implies \\frac{3}{20}$\n",
    "\n",
    "\n",
    "\n",
    "\n",
    "\n",
    "### Probability go to the SEEC and get a Cake doughnut:\n",
    "\n",
    "Probability going to the SEEC:\n",
    "\n",
    "$P(SEEC) = \\frac{1}{2}$\n",
    "\n",
    "Probabilty getting a cake doughnut given friends went to the SEEC:\n",
    "\n",
    "$P(C|SEEC) = \\frac{2}{5}$\n",
    "\n",
    "\n",
    "$\\implies P(SEEC \\bigcap C|SEEC)$\n",
    "\n",
    "$\\implies P(SEEC)*P(C|SEEC)$\n",
    "\n",
    "$\\implies (\\frac{1}{2})(\\frac{2}{5})$\n",
    "\n",
    "$\\implies \\frac{1}{5}$\n",
    "\n",
    "\n",
    "\n",
    "\n",
    "### Probability getting a cake doughnut given friends went to any of the locations:\n",
    "\n",
    "$\\frac{1}{24} + \\frac{3}{20} + \\frac{1}{5}$\n",
    "\n",
    "$\\implies \\frac{47}{120}$\n",
    "\n",
    "\n"
   ]
  },
  {
   "cell_type": "markdown",
   "metadata": {},
   "source": [
    "\n",
    "**Part C** \n",
    "\n",
    "Three brands of coffee, $X$, $Y$ and $Z$, are to be ranked according to taste by a single judge.  Define the following events:\n",
    "\n",
    "Event A: Brand $X$ is preferred to $Y$\n",
    "\n",
    "Event B: Brand $X$ is ranked best.\n",
    "\n",
    "Event C: Brand $X$ is ranked second best.\n",
    "\n",
    "Event D: Brand $X$ is ranked third best.\n",
    "\n",
    "If the judge actually has no taste preference and just randomly assigns ranks to the brands, which of the following events are independent and which are dependent?  Justify your answers using the mathematical definition of independence.  Write up your full solution using LaTeX.\n",
    "\n",
    "i).  Events $A$ and $B$\n",
    "\n",
    "ii). Events $A$ and $C$\n",
    "\n",
    "iii). Events $A$ and $D$\n"
   ]
  },
  {
   "cell_type": "markdown",
   "metadata": {},
   "source": [
    "Your Answer Here\n",
    "\n",
    "The mathmatical definition of independence can be written as $P(A|B) = P(A)$\n",
    "\n",
    "For this question it makes more sense to ask if one event could happen, given the other one has already happened.\n",
    "\n",
    "# check with office hours this is werid!!\n",
    "\n",
    "i).  Events $A$ and $B$\n",
    "\n",
    "$A = X>Y$\n",
    "\n",
    "$B = Z and Y > X$\n",
    "\n",
    "$A|B = A, B|A = B$\n",
    "\n",
    "Independent.\n",
    "\n",
    "\n",
    "ii). Events $A$ and $C$\n",
    "\n",
    "$A = X>Y$\n",
    "\n",
    "$C = Z,Y>X>Y,Z$\n",
    "\n",
    "$A|C = A, C|A = C$\n",
    "\n",
    "Independent.\n",
    "\n",
    "iii). Events $A$ and $D$\n",
    "\n",
    "$A = X>Y$\n",
    "\n",
    "$D = Z,Y>X$\n",
    "\n",
    "$A|D \\neq A$\n",
    "\n",
    "Dependent. If A occurs then it is not possible for D to occur."
   ]
  },
  {
   "cell_type": "markdown",
   "metadata": {},
   "source": [
    "**Part D**\n",
    "\n",
    "A diagnostic test for a virus is reported to have $90\\%$ sensitivity and $92\\%$ specificity.\n",
    "\n",
    "(Recall from lecture:\n",
    "\n",
    "Sensitivity: Ability to detect a positive case (i.e. probability that the test is positive given that the person actually has the virus).\n",
    "\n",
    "Specificity:  Ability to determine a negative case (i.e. the probability that a person tests negative given that they don't have the virus)).\n",
    "\n",
    "Suppose $2\\%$ of the population has the virus in question.  If a person is chosen at random from the population and the diagnostic test indicates that she has the virus, what is the conditional probability that she does, in fact, have the virus?    Write up your full solution using LaTeX."
   ]
  },
  {
   "cell_type": "markdown",
   "metadata": {},
   "source": [
    "Your Answer Here\n",
    "\n",
    "$V = has virus, P = tests positive$\n",
    "\n",
    "$P(V) = \\frac{2}{100}, P(P|V)=\\frac{90}{100}, P(P^c|V) = \\frac{10}{100}$\n",
    "\n",
    "$P(V^c) = \\frac{98}{100}, P(P|V^c)=\\frac{8}{100}, P(P^c|V^c) = \\frac{92}{100}$\n",
    "\n",
    "$\\frac{P(P|V)P(V)}{P(P|V)P(V)+P(P|V^c)P(V^c)}$\n",
    "\n",
    "$\\frac{\\frac{90}{100}*\\frac{2}{100}}{\\frac{90}{100}*\\frac{2}{100}+\\frac{8}{100}*\\frac{98}{100}}$\n",
    "\n",
    "$\\implies \\frac{45}{241}$\n",
    "$\\implies 18.7%$\n"
   ]
  },
  {
   "cell_type": "markdown",
   "metadata": {},
   "source": [
    "[Back to top](#top)\n",
    "\n",
    "<a id='p2'></a>\n",
    "\n",
    "### (6 pts) Problem 2: \n",
    "***\n",
    "\n",
    "One of the big payoffs of simulation is that it can let us answer some probability questions that are otherwise quite difficult.  We can instead just simulate the process and get approximate results based on simulation.\n",
    "\n",
    "\n",
    "A common example for discrete counting and probability questions are poker hands.  Consider using a standard 52-card playing deck, with card faces `[A,2,3,4,5,6,7,8,9,10,J,Q,K]` across the standard 4 suits: `[C,D,H,S]`.\n",
    "\n",
    "\n",
    "\n",
    "**Part A (3 pts):** Suppose we draw 5 cards at random from the deck.  What is the exact probability that we have \"three of a kind?\" (i.e. a hand with 3 copies of one card face type (of any suits) and the faces of the **other two cards not matching either that face or each other**). \n",
    "\n",
    "Typeset your work using LaTeX below.  You may leave your answer in terms of a ratio of products, but you should simplify away any combinatoric notation such as ${n \\choose k}$ or $P(n,k)$.\n"
   ]
  },
  {
   "cell_type": "markdown",
   "metadata": {},
   "source": [
    "Your Answer Here\n",
    "\n",
    "# check with office hours!!"
   ]
  },
  {
   "cell_type": "markdown",
   "metadata": {},
   "source": [
    "**Part B (3 pts):**\n",
    "Poker with computers!\n",
    "\n",
    "Write a simulation that draws a hand of 5 cards from a standard 52-card deck. Repeat this simulation 10000 times, and report how many \"three of a kind\" hands were observed. Verify that the result is consistent with your answer to part A.\n",
    "\n",
    "NB: The function `np.unique` can make checking hands easier.  Your actual simulation should have 52 distinct cards, even if we're only using the faces (and not suits) for the check of the final hand."
   ]
  },
  {
   "cell_type": "code",
   "execution_count": 2,
   "metadata": {},
   "outputs": [
    {
     "data": {
      "text/plain": [
       "0.0213"
      ]
     },
     "execution_count": 2,
     "metadata": {},
     "output_type": "execute_result"
    }
   ],
   "source": [
    "suits=['D','H','C','S']\n",
    "faces = ['A', '2', '3', '4', '5', '6', '7', '8', '9', '10', 'J', 'Q', 'K']\n",
    "\n",
    "deck = [(f, s) for f in faces for s in suits]\n",
    "\n",
    "# function returns 1 if three of a kind exists, 0 otherwise (not a 4 of a kind)\n",
    "def draw_three_of_a_kind():\n",
    "    \n",
    "    # randomly order cards in deck\n",
    "    np.random.shuffle(deck)\n",
    "    \n",
    "    # take 5 cards\n",
    "    five_cards = deck[:5]\n",
    "    \n",
    "    # five_cards[0][0] first card, value/face\n",
    "    # five_cards[0][1] first card, suit\n",
    "    \n",
    "    # check if 3 of the 5 cards are the same value\n",
    "    cardX = ''\n",
    "    cardY = ''\n",
    "    count = 0\n",
    "    returnVal = 0\n",
    "    for x in range(5):\n",
    "        count = 0\n",
    "        cardX = five_cards[x][0]\n",
    "        \n",
    "        for y in range(5):\n",
    "            cardY = five_cards[y][0]\n",
    "            \n",
    "            if cardY == cardX:\n",
    "                count = count + 1\n",
    "                \n",
    "        if count == 3:\n",
    "            returnVal = 1\n",
    "            \n",
    "        \n",
    "        \n",
    "        \n",
    "    return returnVal\n",
    "    \n",
    "    \n",
    "\n",
    "def probability_of_three_of_a_kind(num_samples=10000):\n",
    "    \n",
    "    # create array of successfull or unsuccessfull 3 of a kind hands\n",
    "    three_of_a_kinds = np.array([draw_three_of_a_kind() for r in range(num_samples)])\n",
    "    \n",
    "    return three_of_a_kinds.sum()/num_samples\n",
    "\n",
    "\n",
    "probability_of_three_of_a_kind()\n"
   ]
  },
  {
   "cell_type": "markdown",
   "metadata": {},
   "source": [
    "***\n",
    "<a/ id='p3'></a>\n",
    "[Back to top](#top)\n",
    "\n",
    "### [13 points] Problem 3\n",
    "\n",
    "To play a game, you have a bag containing 28 fair [four-sided dice](https://en.wikipedia.org/wiki/Four-sided_die), with faces `{1,2,3,4}`.  This bag also contains 9 fair six-sided dice (faces `{1,2,3,4,5,6}`) and 3 fair twenty-sided dice (faces `{1,2,3,4,...,19,20}`).  Call these 3 classes of die \"Four\", \"Six\" and \"Twenty\" (or $D_4$, $D_6$, and $D_{20}$, for short).  You grab one die at random from the box.  \n",
    "\n",
    "Work the following problems by hand and write up your full solution using LaTeX unless otherwise stated (but don't be afraid to simulate to check your result!). "
   ]
  },
  {
   "cell_type": "markdown",
   "metadata": {},
   "source": [
    "**Part A (2 pts)**: You grab one die at random from the box and roll it one time.  What is the probability of the event $R_5$, that you roll a 5? Explain your reasoning mathematically (using LaTeX).   Include at least 4 decimal places in your answer."
   ]
  },
  {
   "cell_type": "markdown",
   "metadata": {},
   "source": [
    "Your Answer Here\n",
    "\n",
    "Use law of total probability\n",
    "\n",
    "$P(R_5) = P(R_5|D_4)P(D_4) + P(R_5|D_6)P(D_6) + P(R_5|D_{20})(D_{20})$\n",
    "\n",
    "$P(R_5) = \\frac{28}{40}0 + \\frac{9}{40}\\frac{1}{6} + \\frac{3}{20}\\frac{1}{20}$\n",
    "\n",
    "$P(R_5) = \\frac{28}{40}0 + \\frac{9}{40}\\frac{1}{6} + \\frac{3}{20}\\frac{1}{20}$\n",
    "\n",
    "$P(R_5) = \\frac{9}{200}, 0.045$\n",
    "\n"
   ]
  },
  {
   "cell_type": "markdown",
   "metadata": {},
   "source": [
    "**Part B (2 pts)**: Suppose you roll a 5.  Given this information, what is the probability that the die you chose from the box is a Six-sided die? "
   ]
  },
  {
   "cell_type": "markdown",
   "metadata": {},
   "source": [
    "Your Answer Here\n",
    "\n",
    "Use Bayes theorem\n",
    "\n",
    "$P(D_6|R_5)=\\frac{P(R_5|D_6)P(D_6)}{P(R_5)}$\n",
    "\n",
    "$P(D_6|R_5)=\\frac{\\frac{1}{6}\\frac{9}{40}}{\\frac{9}{200}}$\n",
    "\n",
    "$P(D_6|R_5)=\\frac{5}{6}$"
   ]
  },
  {
   "cell_type": "markdown",
   "metadata": {},
   "source": [
    "**Part C (2 pts) :**  Are the events $R_5$ and $D_6$ independent?  Justify your answer **using math**."
   ]
  },
  {
   "cell_type": "markdown",
   "metadata": {},
   "source": [
    "Your Answer Here\n",
    "\n",
    "no, the events are dependent\n",
    "\n",
    "$P(D_6|R_5) \\neq P(D_6)$\n",
    "\n",
    "$\\frac{5}{6} \\neq \\frac{9}{40}$"
   ]
  },
  {
   "cell_type": "markdown",
   "metadata": {},
   "source": [
    "**Part D (2 pts):**  Suppose you roll your die $n$ times and record each outcome.  Obviously, if you roll 5 or 6 you know you did *not* pick a Four-sided die, and if you roll a 7 or higher, you must have picked a Twenty-sided die.\n",
    "\n",
    "But, if you roll $n$ times in a row and get only 1, 2, 3 or 4, you would have a stronger belief that you in fact grabbed one of the Four-sided dice.  Let $E_n$ be the event that you roll $n$ rolls of 1, 2, 3 or 4 in a row.  For example, one outcome in $E_3$ is the sequence 2, 3, 1.\n",
    "\n",
    "Given that you roll a single value of 1, 2, 3 or 4, what is the probability that you have grabbed a Four-sided die?  That is, calculate **by hand** $P(D_4\\mid E_1)$."
   ]
  },
  {
   "cell_type": "markdown",
   "metadata": {},
   "source": [
    "Your Answer Here"
   ]
  },
  {
   "cell_type": "markdown",
   "metadata": {},
   "source": [
    "**Part E**:  \n",
    "\n",
    "**i). (3 pts)**.  First, work out **by hand** a formula for the probability in general that you are rolling a Four-sided die, given that you have rolled $n$ values in a row that are 1, 2, 3 or 4 (that is, $E_n$).  So you want a formula for $P(D_4 \\mid E_n)$ in terms of $n$.\n",
    "\n"
   ]
  },
  {
   "cell_type": "markdown",
   "metadata": {},
   "source": [
    "Your Answer Here"
   ]
  },
  {
   "cell_type": "markdown",
   "metadata": {},
   "source": [
    "**ii) (1 pt)**.  Then, write code for a function `prob_four` to calculate $P(D_4 \\mid E_n)$.  This function should only take one positive integer argument, $n$.\n",
    "\n",
    "Verify that your function is performing as expected by checking your answer to **Part D**."
   ]
  },
  {
   "cell_type": "code",
   "execution_count": 3,
   "metadata": {},
   "outputs": [
    {
     "ename": "SyntaxError",
     "evalue": "incomplete input (3443431340.py, line 4)",
     "output_type": "error",
     "traceback": [
      "\u001b[0;36m  Cell \u001b[0;32mIn[3], line 4\u001b[0;36m\u001b[0m\n\u001b[0;31m    \u001b[0m\n\u001b[0m    ^\u001b[0m\n\u001b[0;31mSyntaxError\u001b[0m\u001b[0;31m:\u001b[0m incomplete input\n"
     ]
    }
   ],
   "source": [
    "def prob_four(n):\n",
    "\n",
    "    # your code goes here!\n",
    "    "
   ]
  },
  {
   "cell_type": "markdown",
   "metadata": {},
   "source": [
    "**Part F (1 pt):**  What is the smallest value of $n$ successive rolls of 1, 2, 3 or 4 that would make you believe that there's a better-than-95% chance that the die you grabbed is Four-sided?  Plugging larger and larger values for $n$ into your `prob_four` function is a very reasonable way to check this."
   ]
  },
  {
   "cell_type": "markdown",
   "metadata": {},
   "source": [
    "Your Answer Here"
   ]
  },
  {
   "cell_type": "markdown",
   "metadata": {},
   "source": []
  },
  {
   "attachments": {
    "ChatGPTSoln.png": {
     "image/png": "[encoded data removed]"
    }
   },
   "cell_type": "markdown",
   "metadata": {},
   "source": [
    "***\n",
    "<a/ id='p4'></a>\n",
    "[Back to top](#top)\n",
    "\n",
    "### [14 points] Problem 4\n",
    "\n",
    "In this problem you will write some code to simulate the game of **Miniopoly** (a very rough approximation of [Monopoly](https://en.wikipedia.org/wiki/Monopoly_(game)).  The game consists of a round board with 40 \"squares\" numbered from $0$ to $39$, where squares $0$ and would-be $40$ are the same square and are called **GO**.  \n",
    "\n",
    "See [here](http://www.cs.colorado.edu/~tonyewong/home/resources/miniopoly_example.png) for an example of the Miniopoly board layout.\n",
    "\n",
    "\n",
    "A player starts on **GO** with \\$200 in their pocket.  On each turn the player rolls a pair of dice and then moves a number of spaces equal to the sum of the dice.  Landing on different squares have different results: \n",
    "\n",
    "- Squares 2, 7, 17, 22, 33, and 36 cause you to draw a card.  The cards tell you to collect $\\$50$, $\\$100$ or $\\$200$, or pay the bank $\\$50$ or $\\$100$.  There is always an equal probability associated with each of these possible cards.\n",
    "\n",
    "<p> </p>\n",
    "\n",
    "- Squares 0, 10, and 20 do not trigger any action \n",
    "\n",
    "<p> </p>\n",
    "\n",
    "- Square 30 is **Go To Jail**, which sends the player directly to **Jail** and ends the turn \n",
    "\n",
    "<p> </p>\n",
    "\n",
    "- If a player starts a turn from **Jail** they roll two dice: \n",
    "\n",
    "    - If the player rolls doubles (i.e. the dice have equal values) the player moves from Square 10 a number of squares equal to the sum of the dice\n",
    "    \n",
    "    - If the player rolls anything other than doubles she pays the bank \\$20 and remains in **Jail** \n",
    "    \n",
    "<p> </p>\n",
    "\n",
    "- If the player passes or lands on **GO** they collect \\$200. \n",
    "\n",
    "<p> </p>\n",
    "\n",
    "- If the player lands on any other square not mentioned above, they pay the bank an amount equal to the square's number (e.g. if she lands on Square 29 she pays the bank \\$29). \n",
    "\n",
    "<p> </p>\n",
    "\n",
    "If at any point the player has \\$0 or less they go bankrupt and the game ends.\n",
    "\n",
    "\n",
    "\n",
    "<br>\n",
    "\n",
    "We would like to create code for a function `miniopoly_turn`. The function should simulate one turn of Miniopoly.  It should take as arguments the player's current location on the board as well as the player's current cash reserves, and return the player's new location and cash reserves after the turn has completed. Note that if a player goes bankrupt during the game you should return their cash as 0 instead of a negative value.  \n",
    "\n",
    "***\n",
    "\n",
    "We copied and pasted the instructions above directly into ChatGPT.  Below is the output it returned:\n",
    "\n",
    "![ChatGPTSoln-2.png](attachment:ChatGPTSoln.png)"
   ]
  },
  {
   "cell_type": "markdown",
   "metadata": {},
   "source": [
    "**Part A (3 pts):**  Does the code above correctly simulate one turn of Miniopoly according to the rules described?  If so, explain how you verified this.  If not, explain what part(s) are incorrect and then rewrite a correct version of the code below:"
   ]
  },
  {
   "cell_type": "code",
   "execution_count": null,
   "metadata": {},
   "outputs": [],
   "source": []
  },
  {
   "cell_type": "markdown",
   "metadata": {},
   "source": [
    "**Part B (3 pts)**: Use your corrected version of `miniopoly_turn` from Part A to simulate at least 10000, 30-turn games of Miniopoly and make a frequency histogram of the player's cash at the end of the game (**use bins=30** when creating your histogram).  Recall that if a player goes bankrupt before all $30$ turns have been completed the game ends early and the player's cash for that game is $\\$0$.   "
   ]
  },
  {
   "cell_type": "code",
   "execution_count": null,
   "metadata": {},
   "outputs": [],
   "source": []
  },
  {
   "cell_type": "markdown",
   "metadata": {},
   "source": [
    "**Part C (2 pts)**: Use your corrected version of `miniopoly_turn` from Part A to estimate the probability that a player goes bankrupt at any time within the first 30 turns of the game (again simulate $10000$ games for this calculation). "
   ]
  },
  {
   "cell_type": "code",
   "execution_count": null,
   "metadata": {},
   "outputs": [],
   "source": []
  },
  {
   "cell_type": "markdown",
   "metadata": {},
   "source": [
    "**Part D (3 pts)**:  Use your corrected version of `miniopoly_turn` from Part A to estimate the probability that a player goes bankrupt at any time within the first 30 turns _given_ that they went to **Jail** at least once.  To get an accurate estimate, simulate $10000$ **jail games** (i.e. games in which a player goes to jail at least once).  \n",
    "\n",
    "Hint:  Create a function  `jail_game()` that will return the player's cash at the end of a game in which the player goes to jail one or more times.  `jail_game()` should start a new game by calling itself if the game ended and the player did not go to jail at any point.  Thus, if you run `jail_game()` $n$ times, then you will have the cash at the end of $n$ games in which the player has gone to jail at least once.  \n",
    "\n"
   ]
  },
  {
   "cell_type": "code",
   "execution_count": null,
   "metadata": {},
   "outputs": [],
   "source": []
  },
  {
   "cell_type": "markdown",
   "metadata": {},
   "source": [
    "**Part E (3 pts)**: Use your corrected version of `miniopoly_turn` from Part A and the results of your simulations above to estimate the probability (either directly or using Bayes' rule) that a player has gone to jail at least once, given that the player went bankrupt at some point within the first 30 turns.  "
   ]
  },
  {
   "cell_type": "code",
   "execution_count": null,
   "metadata": {},
   "outputs": [],
   "source": []
  },
  {
   "cell_type": "markdown",
   "metadata": {},
   "source": [
    "***\n",
    "<a/ id='p5'></a>\n",
    "[Back to top](#top)\n",
    "\n",
    "### [7 points] Problem 5\n",
    "\n",
    "Suppose you roll two fair six-sided dice.  Let $C$ be the event that the two rolls are _close_ to one another in value, in the sense that they're either equal or differ by only 1.  \n",
    "\n",
    "**Part A (2pts)**: Compute $P(C)$ by hand. \n"
   ]
  },
  {
   "cell_type": "markdown",
   "metadata": {},
   "source": []
  },
  {
   "cell_type": "markdown",
   "metadata": {},
   "source": [
    "**Part B (2 pts)**: Write a simulation to run many trials (at least 10,000) of the pair of rolls and estimate the value of $P(C)$ you calculated in **Part A**.  Does your estimate agree with the exact calculation you did in **Part A**?  If not, try increasing the number of trials in your simulation. "
   ]
  },
  {
   "cell_type": "code",
   "execution_count": null,
   "metadata": {},
   "outputs": [],
   "source": []
  },
  {
   "cell_type": "markdown",
   "metadata": {},
   "source": [
    "**Part C (2 pts)**: In the in-class notebook (nb03) we plotted a running estimate of the probability of an event as a function of the number of trials in our simulation.  Write code to run at least 10 independent simulations of 50,000 trials each to estimate $P(C)$ and plot their running estimate curves on the same set of axes. **Hint**: This is a lot of computation, so try to leverage Numpy as much as possible so that your code doesn't run forever. "
   ]
  },
  {
   "cell_type": "code",
   "execution_count": null,
   "metadata": {},
   "outputs": [],
   "source": []
  },
  {
   "cell_type": "markdown",
   "metadata": {},
   "source": [
    "**Part D (1 pt)**: Comment on the behavior of the running estimates as the number of trials increases. "
   ]
  },
  {
   "cell_type": "markdown",
   "metadata": {},
   "source": []
  },
  {
   "cell_type": "markdown",
   "metadata": {},
   "source": [
    "## Final Answers To Selected Problems\n",
    "\n",
    "These are final answers for selected problems so you can check your work and determine if you are on the right track.  To receive credit on each problem you must show all steps leading to these answers, fully answer the problem, and justify your answer using correct mathematical notation.\n",
    "\n",
    "\n",
    "1B).  $\\frac{47}{120}$\n",
    "\n",
    "1C) (iii). Dependent (why?)\n",
    "\n",
    "1D). $\\frac{45}{241} \\approx 18.7\\%$\n",
    "\n",
    "2A). $\\frac{88}{4165} \\approx 0.021$\n",
    "\n",
    "\n",
    "3A).  $\\frac{33}{800}$\n",
    "-\n",
    "3B). $\\frac{10}{11}$ \n",
    "\n",
    "3D). $\\frac{140}{173}$\n",
    "\n",
    "5A). $16/36 \\approx 0.444$ "
   ]
  },
  {
   "cell_type": "code",
   "execution_count": null,
   "metadata": {},
   "outputs": [],
   "source": []
  }
 ],
 "metadata": {
  "kernelspec": {
   "display_name": "Python 3 (ipykernel)",
   "language": "python",
   "name": "python3"
  },
  "language_info": {
   "codemirror_mode": {
    "name": "ipython",
    "version": 3
   },
   "file_extension": ".py",
   "mimetype": "text/x-python",
   "name": "python",
   "nbconvert_exporter": "python",
   "pygments_lexer": "ipython3",
   "version": "3.10.8"
  }
 },
 "nbformat": 4,
 "nbformat_minor": 4
}
