{
 "cells": [
  {
   "cell_type": "markdown",
   "metadata": {},
   "source": [
    "# Notebook 9: Confidence Intervals \n",
    "***\n",
    "\n",
    "We'll need Numpy, Matplotlib, Pandas, and scipy.stats for this notebook, so let's load them. "
   ]
  },
  {
   "cell_type": "code",
   "execution_count": 16,
   "metadata": {},
   "outputs": [],
   "source": [
    "import numpy as np \n",
    "from scipy import stats\n",
    "import pandas as pd \n",
    "import matplotlib.pyplot as plt \n",
    "import statsmodels.stats.api as sms\n",
    "%matplotlib inline"
   ]
  },
  {
   "cell_type": "markdown",
   "metadata": {},
   "source": [
    "### Summary of Built-In Python Functions for Hypothesis Tests:\n",
    "***\n",
    "\n",
    "This list is by no means comprehensive - it just covers the scope of hypothesis tests we will use in this class:\n",
    "\n",
    "\n",
    "Hypothesis test for a sample proportion:\n",
    "\n",
    "`stats.binomtest(140, 250, p=0.5, alternative='two-sided')`\n",
    "or, using the normal approximation to the binomial thanks to the central limit theorem (assuming np>=15):\n",
    "\n",
    "`sms.proportions_ztest(count=140, nobs=250, value=0.50, prop_var=.5)`\n",
    "\n",
    "Hypothesis test for difference in sample proportions:\n",
    "\n",
    "`sms.test_proportions_2indep(93, 453, 197, 261, value=None, compare='diff', alternative='two-sided')`\n",
    "\n",
    "Test for difference in sample means: \n",
    "`res = stats.ttest_ind(SamplePageA,SamplePageB, equal_var=False)`\n",
    "`print(f'p-value for two sided test: {res.pvalue:.4f}')`\n",
    "\n",
    "\n"
   ]
  },
  {
   "cell_type": "markdown",
   "metadata": {},
   "source": [
    "### Exercise 1 - Sampling Confidence Intervals \n",
    "*** \n",
    "\n",
    "In this exercise we'll get some experience implementing confidence intervals for samples of a population.  Suppose that we wish to sample household incomes from a population in units of hundreds-of-thousands of dollars.  In general it is not necessary that we know the distribution that the quantity of interest follows, but in this case we'll assume that household $\\color{red}{\\text{income follows a Weibull distribution}}$.\n",
    "\n",
    "Weibull documentation: https://docs.scipy.org/doc/scipy/reference/generated/scipy.stats.weibull_min.html\n",
    "\n",
    "We can draw samples from this population and plot the histogram as follows: "
   ]
  },
  {
   "cell_type": "code",
   "execution_count": 6,
   "metadata": {},
   "outputs": [
    {
     "data": {
      "image/png": "[encoded data removed]",
      "text/plain": [
       "<Figure size 864x432 with 1 Axes>"
      ]
     },
     "metadata": {
      "needs_background": "light"
     },
     "output_type": "display_data"
    }
   ],
   "source": [
    "fig, ax = plt.subplots(nrows=1, ncols=1, figsize=(12,6))\n",
    "x = stats.weibull_min.rvs(loc=0.1, c=1.3, size=10000)\n",
    "  # 10,000 randomly generated draws from this Weibull distribution stored in x.\n",
    "  # The histogram reveals the shape of the distribution we are working with.\n",
    "pd.Series(x).hist(ax=ax, color=\"steelblue\", edgecolor=\"white\", bins=20, density=True)\n",
    "  # A histogram of x\n",
    "ax.grid(alpha=0.25)\n",
    "ax.set_axisbelow(True)\n",
    "ax.set_xlabel(\"Income in Hundreds of Thousands of Dollars\", fontsize=16)\n",
    "ax.set_ylabel(\"Density\", fontsize=16)\n",
    "ax.set_title(\"Density of Income\", fontsize=20);"
   ]
  },
  {
   "cell_type": "markdown",
   "metadata": {},
   "source": [
    "**Part A**: Complete the following $\\color{red}{\\text{function that draws 20 independent samples of size}}$ $\\color{red}{n}$ from the population and plots confidence intervals for each sample against the mean.  Because we know the distribution from sampling from, we can use the exact mean and variance in the determination of the confidence intervals.   "
   ]
  },
  {
   "cell_type": "code",
   "execution_count": 39,
   "metadata": {},
   "outputs": [
    {
     "data": {
      "image/png": "[encoded data removed]",
      "text/plain": [
       "<Figure size 864x432 with 1 Axes>"
      ]
     },
     "metadata": {
      "needs_background": "light"
     },
     "output_type": "display_data"
    }
   ],
   "source": [
    "def income_CI(n=100, alpha=.05):\n",
    "    \n",
    "    fig, ax = plt.subplots(nrows=1, ncols=1, figsize=(12,6))\n",
    "    \n",
    "    # Get the true mean and variance of the distribution \n",
    "    mean, var = stats.weibull_min.stats(loc=0.1, c=1.3, moments='mv')\n",
    "    # 'moments' is a reserved word. 'm' is mean. 'v' is variance. 's' is skew. 'k' is kurtosis.\n",
    "    \n",
    "    ax.plot([0,20], [mean, mean], color=\"steelblue\", ls='--', lw=3)\n",
    "    # .plot plots a line from (0, mean) to (20, mean). i.e. Horizontal at height 'mean'.\n",
    "    # ls is line style, and lw is line width\n",
    "    \n",
    "    # Now, draw 20 independent samples of size n \n",
    "    for sId in range(20):\n",
    "        # Draw samples from Weibull distribution \n",
    "        x = stats.weibull_min.rvs(loc=0.1, c=1.3, size=n)\n",
    "        # 100 random choices from the Weibull are now stored in x\n",
    "      \n",
    "        #Calculate the confidence interval for the mean using built-in Python function:      \n",
    "        (CImin, CImax) = stats.t.interval(1-alpha, df=len(x)-1, loc=np.mean(x), scale=stats.sem(x))\n",
    "       \n",
    "        ax.plot([sId, sId], [CImin, CImax])\n",
    "        \n",
    "        \n",
    "    ax.set_xlim([-1,20])\n",
    "    plt.xticks(range(20), fontsize=12)\n",
    "\n",
    "# Now, call the function        \n",
    "income_CI(n=1000)\n"
   ]
  },
  {
   "cell_type": "markdown",
   "metadata": {},
   "source": [
    "### Built-In Python Functions for Calculating Confidence Intervals:\n",
    "\n",
    "CI for a sample mean: \n",
    "\n",
    "https://docs.scipy.org/doc/scipy/reference/generated/scipy.stats.t.html\n",
    "`stats.t.interval(alpha=0.95, df=len(data)-1, loc=np.mean(data), scale=stats.sem(data))` \n",
    "\n",
    "\n",
    "CI for proportion (https://www.statsmodels.org/dev/generated/statsmodels.stats.proportion.proportion_confint.html)\n",
    "`sms.proportion_confint(count, nobs, alpha=0.05, method='normal')`\n",
    "\n",
    "\n",
    "CI for difference in proportions:\n",
    "https://www.statsmodels.org/dev/generated/statsmodels.stats.proportion.confint_proportions_2indep.html\n",
    "`sms.confint_proportions_2indep(count1, nobs1, count2, nobs2, alpha=0.05)`\n",
    "\n",
    "CI for difference in sample means: https://www.statsmodels.org/dev/generated/statsmodels.stats.weightstats.CompareMeans.html\n",
    "cm=sms.CompareMeans(sms.stats.DescrStatsW(dataset1), sms.DescrStatsW(dataset2))\n",
    "cm.tconfint_diff(alpha=0.05, usevar='unequal'))\n",
    "\n"
   ]
  },
  {
   "cell_type": "markdown",
   "metadata": {},
   "source": [
    "### Exercise 2 - Single Sample CI\n",
    "*** \n",
    "Load `hubble.csv` into Python. A description of the variables can be obtained from page 73 of https://cran.r-project.org/web/packages/gamair/gamair.pdf.  "
   ]
  },
  {
   "cell_type": "code",
   "execution_count": 17,
   "metadata": {},
   "outputs": [
    {
     "data": {
      "text/html": [
       "<div>\n",
       "<style scoped>\n",
       "    .dataframe tbody tr th:only-of-type {\n",
       "        vertical-align: middle;\n",
       "    }\n",
       "\n",
       "    .dataframe tbody tr th {\n",
       "        vertical-align: top;\n",
       "    }\n",
       "\n",
       "    .dataframe thead th {\n",
       "        text-align: right;\n",
       "    }\n",
       "</style>\n",
       "<table border=\"1\" class=\"dataframe\">\n",
       "  <thead>\n",
       "    <tr style=\"text-align: right;\">\n",
       "      <th></th>\n",
       "      <th>Unnamed: 0</th>\n",
       "      <th>y</th>\n",
       "      <th>x</th>\n",
       "    </tr>\n",
       "  </thead>\n",
       "  <tbody>\n",
       "    <tr>\n",
       "      <th>count</th>\n",
       "      <td>24.000000</td>\n",
       "      <td>24.00000</td>\n",
       "      <td>24.000000</td>\n",
       "    </tr>\n",
       "    <tr>\n",
       "      <th>mean</th>\n",
       "      <td>12.500000</td>\n",
       "      <td>924.37500</td>\n",
       "      <td>12.054583</td>\n",
       "    </tr>\n",
       "    <tr>\n",
       "      <th>std</th>\n",
       "      <td>7.071068</td>\n",
       "      <td>512.81396</td>\n",
       "      <td>5.814649</td>\n",
       "    </tr>\n",
       "    <tr>\n",
       "      <th>min</th>\n",
       "      <td>1.000000</td>\n",
       "      <td>80.00000</td>\n",
       "      <td>2.000000</td>\n",
       "    </tr>\n",
       "    <tr>\n",
       "      <th>25%</th>\n",
       "      <td>6.750000</td>\n",
       "      <td>616.50000</td>\n",
       "      <td>8.530000</td>\n",
       "    </tr>\n",
       "    <tr>\n",
       "      <th>50%</th>\n",
       "      <td>12.500000</td>\n",
       "      <td>827.00000</td>\n",
       "      <td>13.080000</td>\n",
       "    </tr>\n",
       "    <tr>\n",
       "      <th>75%</th>\n",
       "      <td>18.250000</td>\n",
       "      <td>1423.25000</td>\n",
       "      <td>15.870000</td>\n",
       "    </tr>\n",
       "    <tr>\n",
       "      <th>max</th>\n",
       "      <td>24.000000</td>\n",
       "      <td>1794.00000</td>\n",
       "      <td>21.980000</td>\n",
       "    </tr>\n",
       "  </tbody>\n",
       "</table>\n",
       "</div>"
      ],
      "text/plain": [
       "       Unnamed: 0           y          x\n",
       "count   24.000000    24.00000  24.000000\n",
       "mean    12.500000   924.37500  12.054583\n",
       "std      7.071068   512.81396   5.814649\n",
       "min      1.000000    80.00000   2.000000\n",
       "25%      6.750000   616.50000   8.530000\n",
       "50%     12.500000   827.00000  13.080000\n",
       "75%     18.250000  1423.25000  15.870000\n",
       "max     24.000000  1794.00000  21.980000"
      ]
     },
     "execution_count": 17,
     "metadata": {},
     "output_type": "execute_result"
    }
   ],
   "source": [
    "# Path to the data - select the path that works for you \n",
    "file_path = 'hubble.csv'\n",
    "\n",
    "# Load the data into a DataFrame \n",
    "df = pd.read_csv(file_path)\n",
    "\n",
    "# Look at the data\n",
    "df.describe()\n"
   ]
  },
  {
   "cell_type": "code",
   "execution_count": 4,
   "metadata": {},
   "outputs": [
    {
     "data": {
      "text/plain": [
       "Unnamed: 0      int64\n",
       "Galaxy         object\n",
       "y               int64\n",
       "x             float64\n",
       "dtype: object"
      ]
     },
     "execution_count": 4,
     "metadata": {},
     "output_type": "execute_result"
    }
   ],
   "source": [
    "# Check the data types\n",
    "df.dtypes"
   ]
  },
  {
   "cell_type": "markdown",
   "metadata": {},
   "source": [
    "#### (a) Calculate the 85% confidence interval for the mean of a galaxy's distance from Earth in Mega parsecs in Python using built-in functions.     (Note: 'x' is distance and 'y' is velocity as mentioned on page 73 of the documentation)"
   ]
  },
  {
   "cell_type": "code",
   "execution_count": 22,
   "metadata": {},
   "outputs": [
    {
     "data": {
      "text/plain": [
       "(9.599272544248015, 14.509894122418649)"
      ]
     },
     "execution_count": 22,
     "metadata": {},
     "output_type": "execute_result"
    }
   ],
   "source": [
    "stats.t.interval(alpha=0.95, df=len(df['x'])-1, loc=np.mean(df['x']), scale=stats.sem(df['x']))"
   ]
  },
  {
   "cell_type": "markdown",
   "metadata": {},
   "source": [
    "#### (b) Interpret the confidence interval."
   ]
  },
  {
   "cell_type": "markdown",
   "metadata": {},
   "source": [
    " 85% of intervals created in this manner will contain the true mean of a galaxy's distance from Earth. This claim means that, if we were to collect these measurements over and over again and calculate the confidence interval for each sample, then about 85% of the CI's would contain the true mean."
   ]
  },
  {
   "cell_type": "markdown",
   "metadata": {},
   "source": [
    "### Exercise 2 - Two Sample CI\n",
    "*** \n",
    "Load `clean_titanic_data` into Python."
   ]
  },
  {
   "cell_type": "code",
   "execution_count": 23,
   "metadata": {},
   "outputs": [
    {
     "data": {
      "text/html": [
       "<div>\n",
       "<style scoped>\n",
       "    .dataframe tbody tr th:only-of-type {\n",
       "        vertical-align: middle;\n",
       "    }\n",
       "\n",
       "    .dataframe tbody tr th {\n",
       "        vertical-align: top;\n",
       "    }\n",
       "\n",
       "    .dataframe thead th {\n",
       "        text-align: right;\n",
       "    }\n",
       "</style>\n",
       "<table border=\"1\" class=\"dataframe\">\n",
       "  <thead>\n",
       "    <tr style=\"text-align: right;\">\n",
       "      <th></th>\n",
       "      <th>PassengerId</th>\n",
       "      <th>Survived</th>\n",
       "      <th>Pclass</th>\n",
       "      <th>Name</th>\n",
       "      <th>Sex</th>\n",
       "      <th>Age</th>\n",
       "      <th>SibSp</th>\n",
       "      <th>Parch</th>\n",
       "      <th>Ticket</th>\n",
       "      <th>Fare</th>\n",
       "      <th>Embarked</th>\n",
       "    </tr>\n",
       "  </thead>\n",
       "  <tbody>\n",
       "    <tr>\n",
       "      <th>0</th>\n",
       "      <td>1</td>\n",
       "      <td>0</td>\n",
       "      <td>3</td>\n",
       "      <td>Braund, Mr. Owen Harris</td>\n",
       "      <td>male</td>\n",
       "      <td>22.0</td>\n",
       "      <td>1</td>\n",
       "      <td>0</td>\n",
       "      <td>A/5 21171</td>\n",
       "      <td>7.2500</td>\n",
       "      <td>S</td>\n",
       "    </tr>\n",
       "    <tr>\n",
       "      <th>1</th>\n",
       "      <td>2</td>\n",
       "      <td>1</td>\n",
       "      <td>1</td>\n",
       "      <td>Cumings, Mrs. John Bradley (Florence Briggs Th...</td>\n",
       "      <td>female</td>\n",
       "      <td>38.0</td>\n",
       "      <td>1</td>\n",
       "      <td>0</td>\n",
       "      <td>PC 17599</td>\n",
       "      <td>71.2833</td>\n",
       "      <td>C</td>\n",
       "    </tr>\n",
       "    <tr>\n",
       "      <th>2</th>\n",
       "      <td>3</td>\n",
       "      <td>1</td>\n",
       "      <td>3</td>\n",
       "      <td>Heikkinen, Miss. Laina</td>\n",
       "      <td>female</td>\n",
       "      <td>26.0</td>\n",
       "      <td>0</td>\n",
       "      <td>0</td>\n",
       "      <td>STON/O2. 3101282</td>\n",
       "      <td>7.9250</td>\n",
       "      <td>S</td>\n",
       "    </tr>\n",
       "    <tr>\n",
       "      <th>3</th>\n",
       "      <td>4</td>\n",
       "      <td>1</td>\n",
       "      <td>1</td>\n",
       "      <td>Futrelle, Mrs. Jacques Heath (Lily May Peel)</td>\n",
       "      <td>female</td>\n",
       "      <td>35.0</td>\n",
       "      <td>1</td>\n",
       "      <td>0</td>\n",
       "      <td>113803</td>\n",
       "      <td>53.1000</td>\n",
       "      <td>S</td>\n",
       "    </tr>\n",
       "    <tr>\n",
       "      <th>4</th>\n",
       "      <td>5</td>\n",
       "      <td>0</td>\n",
       "      <td>3</td>\n",
       "      <td>Allen, Mr. William Henry</td>\n",
       "      <td>male</td>\n",
       "      <td>35.0</td>\n",
       "      <td>0</td>\n",
       "      <td>0</td>\n",
       "      <td>373450</td>\n",
       "      <td>8.0500</td>\n",
       "      <td>S</td>\n",
       "    </tr>\n",
       "    <tr>\n",
       "      <th>5</th>\n",
       "      <td>7</td>\n",
       "      <td>0</td>\n",
       "      <td>1</td>\n",
       "      <td>McCarthy, Mr. Timothy J</td>\n",
       "      <td>male</td>\n",
       "      <td>54.0</td>\n",
       "      <td>0</td>\n",
       "      <td>0</td>\n",
       "      <td>17463</td>\n",
       "      <td>51.8625</td>\n",
       "      <td>S</td>\n",
       "    </tr>\n",
       "    <tr>\n",
       "      <th>6</th>\n",
       "      <td>8</td>\n",
       "      <td>0</td>\n",
       "      <td>3</td>\n",
       "      <td>Palsson, Master. Gosta Leonard</td>\n",
       "      <td>male</td>\n",
       "      <td>2.0</td>\n",
       "      <td>3</td>\n",
       "      <td>1</td>\n",
       "      <td>349909</td>\n",
       "      <td>21.0750</td>\n",
       "      <td>S</td>\n",
       "    </tr>\n",
       "    <tr>\n",
       "      <th>7</th>\n",
       "      <td>9</td>\n",
       "      <td>1</td>\n",
       "      <td>3</td>\n",
       "      <td>Johnson, Mrs. Oscar W (Elisabeth Vilhelmina Berg)</td>\n",
       "      <td>female</td>\n",
       "      <td>27.0</td>\n",
       "      <td>0</td>\n",
       "      <td>2</td>\n",
       "      <td>347742</td>\n",
       "      <td>11.1333</td>\n",
       "      <td>S</td>\n",
       "    </tr>\n",
       "    <tr>\n",
       "      <th>8</th>\n",
       "      <td>10</td>\n",
       "      <td>1</td>\n",
       "      <td>2</td>\n",
       "      <td>Nasser, Mrs. Nicholas (Adele Achem)</td>\n",
       "      <td>female</td>\n",
       "      <td>14.0</td>\n",
       "      <td>1</td>\n",
       "      <td>0</td>\n",
       "      <td>237736</td>\n",
       "      <td>30.0708</td>\n",
       "      <td>C</td>\n",
       "    </tr>\n",
       "    <tr>\n",
       "      <th>9</th>\n",
       "      <td>11</td>\n",
       "      <td>1</td>\n",
       "      <td>3</td>\n",
       "      <td>Sandstrom, Miss. Marguerite Rut</td>\n",
       "      <td>female</td>\n",
       "      <td>4.0</td>\n",
       "      <td>1</td>\n",
       "      <td>1</td>\n",
       "      <td>PP 9549</td>\n",
       "      <td>16.7000</td>\n",
       "      <td>S</td>\n",
       "    </tr>\n",
       "  </tbody>\n",
       "</table>\n",
       "</div>"
      ],
      "text/plain": [
       "   PassengerId  Survived  Pclass  \\\n",
       "0            1         0       3   \n",
       "1            2         1       1   \n",
       "2            3         1       3   \n",
       "3            4         1       1   \n",
       "4            5         0       3   \n",
       "5            7         0       1   \n",
       "6            8         0       3   \n",
       "7            9         1       3   \n",
       "8           10         1       2   \n",
       "9           11         1       3   \n",
       "\n",
       "                                                Name     Sex   Age  SibSp  \\\n",
       "0                            Braund, Mr. Owen Harris    male  22.0      1   \n",
       "1  Cumings, Mrs. John Bradley (Florence Briggs Th...  female  38.0      1   \n",
       "2                             Heikkinen, Miss. Laina  female  26.0      0   \n",
       "3       Futrelle, Mrs. Jacques Heath (Lily May Peel)  female  35.0      1   \n",
       "4                           Allen, Mr. William Henry    male  35.0      0   \n",
       "5                            McCarthy, Mr. Timothy J    male  54.0      0   \n",
       "6                     Palsson, Master. Gosta Leonard    male   2.0      3   \n",
       "7  Johnson, Mrs. Oscar W (Elisabeth Vilhelmina Berg)  female  27.0      0   \n",
       "8                Nasser, Mrs. Nicholas (Adele Achem)  female  14.0      1   \n",
       "9                    Sandstrom, Miss. Marguerite Rut  female   4.0      1   \n",
       "\n",
       "   Parch            Ticket     Fare Embarked  \n",
       "0      0         A/5 21171   7.2500        S  \n",
       "1      0          PC 17599  71.2833        C  \n",
       "2      0  STON/O2. 3101282   7.9250        S  \n",
       "3      0            113803  53.1000        S  \n",
       "4      0            373450   8.0500        S  \n",
       "5      0             17463  51.8625        S  \n",
       "6      1            349909  21.0750        S  \n",
       "7      2            347742  11.1333        S  \n",
       "8      0            237736  30.0708        C  \n",
       "9      1           PP 9549  16.7000        S  "
      ]
     },
     "execution_count": 23,
     "metadata": {},
     "output_type": "execute_result"
    }
   ],
   "source": [
    "# Path to the data - select the path that works for you \n",
    "file_path = 'clean_titanic_data.csv'\n",
    "\n",
    "# Load the data into a DataFrame \n",
    "df = pd.read_csv(file_path)\n",
    "\n",
    "# Look at the data.\n",
    "df.head(10)"
   ]
  },
  {
   "cell_type": "markdown",
   "metadata": {},
   "source": [
    "#### a) Calculate a 98% CI for the survival rate of men (all passenger classes)."
   ]
  },
  {
   "cell_type": "code",
   "execution_count": 32,
   "metadata": {},
   "outputs": [
    {
     "name": "stdout",
     "output_type": "stream",
     "text": [
      "93 men survived the disaster\n",
      "... out of 453 men total\n"
     ]
    },
    {
     "data": {
      "text/plain": [
       "(0.1681022467502887, 0.2424937797397775)"
      ]
     },
     "execution_count": 32,
     "metadata": {},
     "output_type": "execute_result"
    }
   ],
   "source": [
    "male_survived = df.loc[df['Sex']=='male', 'Survived'].sum()\n",
    "print(\"{} men survived the disaster\".format(male_survived))\n",
    "male_total = len(df.loc[(df[\"Sex\"]=='male')])\n",
    "print(\"... out of {} men total\".format(male_total))\n",
    "\n",
    "\n",
    "##SO the CI is: \n",
    "sms.proportion_confint(93, 453, alpha=0.05, method='normal')\n",
    "\n"
   ]
  },
  {
   "cell_type": "markdown",
   "metadata": {},
   "source": [
    "\n",
    "#### c) Calculate a 98% CI for the survival rate of women (all passenger classes)."
   ]
  },
  {
   "cell_type": "code",
   "execution_count": 13,
   "metadata": {},
   "outputs": [
    {
     "name": "stdout",
     "output_type": "stream",
     "text": [
      "197 women survived the disaster\n",
      "... out of 261 women total\n",
      "For a CI of: ( 0.692839887327238  ,  0.8167386567340648 )\n"
     ]
    }
   ],
   "source": [
    "#To DO"
   ]
  },
  {
   "cell_type": "markdown",
   "metadata": {},
   "source": [
    "\n",
    "#### d) Calculate a 98% CI for the difference in survival rates between men and women."
   ]
  },
  {
   "cell_type": "code",
   "execution_count": 35,
   "metadata": {},
   "outputs": [
    {
     "data": {
      "text/plain": [
       "(-0.6088894385450798, -0.4811979067685913)"
      ]
     },
     "execution_count": 35,
     "metadata": {},
     "output_type": "execute_result"
    }
   ],
   "source": [
    "sms.confint_proportions_2indep(93, 453, 197, 261, alpha=0.05)"
   ]
  },
  {
   "cell_type": "markdown",
   "metadata": {},
   "source": [
    "\n",
    "#### e) What can you conclude?"
   ]
  },
  {
   "cell_type": "markdown",
   "metadata": {},
   "source": [
    "**Solution**: TO Do"
   ]
  },
  {
   "cell_type": "code",
   "execution_count": null,
   "metadata": {},
   "outputs": [],
   "source": []
  }
 ],
 "metadata": {
  "kernelspec": {
   "display_name": "Python 3 (ipykernel)",
   "language": "python",
   "name": "python3"
  },
  "language_info": {
   "codemirror_mode": {
    "name": "ipython",
    "version": 3
   },
   "file_extension": ".py",
   "mimetype": "text/x-python",
   "name": "python",
   "nbconvert_exporter": "python",
   "pygments_lexer": "ipython3",
   "version": "3.10.8"
  }
 },
 "nbformat": 4,
 "nbformat_minor": 4
}
