{
 "cells": [
  {
   "cell_type": "markdown",
   "metadata": {},
   "source": [
    "<a id='top'></a>\n",
    "\n",
    "\n",
    "# CSCI3022 S23\n",
    "\n",
    "\n",
    "# Homework 11: Modeling Using Regression\n",
    "## Due Monday, May 1st at 11:59pm to Gradescope\n",
    "Late Due Date:  Thursday, May 4th (last day of classes), 11:59pm MT\n",
    "***\n",
    "\n",
    "**Name**: ________________________________________________________________________\n",
    "\n",
    "***\n",
    "\n",
    "***\n",
    "### Collaboration Policy\n",
    "\n",
    "While completing the assignment you are not allowed to consult any source other than the course textbooks/online reference links provided on Canvas, your own class notes, and/or the posted lecture slides/in-class Jupyter notebooks.   You may discuss questions you have with your classmates or on Piazza or in office hours, but all work you submit must be your own, which means when writing up your solutions or code, you MUST do it entirely by yourself. \n",
    "\n",
    "You should be able to easily reproduce from scratch and explain a solution that was your own when asked in office hours by a TA/Instructor or on a quiz/exam without referencing your notes/book/HW.   \n",
    "\n",
    "\n",
    "**Do not search/ask for a solution online**: You may not actively search for a solution to the problems below from the internet. This includes posting to or using sources like ChatGPT, StackOverflow, StackExchange, Reddit, Chegg, CourseHero, etc.  \n",
    "\n",
    "**We are here to help!  Visit HW Hours and/or post questions on Piazza!**\n",
    "\n",
    "\n",
    "Copying/consulting from the solution of another classmate or an online solution (or providing a classmate your solution) constitutes a **violation of the course's collaboration policy and the honor code and will result in an F in the course and a trip to the honor council**.   \n",
    "\n",
    "\n",
    "\n",
    "\n",
    "\n",
    "\n",
    "### Instructions for Submitting in Correct Format \n",
    "\n",
    "You must submit a PDF of this Juptyer notebook to Gradescope by the deadline listed above.  Submissions that are not a PDF or that are not submitted to Gradescope will not be counted for credit.  \n",
    "\n",
    "$\\color{red}{\\text{Before submitting your PDF, make sure that your LaTeX has rendered correctly in your PDF.}}$\n",
    "$\\color{red}{\\text{Any of your solutions with incorrectly rendered or incompletely rendered LaTeX will be given 0 points.}}$ \n",
    "\n",
    "- There are several ways to quickly make a .pdf out of this notebook for Gradescope submission.  \n",
    " \n",
    " - If you are running Juptyer locally on your computer: \n",
    " \n",
    "     - Option1 : Select Kernel->Restart & Run All.  Then select File ->  Print Preview, and then Right-Click -> Print using your default browser and \"Print to PDF\"\n",
    " \n",
    "     - Option 2: Select Kernel->Restart & Run All.   Then select File -> Download as PDF via LaTeX.  This will require your system path find a working install of a TeX compiler\n",
    " \n",
    " - If you are running using CSEL: \n",
    " \n",
    "     - Option1 :  Go to File ->Save & Export Notebook As-> HTML.  Then open the HTML, and then Right-Click -> Print and select \"Print to PDF\".  \n",
    "     - Option2 :  Go to File ->Download. Then use this converter https://htmtopdf.herokuapp.com/ipynbviewer/ to convert ipynb to pdf.\n",
    " \n",
    "### Notes\n",
    "- For full points you must correctly match your questions to the respective Gradescope problem, and include clear comments in your code.   Please note that any LaTeX that is not correctly rendered in your submitted PDF will result in a 0 on the entire problem(s) that involves the unrendered LaTeX. \n",
    "- You **must show all work and justify ALL answers to receive credit**. Sparse or nonexistent work will receive sparse or nonexistent credit. \n",
    "- Any relevant data sets are available on Canvas. \n",
    "- LaTeX Tips:  Here is a [reference guide] (https://math.meta.stackexchange.com/questions/5020/mathjax-basic-tutorial-and-quick-reference).  **All** of your written commentary, justifications and mathematical work should be in Markdown.  I also recommend the [wikibook](https://en.wikibooks.org/wiki/LaTeX) for LaTex.\n",
    "- Because you can technically evaluate notebook cells is a non-linear order, it's a good idea to do **Kernel $\\rightarrow$ Restart & Run All** as a check before submitting your solutions.  \n",
    "- It is **bad form** to make your reader interpret numerical output from your code.  If a question asks you to compute some value from the data you should show your code output **AND** write a summary of the results in Markdown directly below your code. \n",
    "\n",
    "- There is *not a prescribed API* for these problems.  You may answer coding questions with whatever syntax or object typing you deem fit.  Your evaluation will primarily live in the clarity of how well you present your final results, so don't skip over any interpretations!  Your code should still be commented and readable to ensure you followed the given course algorithm.\n",
    "\n",
    "\n",
    "\n",
    "\n",
    "We'll need Numpy, Matplotlib, Pandas, and scipy.stats for this notebook, so let's load them. \n"
   ]
  },
  {
   "cell_type": "code",
   "execution_count": 9,
   "metadata": {},
   "outputs": [],
   "source": [
    "import numpy as np \n",
    "from scipy import stats\n",
    "import statsmodels.api as sm \n",
    "import pandas as pd\n",
    "import matplotlib.pylab as plt \n",
    "from scipy.stats import skew, kurtosis, norm\n",
    "import seaborn\n",
    "%matplotlib inline\n",
    "from sklearn.linear_model import LinearRegression\n",
    "from statsmodels.stats.multicomp import MultiComparison\n",
    "import random\n",
    "\n"
   ]
  },
  {
   "cell_type": "markdown",
   "metadata": {},
   "source": [
    "For this entire assignment you are welcome to use any built-in methods/functions we have used in class.  If a built-in function/method outputs summary statistics or other useful output variables you can use that output directly when answering any questions below UNLESS otherwise specified in the problem (i.e. unless we tell you in the problem to write code to calculate a particular statistic from scratch based on its definition, you can just get that statistic/info from the output of a built-in method/function)."
   ]
  },
  {
   "cell_type": "markdown",
   "metadata": {},
   "source": [
    "<a id='p1'></a>\n",
    "# Problem 1 (15 pts)\n",
    "***\n",
    "Your friend owns a franchise business that sells and rents stand-up paddleboards.  \n",
    "They have collected data from 95 of their shops and have asked you to create a model that predicts annual sales from their data.  The data is in the file `paddle.csv`"
   ]
  },
  {
   "cell_type": "markdown",
   "metadata": {},
   "source": [
    " ***Import the data set `paddle.csv`, and take a look at it.***"
   ]
  },
  {
   "cell_type": "code",
   "execution_count": null,
   "metadata": {},
   "outputs": [],
   "source": []
  },
  {
   "cell_type": "markdown",
   "metadata": {},
   "source": [
    "### Data Description:\n",
    "The data file contains the following data for each of the 95 shops:\n",
    "\n",
    "`lakes` -  The number of lakes or reservoirs within a 50 mile radius of the shop.\n",
    "\n",
    "`pop` - Population density of the town where the shop is located (people per square mile).\n",
    "\n",
    "`advertising` - The shop's annual amount spent on advertising/promotions (in thousands of dollars).\n",
    "\n",
    "`competitors` - The number of competing stores within a 50 mile radius of the shop.\n",
    "\n",
    "`sales` - The shop's annual net sales revenue (in thousands of dollars)."
   ]
  },
  {
   "cell_type": "markdown",
   "metadata": {},
   "source": [
    "## Single-Predictor Regression\n",
    "\n",
    "\n",
    "\n",
    "### [1] Part A) A naive model (8 pts)\n",
    "\n",
    "Your friend says that since stand-up paddleboarding is a water activity, they would expect annual sales revenue to be dependent on the number of lakes/reservoirs in the region near a given shop.  \n",
    "\n",
    "Your task: \n",
    "- ***(1A i) (2 points):  Make a simple linear regression (SLR) model with `sales` as the response, predicted by the variable `lakes`.***    \n",
    "\n",
    "- ***Print the summary output for the model***\n",
    "\n",
    "- ***Then write the equation for the model in a markdown cell.***\n",
    "\n"
   ]
  },
  {
   "cell_type": "code",
   "execution_count": null,
   "metadata": {},
   "outputs": [],
   "source": []
  },
  {
   "cell_type": "markdown",
   "metadata": {},
   "source": []
  },
  {
   "cell_type": "markdown",
   "metadata": {},
   "source": [
    " - ***(1A ii) (2 points) Make the following 4 plots (described below).  \n",
    "Title each plot and label your axes on each plot.*** \n",
    "\n",
    "  - ***Scatter plot of the data (i.e. lakes vs sales) and overlay the simple linear regression line you found above***.  \n",
    "\n",
    "  - ***Frequency histogram of residuals of your SLR model.***  \n",
    "  \n",
    "  - ***A Q-Q plot of *residuals*, comparing to a normal distribution.***\n",
    "  - ***Scatter plot where the lake data values are the x-axis and the model residuals are the y-axis.***\n"
   ]
  },
  {
   "cell_type": "code",
   "execution_count": null,
   "metadata": {},
   "outputs": [],
   "source": []
  },
  {
   "cell_type": "markdown",
   "metadata": {},
   "source": [
    " - ***(1A iii). (2 points) Does this model seem appropriate?  For each of the 4 major assumptions of a simple linear regression model, use your plots in part (ii) to decide whether or not the dataset meets those assumptions.***\n",
    "\n"
   ]
  },
  {
   "cell_type": "markdown",
   "metadata": {},
   "source": []
  },
  {
   "cell_type": "markdown",
   "metadata": {},
   "source": [
    "\n"
   ]
  },
  {
   "cell_type": "markdown",
   "metadata": {},
   "source": [
    " - ***(1A iv) (1 pt) What is the meaning of the slope in the model in terms of the variables in the dataset?  Based on the physical meaning of the variables, does the value of this slope seem reasonable or does it surprise you?  Explain.***\n"
   ]
  },
  {
   "cell_type": "markdown",
   "metadata": {},
   "source": []
  },
  {
   "cell_type": "markdown",
   "metadata": {},
   "source": [
    "- ***(1A v) (1 pt) Using the summary output from your model, what percent of total variation in sales revenue can be explained by the number of nearby lakes/reservoirs? Explain.***"
   ]
  },
  {
   "cell_type": "markdown",
   "metadata": {},
   "source": [
    "(inadvertently skipped labeling from A to C...oh well!)\n",
    "\n",
    "### [1] Part C: Statistical Inference Using your Model  (7 pts)\n",
    "***Your friend would like to know if there's sufficient evidence from this model to conclude that the number of nearby lakes/reservoirs is a statistically significant linear predictor of sales revenue.  You decide to do a hypothesis test at the  $\\alpha = 0.05$ significance level.***\n",
    "\n",
    "- ***(1C i). (1 points)  State the null and alternate hypotheses for your test.***\n"
   ]
  },
  {
   "cell_type": "markdown",
   "metadata": {},
   "source": []
  },
  {
   "cell_type": "markdown",
   "metadata": {},
   "source": [
    " - ***(1C ii). (2 points) Using the summary output from your model, what is the conclusion of your test?  Explain what output you used (i.e. exactly what part of the table did you use)  and justify your answer.***\n"
   ]
  },
  {
   "cell_type": "markdown",
   "metadata": {},
   "source": []
  },
  {
   "cell_type": "markdown",
   "metadata": {},
   "source": [
    "\n",
    "\n",
    " - ***(1C iii) (2 pts)  Your friend is considering opening another shop in a new location with 5 nearby lakes.  What is the $90\\%$ prediction interval for the annual sales revenue for a shop with 5 nearby lakes?  Your friend has not taken statistics before, so interpret what this means in words your friend can understand.***  \n",
    "\n"
   ]
  },
  {
   "cell_type": "code",
   "execution_count": null,
   "metadata": {},
   "outputs": [],
   "source": []
  },
  {
   "cell_type": "markdown",
   "metadata": {},
   "source": [
    "\n",
    " - ***(1C iv)  (2 pts) Create one plot with the original data, the model, and the $90\\%$ prediction and confidence bands for the model***\n",
    "\n",
    "\n"
   ]
  },
  {
   "cell_type": "code",
   "execution_count": 3,
   "metadata": {},
   "outputs": [],
   "source": []
  },
  {
   "cell_type": "markdown",
   "metadata": {},
   "source": [
    "<a id='p2'></a>\n",
    "#  Problem 2: Go Big-  Multiple Linear Regression (35 pts)\n",
    "\n",
    "***\n",
    "\n",
    "\n",
    "You feel unsatisfied with the results from the model in Problem 1.    \n",
    "\n",
    "Problem 2 will involve steps to improve your model from Problem 1 using Multiple Linear Regression (MLR).  \n",
    "\n",
    "We will continue working with the same dataset from Problem 1 (paddle.csv) throughout this problem.\n",
    "\n",
    "\n",
    "\n",
    "In an effort to improve the model from Problem 1, you decide to add in one additional predictor.  To determine which predictor to add next you start with some scatterplots of the dataset.  \n"
   ]
  },
  {
   "cell_type": "markdown",
   "metadata": {},
   "source": [
    "### [2] Part A:  Explore (5 pts)\n",
    "\n",
    " - ***(2A i). (1 point) Use the function `seaborn.pairplot` to create pairwise scatterplots of the continuous predictors/covariates in the paddle.csv data, both against each other and against the outcome (sales). https://seaborn.pydata.org/generated/seaborn.pairplot.html***"
   ]
  },
  {
   "cell_type": "code",
   "execution_count": 103,
   "metadata": {},
   "outputs": [],
   "source": []
  },
  {
   "cell_type": "markdown",
   "metadata": {},
   "source": [
    " - ***(2A ii). (2 points)  Based on your scatterplots, which (if any) explanatory variable(s) appear to have a linear relationship with sales revenue?  Explain.***     "
   ]
  },
  {
   "cell_type": "markdown",
   "metadata": {},
   "source": []
  },
  {
   "cell_type": "markdown",
   "metadata": {},
   "source": [
    "\n",
    " - ***(2A iii). (2 points)  Print the correlation matrix.  Are any of the ****explanatory**** variables strongly correlated with one another?  If so, which ones?***"
   ]
  },
  {
   "cell_type": "markdown",
   "metadata": {},
   "source": []
  },
  {
   "cell_type": "markdown",
   "metadata": {},
   "source": [
    "### [2] Part B: Adjust the Model (5 pts)\n",
    "\n",
    "***(2B i).  (1 pt) Choose one additional explanatory variable to add to your model, based on your exploratory analysis in Part 2A.  Explain your reasoning for the variable you have chosen.***\n",
    "\n"
   ]
  },
  {
   "cell_type": "markdown",
   "metadata": {},
   "source": []
  },
  {
   "cell_type": "markdown",
   "metadata": {},
   "source": [
    "***(2B ii). (2 points) Create a Multiple Linear Regression Model with `sales` as the dependent variable, `lakes` as one of the independent variables and the new variable you have chosen as the other independent variable.***  \n",
    "\n",
    "***Print the model output summary table for this new model, and then write the equation for this new model in a markdown cell.***"
   ]
  },
  {
   "cell_type": "code",
   "execution_count": null,
   "metadata": {},
   "outputs": [],
   "source": []
  },
  {
   "cell_type": "markdown",
   "metadata": {},
   "source": []
  },
  {
   "cell_type": "markdown",
   "metadata": {},
   "source": [
    "***(2B iii). (2 points) Create a 3D plot of your data AND your model (i.e. you should have a plane that represents your model and a scatter plot that represents your data). Label your axes.***"
   ]
  },
  {
   "cell_type": "code",
   "execution_count": null,
   "metadata": {},
   "outputs": [],
   "source": []
  },
  {
   "cell_type": "markdown",
   "metadata": {},
   "source": [
    "### [2] Part C: Inference on MLR Model: Step 1 ( 7 pts)\n",
    "\n",
    "Let's check that this model meets the assumptions for multiple linear regression.  \n",
    "\n",
    "***(2C i) Make the following 4 plots (2 pts):***\n",
    "\n",
    " -  A histogram of *residuals* of best least-squares fit.\n",
    "\n",
    " -  A Q-Q plot of *residuals*, comparing to a normal distribution.\n",
    "\n",
    " -   A scatter plot where the `lake` data values are the x-axis and the *residuals* are the y-axis.\n",
    "\n",
    " -  A scatter plot where the $x$-axis is the data for the other variable you chose to include in the model and *residuals* are the y-axis.\n",
    "\n",
    "\n"
   ]
  },
  {
   "cell_type": "code",
   "execution_count": null,
   "metadata": {},
   "outputs": [],
   "source": []
  },
  {
   "cell_type": "markdown",
   "metadata": {},
   "source": [
    "***2C ii). (2 pts)   What are the major assumptions of a multiple linear regression model?  For each of these assumptions, use your plots above to decide whether or not the data set meets those assumptions. Explain your reasoning.***"
   ]
  },
  {
   "cell_type": "code",
   "execution_count": null,
   "metadata": {},
   "outputs": [],
   "source": []
  },
  {
   "cell_type": "markdown",
   "metadata": {},
   "source": [
    "***Let's see if this new model as a whole is significant at an alpha level of  5%.  In other words, we want to use a single test to see if at least one of the two explanatory variables really has a significant linear association with the response variable.***  \n",
    "\n",
    " - ***(2C iii). (1 point)  State the null and alternate hypotheses we should test at an alpha level of  5% , and explain what they mean in a sentence.***\n",
    " "
   ]
  },
  {
   "cell_type": "markdown",
   "metadata": {},
   "source": []
  },
  {
   "cell_type": "markdown",
   "metadata": {},
   "source": [
    " - ***(2C iv). (2 points) Use the output of your model to determine the conclusion of this test. Explain what output you used.***"
   ]
  },
  {
   "cell_type": "code",
   "execution_count": null,
   "metadata": {},
   "outputs": [],
   "source": []
  },
  {
   "cell_type": "markdown",
   "metadata": {},
   "source": []
  },
  {
   "cell_type": "markdown",
   "metadata": {},
   "source": [
    "### [2] Part D: Inference on MLR Model: Step 2 (4 pts)\n",
    "\n",
    "After Part 2C, you should have found that the new model as a whole is significant. So, it will be helpful to know exactly which variable (or variables) have a significant linear association with the response variable.  \n",
    "\n",
    " - ***(2Di). (2 points) This will require multiple tests.  State the null and alternate hypotheses we should test at an alpha level of  5% , and explain what they mean in a sentence.***\n",
    "\n",
    "\n",
    "\n",
    "\n"
   ]
  },
  {
   "cell_type": "markdown",
   "metadata": {},
   "source": []
  },
  {
   "cell_type": "markdown",
   "metadata": {},
   "source": [
    " - ***(2Dii). (2 points) Explain the conclusion(s) of these tests for each of the explanatory variables in your model, using output from your model summary table.\n",
    "(Note: For this part of the problem you do not need to calculate each test statistic from scratch- instead you can just look up the appropriate results from the output summary table and explain your conclusions below).***\n"
   ]
  },
  {
   "cell_type": "markdown",
   "metadata": {},
   "source": []
  },
  {
   "cell_type": "markdown",
   "metadata": {},
   "source": [
    "### [2] Part E: Quantifying Model Goodness of Fit (3 pts)\n",
    "\n",
    "***In general, adding more variables to our model will increase the percent of total variation in the dependent variable that can be explained with the model.  However this comes at a cost.  \n",
    "(2E i)  (2 pts) What is at least one potential problem with using all the explanatory variables available in your dataset to fit a model?***"
   ]
  },
  {
   "cell_type": "markdown",
   "metadata": {},
   "source": []
  },
  {
   "cell_type": "markdown",
   "metadata": {},
   "source": [
    "**(2E ii). (1 pt)  What is the name of the metric that measures how much total variation is explained by our model but adds a penalty to this number for adding additional variables that don't imporve the model?     Use your summary model output to find the value of this metric for your new model.  Is this an improvement compared to your answer from Part (1A v)?***\n"
   ]
  },
  {
   "cell_type": "markdown",
   "metadata": {},
   "source": []
  },
  {
   "cell_type": "markdown",
   "metadata": {},
   "source": [
    "### [2] Part F: Final Pass at a Model  (6 pts)\n",
    "\n",
    "\n",
    "You are curious if the model you found above is really the best you can do with the dataset.  \n",
    "\n",
    "In this open-ended problem you will use the same dataset (paddle.csv) but you may use any subset of the columns to build your \"best\" Multiple Linear Regression model.  i.e. you want to create the best model you can to quantify how sales can be explained and predicted by the features in this dataset.\n",
    "\n",
    "For this problem the dependent variable will still be sales.  Any other variables will be candidates for explanatory variables.  \n",
    "\n",
    "\n",
    "Your goal is to demonstrate that you have an understanding of how to choose between columns and validate/check for issues in a multiple linear regression problem.\n",
    "\n",
    " - ***(2F i). (4 pts)  By adding variables step-by-step to a minimal model or by removing variables step-by-step from the full model, use one or more of the criteria covered in our class to create a reasonable candidate model (i.e. the \"best\" you can do with the data given). The criteria you use may include (but are not limited to):***\n",
    " \n",
    "  - ***adjusted $R^2$***\n",
    "  - ***inclusion/removal of most or least-significant t-tests on coefficients***\n",
    "  - ***F-tests to compare between models***\n",
    "  - ***Comparison of AIC between models***\n",
    "  \n",
    " \n",
    "***In addition to code showing the model variations you try, use markdown cell(s) to write-up an explanation of your reasoning for each step of this process as you construct a final version of the model.***\n",
    "\n",
    "***Your explanation should include the results (from the output summary) of the F-test and t-tests for your final model. If you choose to include an insignificant explanatory variable in your final model you must fully justify your reasoning.*** \n",
    "\n",
    "  \n"
   ]
  },
  {
   "cell_type": "code",
   "execution_count": null,
   "metadata": {},
   "outputs": [],
   "source": []
  },
  {
   "cell_type": "markdown",
   "metadata": {},
   "source": []
  },
  {
   "cell_type": "markdown",
   "metadata": {},
   "source": [
    " - ***(2F ii).  (2 pts) Give the equation for your final model (in markdown) AND interpret the meaning of the intercept and coefficients in your final model in the context of the problem.   Explain how your final model makes sense in the context of the problem (or if it doesn't, you'll want to try to explain why not).*** "
   ]
  },
  {
   "cell_type": "markdown",
   "metadata": {},
   "source": []
  },
  {
   "cell_type": "markdown",
   "metadata": {},
   "source": [
    "\n",
    "### [2] Part G: Back To Your Friend (5 pts)\n",
    "\n",
    "After finishing your final model, you report the results to your friend.  Your friend asks you to answer the following questions:  \n",
    " \n",
    " \n",
    " - ***2G i). (2 pt) Provide 95% confidence intervals for each of the coefficients in your final model from Part F (you can use the summary table to find these and you do not need to provide a confidence interval for the intercept).  Since your friend is rusty at statistics, write an explanation/ interpretation of what each of the confidence intervals mean in the context of this dataset.*** \n",
    " "
   ]
  },
  {
   "cell_type": "markdown",
   "metadata": {},
   "source": []
  },
  {
   "cell_type": "markdown",
   "metadata": {},
   "source": [
    "\n",
    " \n"
   ]
  },
  {
   "cell_type": "markdown",
   "metadata": {},
   "source": [
    " - 2Gii). ***(2 pts) Your friend is thinking of opening a new paddleboard shop in a town with population density of 75 people per square mile.  The town has 4 lakes nearby and currently only 2 nearby competitors. Use your model from Part F to give a $95\\%$ prediction interval for the expected first year sales revenue at this new store if they spend $\\$8000$ on advertising in the first year.*** "
   ]
  },
  {
   "cell_type": "code",
   "execution_count": null,
   "metadata": {},
   "outputs": [],
   "source": []
  },
  {
   "cell_type": "markdown",
   "metadata": {},
   "source": []
  },
  {
   "cell_type": "markdown",
   "metadata": {},
   "source": [
    "- ***2Giii). (1 pt) Is there any other data (i.e. other possible explanatory variables) you recommend your friend gather in the future to possibly improve the model of sales revenue?  Explain.***  "
   ]
  },
  {
   "cell_type": "markdown",
   "metadata": {},
   "source": []
  },
  {
   "cell_type": "code",
   "execution_count": null,
   "metadata": {},
   "outputs": [],
   "source": []
  },
  {
   "cell_type": "markdown",
   "metadata": {},
   "source": [
    "#### Selected Answers:\n",
    "\n",
    "1C i).  12.4\n",
    "\n",
    "1C iii). $[10.606, 28.938]$ in thousands of dollars."
   ]
  },
  {
   "cell_type": "code",
   "execution_count": null,
   "metadata": {},
   "outputs": [],
   "source": []
  }
 ],
 "metadata": {
  "kernelspec": {
   "display_name": "Python 3 (ipykernel)",
   "language": "python",
   "name": "python3"
  },
  "language_info": {
   "codemirror_mode": {
    "name": "ipython",
    "version": 3
   },
   "file_extension": ".py",
   "mimetype": "text/x-python",
   "name": "python",
   "nbconvert_exporter": "python",
   "pygments_lexer": "ipython3",
   "version": "3.10.8"
  }
 },
 "nbformat": 4,
 "nbformat_minor": 4
}
