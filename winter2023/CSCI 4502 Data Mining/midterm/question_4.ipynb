{
 "cells": [
  {
   "cell_type": "code",
   "execution_count": 10,
   "id": "e6302318-e28b-4b64-95de-63f8f1930797",
   "metadata": {},
   "outputs": [
    {
     "name": "stdout",
     "output_type": "stream",
     "text": [
      "entropy_morning = -(( 1 / 2 log_2( 1 / 2 ))+( 1 / 2 log_2( 1 / 2 )))\n",
      "entropy_morning = 1.0\n",
      "entropy_afternoon = -(( 1 / 1 log_2( 1 / 1 ))+( 0 / 1 log_2( 0 / 1 )))\n",
      "entropy_afternoon = 0.0\n",
      "entropy_evening = -(( 0 / 2 log_2( 0 / 2 ))+( 1 / 2 log_2( 1 / 2 )))\n",
      "entropy_evening = 0.5\n",
      "entropy_night = -(( 0 / 1 log_2( 0 / 1 ))+( 1 / 1 log_2( 1 / 1 )))\n",
      "entropy_night = 0.0\n",
      "Information gain: Time of Day  = S - A\n",
      "Information gain:  Time of Day  = S - ( 2 / 12 entropy_morning + 1 / 12 entropy_afternoon + 2 / 12 entropy_evening + 1 / 12 entropy_night)\n",
      "Information gain:  Time of Day  = 0.5\n",
      "Information gain:  Time of Day  = 0.5\n"
     ]
    }
   ],
   "source": [
    "# this question requires us to do some entropy calculation\n",
    "\n",
    "# I am modifying my information gain python function from hw3\n",
    "# to suit this problem, so some of the variable names are off.\n",
    "\n",
    "\n",
    "import math\n",
    "\n",
    "def entropy_calculator(n):\n",
    "    if n == 0:\n",
    "        return 0\n",
    "    return -1 * (n * (math.log2(n))) \n",
    "\n",
    "def s_minus_a(S, frac1, entropyYes, frac2, entropyNo):\n",
    "    return S - ((frac1*entropyYes + frac2*entropyNo))\n",
    "\n",
    "# one of our attributes has 4 options rather than 2\n",
    "def info_gain4TimeOfDay(name, S, non, nonYes, nonNo, occ, occYes, occNo, forr, forYes, forNo, freq, freqYes, freqNo):\n",
    "    print(\"entropy_morning = -((\",nonYes,\"/\",non,\"log_2(\",nonYes,\"/\",non,\"))+(\",nonNo,\"/\",non,\"log_2(\",nonNo,\"/\",non,\")))\")\n",
    "    entropy_non = entropy_calculator(nonYes/non) + entropy_calculator(nonNo/non) \n",
    "    print(\"entropy_morning =\", entropy_non)\n",
    "    \n",
    "    print(\"entropy_afternoon = -((\",occYes,\"/\",occ,\"log_2(\",occYes,\"/\",occ,\"))+(\",occNo,\"/\",occ,\"log_2(\",occNo,\"/\",occ,\")))\")\n",
    "    entropy_occ = entropy_calculator(occYes/occ) + entropy_calculator(occNo/occ) \n",
    "    print(\"entropy_afternoon =\", entropy_occ)\n",
    "    \n",
    "    print(\"entropy_evening = -((\",forYes,\"/\",forr,\"log_2(\",forYes,\"/\",forr,\"))+(\",forNo,\"/\",forr,\"log_2(\",forNo,\"/\",forr,\")))\")\n",
    "    entropy_for = entropy_calculator(forYes/forr) + entropy_calculator(forNo/forr) \n",
    "    print(\"entropy_evening =\", entropy_for)\n",
    "    \n",
    "    print(\"entropy_night = -((\",freqYes,\"/\",freq,\"log_2(\",freqYes,\"/\",freq,\"))+(\",freqNo,\"/\",freq,\"log_2(\",freqNo,\"/\",freq,\")))\")\n",
    "    entropy_freq = entropy_calculator(freqYes/freq) + entropy_calculator(freqNo/freq) \n",
    "    print(\"entropy_night =\", entropy_freq)\n",
    "    \n",
    "    \n",
    "    \n",
    "    print(\"Information gain:\", name,\" = S - A\")\n",
    "    print(\"Information gain: \", name,\" = S - (\",non,\"/\",12,\"entropy_morning +\",occ,\"/\",12,\"entropy_afternoon +\",forr,\"/\",12,\"entropy_evening +\",freq,\"/\",12,\"entropy_night)\")\n",
    "    frac1 = non/6\n",
    "    frac2 = occ/6\n",
    "    frac3 = forr/6\n",
    "    frac4 = freq/6\n",
    "    \n",
    "    infoGain = S - ((frac1*entropy_non + frac2*entropy_occ + frac3*entropy_for + frac4*entropy_freq))\n",
    "    print(\"Information gain: \", name,\" =\",infoGain)\n",
    "    print(\"Information gain: \", name,\" =\",round(infoGain, 4))\n",
    "\n",
    "\n",
    "    \n",
    "    \n",
    "\n",
    "\n",
    "info_gain4TimeOfDay(\"Time of Day\", 1, 2,1,1, 1,1,0, 2,0,1, 1,0,1)\n"
   ]
  },
  {
   "cell_type": "code",
   "execution_count": 18,
   "id": "9d128047-0013-4b91-ac28-279cf35ce779",
   "metadata": {},
   "outputs": [
    {
     "name": "stdout",
     "output_type": "stream",
     "text": [
      "entropy_mobile = -(( 1 / 3 log_2( 1 / 3 ))+( 2 / 3 log_2( 2 / 3 )))\n",
      "entropy_mobile = 0.9182958340544896\n",
      "entropy_desktop = -(( 2 / 2 log_2( 2 / 2 ))+( 0 / 2 log_2( 0 / 2 )))\n",
      "entropy_desktop = 0.0\n",
      "entropy_tablet = -(( 0 / 1 log_2( 0 / 1 ))+( 1 / 1 log_2( 1 / 1 )))\n",
      "entropy_tablet = 0.0\n",
      "Information gain: Device  = S - A\n",
      "Information gain:  Device  = S - ( 3 / 12 entropy_mobile + 2 / 12 entropy_desktop + 1 / 12 entropy_tablet)\n",
      "Information gain:  Device  = 0.5408520829727552\n",
      "Information gain:  Device  = 0.5409\n"
     ]
    }
   ],
   "source": [
    "# one of our attributes has 4 options rather than 2\n",
    "def info_gain3Device(name, S, non, nonYes, nonNo, occ, occYes, occNo, forr, forYes, forNo):\n",
    "    print(\"entropy_mobile = -((\",nonYes,\"/\",non,\"log_2(\",nonYes,\"/\",non,\"))+(\",nonNo,\"/\",non,\"log_2(\",nonNo,\"/\",non,\")))\")\n",
    "    entropy_non = entropy_calculator(nonYes/non) + entropy_calculator(nonNo/non) \n",
    "    print(\"entropy_mobile =\", entropy_non)\n",
    "    \n",
    "    print(\"entropy_desktop = -((\",occYes,\"/\",occ,\"log_2(\",occYes,\"/\",occ,\"))+(\",occNo,\"/\",occ,\"log_2(\",occNo,\"/\",occ,\")))\")\n",
    "    entropy_occ = entropy_calculator(occYes/occ) + entropy_calculator(occNo/occ) \n",
    "    print(\"entropy_desktop =\", entropy_occ)\n",
    "    \n",
    "    print(\"entropy_tablet = -((\",forYes,\"/\",forr,\"log_2(\",forYes,\"/\",forr,\"))+(\",forNo,\"/\",forr,\"log_2(\",forNo,\"/\",forr,\")))\")\n",
    "    entropy_for = entropy_calculator(forYes/forr) + entropy_calculator(forNo/forr) \n",
    "    print(\"entropy_tablet =\", entropy_for)\n",
    "    \n",
    "    \n",
    "    \n",
    "    \n",
    "    print(\"Information gain:\", name,\" = S - A\")\n",
    "    print(\"Information gain: \", name,\" = S - (\",non,\"/\",12,\"entropy_mobile +\",occ,\"/\",12,\"entropy_desktop +\",forr,\"/\",12,\"entropy_tablet)\")\n",
    "    frac1 = non/6\n",
    "    frac2 = occ/6\n",
    "    frac3 = forr/6\n",
    "    \n",
    "    infoGain = S - ((frac1*entropy_non + frac2*entropy_occ + frac3*entropy_for))\n",
    "    print(\"Information gain: \", name,\" =\",infoGain)\n",
    "    print(\"Information gain: \", name,\" =\",round(infoGain, 4))\n",
    "\n",
    "info_gain3Device(\"Device\", 1, 3,1,2, 2,2,0, 1,0,1)"
   ]
  },
  {
   "cell_type": "code",
   "execution_count": 13,
   "id": "f0bc9e77-fd98-4a3a-a428-4fa0a0fe54d3",
   "metadata": {},
   "outputs": [
    {
     "name": "stdout",
     "output_type": "stream",
     "text": [
      "entropy_electronics = -(( 0 / 2 log_2( 0 / 2 ))+( 2 / 2 log_2( 2 / 2 )))\n",
      "entropy_electronics = 0.0\n",
      "entropy_clothing = -(( 2 / 2 log_2( 2 / 2 ))+( 0 / 2 log_2( 0 / 2 )))\n",
      "entropy_clothing = 0.0\n",
      "entropy_groceries = -(( 1 / 1 log_2( 1 / 1 ))+( 0 / 1 log_2( 0 / 1 )))\n",
      "entropy_groceries = 0.0\n",
      "entropy_books = -(( 1 / 1 log_2( 1 / 1 ))+( 0 / 1 log_2( 0 / 1 )))\n",
      "entropy_books = 0.0\n",
      "Information gain: Category  = S - A\n",
      "Information gain:  Category  = S - ( 2 / 12 entropy_electronics + 2 / 12 entropy_clothing + 1 / 12 entropy_groceries + 1 / 12 entropy_books)\n",
      "Information gain:  Category  = 1.0\n",
      "Information gain:  Category  = 1.0\n"
     ]
    }
   ],
   "source": [
    "# one of our attributes has 4 options rather than 2\n",
    "def info_gain4Category(name, S, non, nonYes, nonNo, occ, occYes, occNo, forr, forYes, forNo, freq, freqYes, freqNo):\n",
    "    print(\"entropy_electronics = -((\",nonYes,\"/\",non,\"log_2(\",nonYes,\"/\",non,\"))+(\",nonNo,\"/\",non,\"log_2(\",nonNo,\"/\",non,\")))\")\n",
    "    entropy_non = entropy_calculator(nonYes/non) + entropy_calculator(nonNo/non) \n",
    "    print(\"entropy_electronics =\", entropy_non)\n",
    "    \n",
    "    print(\"entropy_clothing = -((\",occYes,\"/\",occ,\"log_2(\",occYes,\"/\",occ,\"))+(\",occNo,\"/\",occ,\"log_2(\",occNo,\"/\",occ,\")))\")\n",
    "    entropy_occ = entropy_calculator(occYes/occ) + entropy_calculator(occNo/occ) \n",
    "    print(\"entropy_clothing =\", entropy_occ)\n",
    "    \n",
    "    print(\"entropy_groceries = -((\",forYes,\"/\",forr,\"log_2(\",forYes,\"/\",forr,\"))+(\",forNo,\"/\",forr,\"log_2(\",forNo,\"/\",forr,\")))\")\n",
    "    entropy_for = entropy_calculator(forYes/forr) + entropy_calculator(forNo/forr) \n",
    "    print(\"entropy_groceries =\", entropy_for)\n",
    "    \n",
    "    print(\"entropy_books = -((\",freqYes,\"/\",freq,\"log_2(\",freqYes,\"/\",freq,\"))+(\",freqNo,\"/\",freq,\"log_2(\",freqNo,\"/\",freq,\")))\")\n",
    "    entropy_freq = entropy_calculator(freqYes/freq) + entropy_calculator(freqNo/freq) \n",
    "    print(\"entropy_books =\", entropy_freq)\n",
    "    \n",
    "    \n",
    "    \n",
    "    print(\"Information gain:\", name,\" = S - A\")\n",
    "    print(\"Information gain: \", name,\" = S - (\",non,\"/\",12,\"entropy_electronics +\",occ,\"/\",12,\"entropy_clothing +\",forr,\"/\",12,\"entropy_groceries +\",freq,\"/\",12,\"entropy_books)\")\n",
    "    frac1 = non/6\n",
    "    frac2 = occ/6\n",
    "    frac3 = forr/6\n",
    "    frac4 = freq/6\n",
    "    \n",
    "    infoGain = S - ((frac1*entropy_non + frac2*entropy_occ + frac3*entropy_for + frac4*entropy_freq))\n",
    "    print(\"Information gain: \", name,\" =\",infoGain)\n",
    "    print(\"Information gain: \", name,\" =\",round(infoGain, 4))\n",
    "\n",
    "info_gain4Category(\"Category\", 1, 2,0,2, 2,2,0, 1,1,0, 1,1,0)"
   ]
  },
  {
   "cell_type": "code",
   "execution_count": null,
   "id": "7d7b60b1-9068-4199-8f47-40116a978ad5",
   "metadata": {},
   "outputs": [],
   "source": []
  }
 ],
 "metadata": {
  "kernelspec": {
   "display_name": "Python 3 (ipykernel)",
   "language": "python",
   "name": "python3"
  },
  "language_info": {
   "codemirror_mode": {
    "name": "ipython",
    "version": 3
   },
   "file_extension": ".py",
   "mimetype": "text/x-python",
   "name": "python",
   "nbconvert_exporter": "python",
   "pygments_lexer": "ipython3",
   "version": "3.10.8"
  }
 },
 "nbformat": 4,
 "nbformat_minor": 5
}
