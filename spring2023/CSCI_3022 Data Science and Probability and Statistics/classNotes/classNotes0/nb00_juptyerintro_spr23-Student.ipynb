{
 "cells": [
  {
   "cell_type": "markdown",
   "metadata": {},
   "source": [
    "# Notebook 0: A ridiculously brief introduction to Jupyter & Python\n",
    "***\n",
    "The Jupyter Notebook is an open source web application that you can use to create and share documents that contain live code, equations, visualizations, and text.  \n",
    "(Fun fact: The name, Jupyter, is a loose acronym meaning Julia, Python, and R, although now it supports many other languages).     \n",
    "We’ll be using Python in this class. \n",
    "\n",
    "\n"
   ]
  },
  {
   "cell_type": "markdown",
   "metadata": {},
   "source": [
    "## I).  Different types of cells\n",
    "\n",
    "### A).  Code (default)\n",
    "\n",
    "\n",
    "<span style='color:Red'> Exercise 1a).  Click on the cell below.  Then, to run it, hit shift-enter:  </span>\n"
   ]
  },
  {
   "cell_type": "code",
   "execution_count": 1,
   "metadata": {},
   "outputs": [
    {
     "data": {
      "text/plain": [
       "7"
      ]
     },
     "execution_count": 1,
     "metadata": {},
     "output_type": "execute_result"
    }
   ],
   "source": [
    "x=3\n",
    "y=4\n",
    "x+y"
   ]
  },
  {
   "cell_type": "markdown",
   "metadata": {},
   "source": [
    "If we want to print a complete sentence for our output, we can use the following format:"
   ]
  },
  {
   "cell_type": "code",
   "execution_count": 2,
   "metadata": {},
   "outputs": [
    {
     "name": "stdout",
     "output_type": "stream",
     "text": [
      "Given x=8 and y=3 we calculated x+y = 2\n"
     ]
    }
   ],
   "source": [
    "x=8\n",
    "y=3\n",
    "z=x//y\n",
    "\n",
    "print(\"Given x={} and y={} we calculated x+y = {}\".format(x, y, z))\n",
    "# // is root and ** is power\n"
   ]
  },
  {
   "cell_type": "markdown",
   "metadata": {},
   "source": [
    "See this site for many ways to format your output: https://thepythonguru.com/python-string-formatting/"
   ]
  },
  {
   "cell_type": "markdown",
   "metadata": {},
   "source": [
    "#### Defining functions:  \n",
    "\n",
    "Let's write a simple function to add one to a number, and then run this function for an input of $5$:"
   ]
  },
  {
   "cell_type": "code",
   "execution_count": 3,
   "metadata": {},
   "outputs": [
    {
     "data": {
      "text/plain": [
       "6"
      ]
     },
     "execution_count": 3,
     "metadata": {},
     "output_type": "execute_result"
    }
   ],
   "source": [
    "def plus_one_easy(x):\n",
    "    '''  <-- this initial comment is a docstring. Use the tab-completion to witness its FULL POWERS\n",
    "    Input:\n",
    "    x = a number\n",
    "    Output:\n",
    "    y = a number that is x+1\n",
    "    '''\n",
    "    return(x + 1)\n",
    "\n",
    "#Now, run this function for an input of 5:\n",
    "plus_one_easy(5)\n"
   ]
  },
  {
   "cell_type": "markdown",
   "metadata": {},
   "source": [
    "<span style='color:Red'> Exercise 1b).  Play around with the operators $\\%, /, **$, and $//$ to see what they do.  Then write a function that takes two integers as input (a and b) and returns both the quotient and remainder when $b^2$ is divided by a:   </span>"
   ]
  },
  {
   "cell_type": "code",
   "execution_count": 22,
   "metadata": {
    "tags": []
   },
   "outputs": [
    {
     "data": {
      "text/plain": [
       "(1, 3)"
      ]
     },
     "execution_count": 22,
     "metadata": {},
     "output_type": "execute_result"
    }
   ],
   "source": [
    "#Exercise 1b:  To DO\n",
    "\n",
    "def quotient_and_remainder(x, y):\n",
    "    quotient = x//y\n",
    "    remainder = x%y\n",
    "    return quotient, remainder\n",
    "\n",
    "quotient_and_remainder(10,7)"
   ]
  },
  {
   "cell_type": "markdown",
   "metadata": {
    "tags": []
   },
   "source": [
    "### B).  Markdown is the cell type you can use to write text, insert pictures, write fancy math equations using LaTeX, etc.\n",
    "\n",
    "<span style='color:Red'> Double click on this cell to see the markdown \"behind the scenes\"</span>:\n",
    "\n",
    "\n",
    "\n",
    "--- \n",
    "This is type\n",
    "\n",
    "<span style='color:Green'> This is GREEN type </span>\n",
    "\n",
    "<span style='background :yellow' > This is highlighted type </span>\n",
    "\n",
    "### This is big type\n",
    "## This is bigger type\n",
    "# This is even bigger type\n",
    "\n",
    "\n",
    "\n",
    "\n",
    "This is some math using LaTeX:  $\\int e^{2x} \\,dx = \\frac{1}{2} e^{2x}+C$\n",
    "\n",
    "Here's the link to the [LaTeX wiki](https://en.wikibooks.org/wiki/LaTeX)\n",
    "\n",
    "\n",
    "*Italic*  or _Italic_ \n",
    "\n",
    "**Bold** \n",
    "\n",
    "***Bold and Italic*** \n",
    "\n",
    "~~Scratch Me.~~\n",
    "\n",
    "\n",
    "<span style='color:Red'> Exercise 1c): Insert a new Markdown cell below and try writing some text and some LaTeX.  Then to run it, hit shift-enter:  </span>"
   ]
  },
  {
   "cell_type": "markdown",
   "metadata": {},
   "source": [
    "#Exercise 1c:  TO DO\n",
    "\n",
    "# ***Owen is super cool***\n",
    "## He is the coolest person in the entire world\n",
    "### he was so cool that he was bored and decided to do latex\n",
    "\n",
    "$\\displaystyle \\sum$\n",
    "\n"
   ]
  },
  {
   "cell_type": "markdown",
   "metadata": {},
   "source": [
    "## II) Lists and indexing in Python"
   ]
  },
  {
   "cell_type": "markdown",
   "metadata": {},
   "source": [
    "Lists are the most basic form of array-like object in Python.\n",
    "\n",
    "Lists are one of the 4 built-in data types in Python to store multiple items (3 other data types being dictionaries, tuples and sets). \n",
    "\n",
    "A single list can store multiple data types at once — integers, floats, strings. A list can even store other lists, tuples and dictionaries."
   ]
  },
  {
   "cell_type": "code",
   "execution_count": 9,
   "metadata": {},
   "outputs": [],
   "source": [
    "# A single list can store multiple data types at once — integers, floats, strings. \n",
    "# A list can even store other lists, tuples and dictionaries.\n",
    "\n",
    "x = [2,15,5.4,'squid']"
   ]
  },
  {
   "cell_type": "markdown",
   "metadata": {},
   "source": [
    "***Python uses 0-based indexing:***"
   ]
  },
  {
   "cell_type": "code",
   "execution_count": 19,
   "metadata": {},
   "outputs": [
    {
     "data": {
      "text/plain": [
       "2"
      ]
     },
     "execution_count": 19,
     "metadata": {},
     "output_type": "execute_result"
    }
   ],
   "source": [
    "x[0]"
   ]
  },
  {
   "cell_type": "markdown",
   "metadata": {},
   "source": [
    "<span style='color:Red'> Exercise 2a): Before executing the code below make a guess as to what it will output:  </span>\n"
   ]
  },
  {
   "cell_type": "code",
   "execution_count": 10,
   "metadata": {},
   "outputs": [
    {
     "data": {
      "text/plain": [
       "[15, 5.4]"
      ]
     },
     "execution_count": 10,
     "metadata": {},
     "output_type": "execute_result"
    }
   ],
   "source": [
    "#TO DO:  What do you expect this to output?\n",
    "#guess oh uhh\n",
    "x[1:3]"
   ]
  },
  {
   "cell_type": "markdown",
   "metadata": {},
   "source": [
    "***Notice: array/list slicing in Python ending index in EXCLUSIVE, but the beginning index is INCLUSIVE***"
   ]
  },
  {
   "cell_type": "code",
   "execution_count": 11,
   "metadata": {},
   "outputs": [
    {
     "data": {
      "text/plain": [
       "'squid'"
      ]
     },
     "execution_count": 11,
     "metadata": {},
     "output_type": "execute_result"
    }
   ],
   "source": [
    "# you can even reference elements from the end of the list!\n",
    "x[-1]"
   ]
  },
  {
   "cell_type": "code",
   "execution_count": 12,
   "metadata": {},
   "outputs": [
    {
     "data": {
      "text/plain": [
       "5.4"
      ]
     },
     "execution_count": 12,
     "metadata": {},
     "output_type": "execute_result"
    }
   ],
   "source": [
    "x[-2]"
   ]
  },
  {
   "cell_type": "code",
   "execution_count": 13,
   "metadata": {},
   "outputs": [
    {
     "data": {
      "text/plain": [
       "[5.4, 'squid']"
      ]
     },
     "execution_count": 13,
     "metadata": {},
     "output_type": "execute_result"
    }
   ],
   "source": [
    "#TO DO:  What do you expect this to output?\n",
    "x[-2:]"
   ]
  },
  {
   "cell_type": "markdown",
   "metadata": {},
   "source": [
    "***In Python, a method is a function that is available for a given object because of the object's type.***\n",
    "\n",
    "There are a variety of methods available for lists: `append(), extend(), insert(), remove(), pop(), clear(), index(), count(), sort(), reverse(), copy()`\n",
    "\n",
    "https://www.w3schools.com/python/python_ref_list.asp\n"
   ]
  },
  {
   "cell_type": "code",
   "execution_count": 14,
   "metadata": {},
   "outputs": [
    {
     "data": {
      "text/plain": [
       "[2, 15, 5.4, 'squid', 'new_entry']"
      ]
     },
     "execution_count": 14,
     "metadata": {},
     "output_type": "execute_result"
    }
   ],
   "source": [
    "#For example, append is a list method:\n",
    "\n",
    "x.append(\"new_entry\")\n",
    "x"
   ]
  },
  {
   "cell_type": "markdown",
   "metadata": {},
   "source": [
    "Using lists we can improve our function from above:  \n",
    "<span style='color:Red'> Exercise 2b).  Let's rewrite the function from above `plus_one_easy` to take a list as input and add 1 to each element in the list:  </span>"
   ]
  },
  {
   "cell_type": "code",
   "execution_count": 17,
   "metadata": {},
   "outputs": [
    {
     "name": "stdout",
     "output_type": "stream",
     "text": [
      "[4, 5, 6]\n"
     ]
    }
   ],
   "source": [
    "\n",
    "def plus_one(x):\n",
    "    '''\n",
    "    Input:\n",
    "    x = a list\n",
    "    Output:\n",
    "    y = a list of same length as x, where each element is one more than the corresponding element of x\n",
    "    '''\n",
    "    y = []\n",
    "    for n in x:\n",
    "        y.append(n)\n",
    "    return y\n",
    "    \n",
    "print(plus_one([4, 5, 6]))"
   ]
  },
  {
   "cell_type": "markdown",
   "metadata": {},
   "source": [
    "But this isn't even the most efficient way to add 1 to each element.  In the following section we introduce some datatypes more suited for doing this:"
   ]
  },
  {
   "cell_type": "markdown",
   "metadata": {},
   "source": [
    "## III) Some mathematical functions\n",
    "\n",
    "***There are some pre-written functions built into Python*** (for example, the \"print\" function is part of the Python Standard library).  \n",
    "\n",
    "To use these, you can just call the function. \n",
    "\n",
    "Examples of a few built-in functions we will frequently use include:  \n",
    "`abs(), sum(), min(), max(), len(), set(), sorted(), enumerate(), type(), map(), int() lambda(), round()`\n",
    "\n",
    "See here for descriptions of each:  https://docs.python.org/3/library/functions.html   \n",
    "\n",
    "\n"
   ]
  },
  {
   "cell_type": "code",
   "execution_count": null,
   "metadata": {},
   "outputs": [],
   "source": [
    "#Example of a built-in function:\n",
    "\n",
    "#len(x):  Returns the length of an object\n",
    "len([1,2,3])"
   ]
  },
  {
   "cell_type": "markdown",
   "metadata": {},
   "source": [
    "***However, most functions we will want to use in Python must be imported from modules:***\n",
    "\n",
    "### Python Modules store functions that are not built into the Python interpreter.\n",
    "\n",
    "To call a function stored in a module, write an import statement at the top of the program:  \n",
    "`import your_module`\n"
   ]
  },
  {
   "cell_type": "markdown",
   "metadata": {},
   "source": [
    "### 1) NumPy module:\n",
    "\n",
    "𝐍𝐮𝐦𝐏𝐲  (short for \"Numeric Python\") is an open source Python module for scientific computing. NumPy supports large, multidimensional arrays and matrices. It also supports a large collection of mathematical functions not found in Python's standard math library.\n",
    "\n",
    "It's custom in data science to import Numpy  with the alias $\\texttt{np}$.  We can then ***access any mathematical function in the Numpy library by prepending function names by $\\texttt{np}$***\n",
    "\n",
    "For a more in-depth description of methods and attributes built into Numpy see here:  https://numpy.org/doc/stable/user/quickstart.html   \n",
    "and  here:  https://numpy.org/doc/stable/reference/routines.math.html\n"
   ]
  },
  {
   "cell_type": "code",
   "execution_count": 18,
   "metadata": {},
   "outputs": [
    {
     "name": "stdout",
     "output_type": "stream",
     "text": [
      "3.141592653589793\n",
      "0.8414709848078965\n"
     ]
    }
   ],
   "source": [
    "# many functions in Python must be imported from packages\n",
    "import numpy as np\n",
    "\n",
    "# you must preface the functions with the package name\n",
    "\n",
    "print(np.pi)\n",
    "\n",
    "print(np.sin(1))\n"
   ]
  },
  {
   "cell_type": "markdown",
   "metadata": {},
   "source": [
    "<span style='color:Red'> Exercise 3a): Use numpy built-in functions to find the square root of 17: </span>\n"
   ]
  },
  {
   "cell_type": "code",
   "execution_count": 23,
   "metadata": {},
   "outputs": [
    {
     "name": "stdout",
     "output_type": "stream",
     "text": [
      "4.123105625617661\n"
     ]
    }
   ],
   "source": [
    "#Exercise 3a:  \n",
    "#TO DO\n",
    "print(np.sqrt(17))"
   ]
  },
  {
   "cell_type": "code",
   "execution_count": 1,
   "metadata": {},
   "outputs": [
    {
     "name": "stdout",
     "output_type": "stream",
     "text": [
      "3.141592653589793\n"
     ]
    },
    {
     "data": {
      "text/plain": [
       "'Floating point pi = 3.142, with 3 digit precision'"
      ]
     },
     "execution_count": 1,
     "metadata": {},
     "output_type": "execute_result"
    }
   ],
   "source": [
    "# if you don't like how cumbersome it is to use np as the prefix, there is a solution!\n",
    "from numpy import pi\n",
    "\n",
    "print(pi)\n",
    "\n",
    "#Or, to practice printing this with specific formatting:\n",
    "\n",
    "\"Floating point pi = {0:.3f}, with {1:d} digit precision\".format(pi, 3)\n",
    "#Here we specify 3 digits of precision and f is used to represent floating point number\n",
    "#d in {1:d} represents integer value.\n",
    "#See this site for many ways to format your output: https://thepythonguru.com/python-string-formatting/"
   ]
  },
  {
   "cell_type": "markdown",
   "metadata": {},
   "source": [
    "An example of one of ***Numpy's methods that we will frequently use this in this class*** is the random number generator:"
   ]
  },
  {
   "cell_type": "code",
   "execution_count": 25,
   "metadata": {},
   "outputs": [
    {
     "name": "stdout",
     "output_type": "stream",
     "text": [
      "[12 13 10  7  7]\n"
     ]
    }
   ],
   "source": [
    "# generate random integers\n",
    "ran = np.random.randint(0,20,5) # low, high, size\n",
    "print(ran)\n"
   ]
  },
  {
   "cell_type": "markdown",
   "metadata": {},
   "source": [
    "#### The Numpy ndarray\n",
    "The main workhorse of Numpy is its  multidimensional array  class called the  𝚗𝚍𝚊𝚛𝚛𝚊𝚢 . \n",
    "\n",
    "A numpy array is a grid of values that belong to a similar data type.\n",
    "\n",
    "The numpy array values are indexed by a tuple of nonnegative integers.\n",
    "\n",
    "This allows us to build and work with one dimensional, two dimensional, or even  𝑁 -dimensional arrays of numbers.\n",
    "\n",
    "We can build a  one dimensional  ndarray by passing a Python list to the  𝚗𝚙.𝚊𝚛𝚛𝚊𝚢()  function.\n",
    "\n",
    "See here for a full list of the array attributes and methods:  https://docs.scipy.org/doc/numpy-1.6.0/reference/generated/numpy.ndarray.html"
   ]
  },
  {
   "cell_type": "code",
   "execution_count": 26,
   "metadata": {},
   "outputs": [
    {
     "name": "stdout",
     "output_type": "stream",
     "text": [
      "[1, 2, 3, 4, 5]\n"
     ]
    },
    {
     "data": {
      "text/plain": [
       "list"
      ]
     },
     "execution_count": 26,
     "metadata": {},
     "output_type": "execute_result"
    }
   ],
   "source": [
    "# 'y' is a list in Python\n",
    "y = [1,2,3,4,5]\n",
    "print(y)\n",
    "\n",
    "#We can check the type of what we've just created with Python's type function.\n",
    "type(y)"
   ]
  },
  {
   "cell_type": "code",
   "execution_count": 27,
   "metadata": {},
   "outputs": [
    {
     "name": "stdout",
     "output_type": "stream",
     "text": [
      "[1. 2. 3. 4. 5.]\n"
     ]
    },
    {
     "data": {
      "text/plain": [
       "numpy.ndarray"
      ]
     },
     "execution_count": 27,
     "metadata": {},
     "output_type": "execute_result"
    }
   ],
   "source": [
    "#Now, the list is an array\n",
    "x = np.array(y, dtype=float)\n",
    "print(x)\n",
    "\n",
    "type(x)"
   ]
  },
  {
   "cell_type": "code",
   "execution_count": 28,
   "metadata": {},
   "outputs": [
    {
     "name": "stdout",
     "output_type": "stream",
     "text": [
      "float64\n"
     ]
    }
   ],
   "source": [
    "# The attribute .dtype will let you see the datatype of the elements: \n",
    "\n",
    "print(x.dtype)"
   ]
  },
  {
   "cell_type": "code",
   "execution_count": 29,
   "metadata": {},
   "outputs": [
    {
     "name": "stdout",
     "output_type": "stream",
     "text": [
      "[0 1 2 3 4 5 6 7 8 9]\n",
      "[5 6 7 8 9]\n",
      "[5 7 9]\n",
      "[0. 0. 0. 0. 0.]\n",
      "[1. 1. 1. 1. 1. 1. 1.]\n"
     ]
    }
   ],
   "source": [
    "#There are some built-in functions to help you quickly create basic arrays.  \n",
    "#Compare the output(s) of these different functions\n",
    "\n",
    "print (np.arange(10))\n",
    "\n",
    "print(np.arange(5, 10))\n",
    "\n",
    "print(np.arange(5, 10, 2))\n",
    "\n",
    "print(np.zeros(5))\n",
    "\n",
    "print(np.ones(7))"
   ]
  },
  {
   "cell_type": "markdown",
   "metadata": {},
   "source": [
    "<span style='color:Red'> Exercise 3b: Write a code to create a vector of zeros of size 10 and update the sixth entry to 11 </span>"
   ]
  },
  {
   "cell_type": "code",
   "execution_count": 30,
   "metadata": {},
   "outputs": [
    {
     "name": "stdout",
     "output_type": "stream",
     "text": [
      "[ 0.  0.  0.  0.  0. 11.  0.  0.  0.  0.]\n"
     ]
    }
   ],
   "source": [
    "#Exercise 3b:  TO DO\n",
    "h = np.zeros(10)\n",
    "h[5] = 11\n",
    "print(h)"
   ]
  },
  {
   "cell_type": "code",
   "execution_count": 32,
   "metadata": {},
   "outputs": [],
   "source": [
    "#We are not limited to 1-dimensional arrays - we can also create  n-Dimensional arrays!\n",
    "# 1-dimensional array\n",
    "z=np.array([14, 15, 22.5, 100])\n",
    "# 2-dimensional array\n",
    "w=np.array([[1, 2],\n",
    "       [3, 4],\n",
    "       [5, 6]])"
   ]
  },
  {
   "attachments": {
    "NumpyArrays.png": {
     "image/png": "[encoded data removed]"
    }
   },
   "cell_type": "markdown",
   "metadata": {},
   "source": [
    "![NumpyArrays.png](attachment:NumpyArrays.png)"
   ]
  },
  {
   "cell_type": "code",
   "execution_count": 33,
   "metadata": {},
   "outputs": [
    {
     "name": "stdout",
     "output_type": "stream",
     "text": [
      "(4,)\n",
      "(3, 2)\n"
     ]
    }
   ],
   "source": [
    "#You can find the dimension(s) of your array using the shape attribute:\n",
    "\n",
    "print(z.shape)\n",
    "\n",
    "print(w.shape)"
   ]
  },
  {
   "cell_type": "markdown",
   "metadata": {},
   "source": [
    "### Mathematical Operations on Arrays\n",
    "\n",
    "The nice thing about using Numpy arrays to store numerical values is that we can perform **mathematical operations** on them.  For instance, if we want to multiply every value in $\\texttt{x}$ by $5$ and store the result in a new array $\\texttt{y}$ we can do so as follows: "
   ]
  },
  {
   "cell_type": "code",
   "execution_count": 34,
   "metadata": {},
   "outputs": [
    {
     "name": "stdout",
     "output_type": "stream",
     "text": [
      "x =  [1. 2. 3. 4. 5.]\n",
      "y = 5 * x =  [ 5. 10. 15. 20. 25.]\n"
     ]
    }
   ],
   "source": [
    "# Recall x = [1. 2. 3. 4. 5. ] is an array, NOT a list.\n",
    "y = 5 * x\n",
    "print('x = ', x)\n",
    "print('y = 5 * x = ', 5*x)\n",
    "# x is an array so y is an array"
   ]
  },
  {
   "cell_type": "markdown",
   "metadata": {},
   "source": [
    "Contrast this to what happens if we tried the exact same operations on a list instead:\n"
   ]
  },
  {
   "cell_type": "code",
   "execution_count": 35,
   "metadata": {},
   "outputs": [
    {
     "name": "stdout",
     "output_type": "stream",
     "text": [
      "w =  [1, 2, 3, 4, 5]\n",
      "5 * w =  [1, 2, 3, 4, 5, 1, 2, 3, 4, 5, 1, 2, 3, 4, 5, 1, 2, 3, 4, 5, 1, 2, 3, 4, 5]\n"
     ]
    }
   ],
   "source": [
    "w = [1, 2, 3, 4, 5]\n",
    "# w is a Python list\n",
    "\n",
    "q = 5 * w\n",
    "# q is a list of lists\n",
    "print('w = ', w)\n",
    "print('5 * w = ', q)"
   ]
  },
  {
   "cell_type": "markdown",
   "metadata": {},
   "source": [
    "We can use numpy arrays to ***improve our function from above that adds one to each element in an array.*** (In this case, we don't even need to write a separate function, as this functionality is built into Numpy arrays):"
   ]
  },
  {
   "cell_type": "code",
   "execution_count": 36,
   "metadata": {},
   "outputs": [
    {
     "name": "stdout",
     "output_type": "stream",
     "text": [
      "[ 5 16 24]\n"
     ]
    }
   ],
   "source": [
    "\n",
    "a=np.array([4,15,23])\n",
    "\n",
    "print(a+1)\n"
   ]
  },
  {
   "cell_type": "markdown",
   "metadata": {},
   "source": [
    "If we want to add two ndarray's of equal length together we can do that too: "
   ]
  },
  {
   "cell_type": "code",
   "execution_count": 37,
   "metadata": {},
   "outputs": [
    {
     "name": "stdout",
     "output_type": "stream",
     "text": [
      "z =  [ 6. 12. 18. 24. 30.]\n"
     ]
    }
   ],
   "source": [
    "# Recall x = [1. 2. 3. 4. 5. ] and \n",
    "#        y = [5. 10. 15. 20. 25.]\n",
    "\n",
    "z = x + y \n",
    "print('z = ',z)\n",
    "# z is the addition of two ndarray's\n"
   ]
  },
  {
   "cell_type": "markdown",
   "metadata": {},
   "source": [
    "Contrast this to what happens if we tried the exact same operations on a list instead:"
   ]
  },
  {
   "cell_type": "code",
   "execution_count": 38,
   "metadata": {},
   "outputs": [
    {
     "name": "stdout",
     "output_type": "stream",
     "text": [
      "k =  [1, 2, 3, 4, 5, 1, 2, 3, 4, 5]\n"
     ]
    }
   ],
   "source": [
    "# Recall w = [1, 2, 3, 4, 5]\n",
    "\n",
    "k = w + w\n",
    "print('k = ', k)\n",
    "# k is the addition of two lists"
   ]
  },
  {
   "cell_type": "markdown",
   "metadata": {},
   "source": [
    "<span style='color:Red'> Exercise 3c): Use numpy built-in functions to create an array with elements [2, 4, 8] and then output an array with values $[e^2, e^4, e^8]$ </span>\n"
   ]
  },
  {
   "cell_type": "code",
   "execution_count": 39,
   "metadata": {},
   "outputs": [
    {
     "name": "stdout",
     "output_type": "stream",
     "text": [
      "[ 4 16 64]\n"
     ]
    }
   ],
   "source": [
    "#EXERCISE 3C: TO DO\n",
    "ghj = [2, 4, 8]\n",
    "ghj = np.square(ghj)\n",
    "print(ghj)"
   ]
  },
  {
   "cell_type": "markdown",
   "metadata": {},
   "source": [
    "### Accessing elements in Arrays"
   ]
  },
  {
   "cell_type": "markdown",
   "metadata": {},
   "source": [
    "We can access elements of Numpy arrays in a way similar to the way we access elements in Python lists. For instance, if we want to get the first $3$ elements of the array $\\texttt{y}$, we can do so as follows: "
   ]
  },
  {
   "cell_type": "code",
   "execution_count": 40,
   "metadata": {},
   "outputs": [
    {
     "name": "stdout",
     "output_type": "stream",
     "text": [
      "[ 5. 10. 15. 20. 25.]\n",
      "[ 5. 10. 15.]\n"
     ]
    }
   ],
   "source": [
    "print(y)\n",
    "# recall y is an nparray\n",
    "\n",
    "print(y[0:3])\n",
    "\n"
   ]
  },
  {
   "cell_type": "markdown",
   "metadata": {},
   "source": [
    "Just like with Python lists, if we're indexing from the start of the array there is no need to include the $0$ in the index range.  We can simply do "
   ]
  },
  {
   "cell_type": "code",
   "execution_count": 41,
   "metadata": {},
   "outputs": [
    {
     "data": {
      "text/plain": [
       "array([ 5., 10., 15.])"
      ]
     },
     "execution_count": 41,
     "metadata": {},
     "output_type": "execute_result"
    }
   ],
   "source": [
    "y[:3]"
   ]
  },
  {
   "cell_type": "markdown",
   "metadata": {},
   "source": [
    "Similarly, if we want to access everything from the third entry (indexed with a 2) to the end of the array, we can do "
   ]
  },
  {
   "cell_type": "code",
   "execution_count": 42,
   "metadata": {},
   "outputs": [
    {
     "data": {
      "text/plain": [
       "array([15., 20., 25.])"
      ]
     },
     "execution_count": 42,
     "metadata": {},
     "output_type": "execute_result"
    }
   ],
   "source": [
    "# Recall y = [5. 10. 15. 20. 25.]\n",
    "y[2:]"
   ]
  },
  {
   "cell_type": "markdown",
   "metadata": {},
   "source": [
    "We can also index into an array by conditions.  For instance, remember the vector $\\texttt{z}$"
   ]
  },
  {
   "cell_type": "code",
   "execution_count": 43,
   "metadata": {},
   "outputs": [
    {
     "name": "stdout",
     "output_type": "stream",
     "text": [
      "[ 6. 12. 18. 24. 30.]\n"
     ]
    }
   ],
   "source": [
    "print(z)"
   ]
  },
  {
   "cell_type": "markdown",
   "metadata": {},
   "source": [
    "Let's suppose I want to grab all of the entries in $\\texttt{z}$ that are bigger than $15$.  The condition $\\texttt{z > 15}$ returns a boolean array indicating whether each entry in $\\texttt{z}$ satisfies the given condition "
   ]
  },
  {
   "cell_type": "code",
   "execution_count": 44,
   "metadata": {},
   "outputs": [
    {
     "data": {
      "text/plain": [
       "array([False, False,  True,  True,  True])"
      ]
     },
     "execution_count": 44,
     "metadata": {},
     "output_type": "execute_result"
    }
   ],
   "source": [
    "z > 15\n",
    "#type(z)"
   ]
  },
  {
   "cell_type": "markdown",
   "metadata": {},
   "source": [
    "Now, if I want to actually extract those entries of $\\texttt{z}$ that satisfy the condition we can index $\\texttt{z}$ using this boolean array "
   ]
  },
  {
   "cell_type": "code",
   "execution_count": 45,
   "metadata": {},
   "outputs": [
    {
     "name": "stdout",
     "output_type": "stream",
     "text": [
      "[ 6. 12. 18. 24. 30.]\n"
     ]
    },
    {
     "data": {
      "text/plain": [
       "array([18., 24., 30.])"
      ]
     },
     "execution_count": 45,
     "metadata": {},
     "output_type": "execute_result"
    }
   ],
   "source": [
    "print(z)\n",
    "z[z>15]"
   ]
  },
  {
   "cell_type": "markdown",
   "metadata": {},
   "source": [
    "<span style='color:Red'> Exercise 3b:  Write code to extract the entries of z that are divisible by 4: </span>"
   ]
  },
  {
   "cell_type": "code",
   "execution_count": 47,
   "metadata": {},
   "outputs": [
    {
     "data": {
      "text/plain": [
       "array([12., 24.])"
      ]
     },
     "execution_count": 47,
     "metadata": {},
     "output_type": "execute_result"
    }
   ],
   "source": [
    "#Exercise 3b:  TO DO\n",
    "z[z%4 == 0]"
   ]
  },
  {
   "cell_type": "markdown",
   "metadata": {},
   "source": [
    "### 2) Pandas module:\n",
    "***\n",
    "**Pandas** is an open source $\\color{red}{\\text{data analysis module}}$ in Python used for storing, cleaning, wrangling, and analyzing data.   (Fun fact: It was named as a shortcut for the term \"$\\textbf{pan}$el  $\\textbf{da}$ta\", a common term for multidimensional data sets encountered in statistics and econometrics.)\n",
    "\n",
    "\n",
    "\n",
    "\n",
    "\n",
    "First, let's the Pandas module.  It's custom in data science to import Pandas with the alias $\\texttt{pd}$.  We can then access any function in the Pandas libraries by prepending function names by $\\texttt{pd.}$  "
   ]
  },
  {
   "cell_type": "code",
   "execution_count": 48,
   "metadata": {},
   "outputs": [],
   "source": [
    "import pandas as pd"
   ]
  },
  {
   "attachments": {
    "pandas-DataStructure.png": {
     "image/png": "[encoded data removed]"
    }
   },
   "cell_type": "markdown",
   "metadata": {},
   "source": [
    "### $\\color{red}{\\textbf{Pandas}}$ Data Structures\n",
    "\n",
    "Pandas has two types of data structures: \n",
    "- The **Series**: A one dimensional array with labeled indices (can be mixed data types). \n",
    "- The **Dataframe**: A tabular 2D spreadsheet-like structure with rows and columns (collection of series having the same index). \n",
    "\n",
    "\n",
    "![pandas-DataStructure.png](attachment:pandas-DataStructure.png)\n"
   ]
  },
  {
   "cell_type": "markdown",
   "metadata": {},
   "source": [
    "## A).  The Pandas Series\n",
    "\n",
    "The Pandas Series is a one-dimensional labeled array that can hold data of any type.\n",
    "\n",
    "\n",
    "There are  TON of methods and attributes that are built into Pandas Series.  See here for the full list:   https://pandas.pydata.org/docs/reference/api/pandas.Series.html\n",
    "\n",
    "\n",
    "A series can be created from an existing Python list or a Numpy array.\n"
   ]
  },
  {
   "cell_type": "code",
   "execution_count": 49,
   "metadata": {},
   "outputs": [],
   "source": [
    "#Creating series from a list:\n",
    "\n",
    "my_series = pd.Series([32,9,3,4,10,4,5,6,40,7])\n",
    "\n",
    "#or, from a numpy array:  \n",
    "\n",
    "arr = np.array(['a','c','k','l','q', 1, 14])\n",
    " \n",
    "series2 = pd.Series(arr)\n"
   ]
  },
  {
   "cell_type": "markdown",
   "metadata": {},
   "source": [
    "We can print the Series object by executing the series name in a Python cell "
   ]
  },
  {
   "cell_type": "code",
   "execution_count": 50,
   "metadata": {},
   "outputs": [
    {
     "data": {
      "text/plain": [
       "0    32\n",
       "1     9\n",
       "2     3\n",
       "3     4\n",
       "4    10\n",
       "5     4\n",
       "6     5\n",
       "7     6\n",
       "8    40\n",
       "9     7\n",
       "dtype: int64"
      ]
     },
     "execution_count": 50,
     "metadata": {},
     "output_type": "execute_result"
    }
   ],
   "source": [
    "my_series"
   ]
  },
  {
   "cell_type": "code",
   "execution_count": 51,
   "metadata": {},
   "outputs": [
    {
     "data": {
      "text/plain": [
       "0     a\n",
       "1     c\n",
       "2     k\n",
       "3     l\n",
       "4     q\n",
       "5     1\n",
       "6    14\n",
       "dtype: object"
      ]
     },
     "execution_count": 51,
     "metadata": {},
     "output_type": "execute_result"
    }
   ],
   "source": [
    "series2"
   ]
  },
  {
   "cell_type": "markdown",
   "metadata": {},
   "source": [
    "Note that this displayed multiple outputs.  The first column lists the default indices of the entries in the Series.  The second column lists the actual values of the Series.  Finally, the last line of output tells us the type of the values of the Series. \n",
    "\n",
    "\n",
    "For example, if we want a $\\color{red}{\\text{simple array}}$ containing the value of the Series we can access this with the $\\texttt{.values}$ attribute. "
   ]
  },
  {
   "cell_type": "code",
   "execution_count": 52,
   "metadata": {},
   "outputs": [
    {
     "data": {
      "text/plain": [
       "array([32,  9,  3,  4, 10,  4,  5,  6, 40,  7])"
      ]
     },
     "execution_count": 52,
     "metadata": {},
     "output_type": "execute_result"
    }
   ],
   "source": [
    "my_series.values"
   ]
  },
  {
   "cell_type": "markdown",
   "metadata": {},
   "source": [
    "Note that this returns a simple array type containing the values of the Series.  In fact, this is actually a Numpy ndarray, which we can verify by asking Python for the type of $\\texttt{my_series.values}$. "
   ]
  },
  {
   "cell_type": "code",
   "execution_count": 53,
   "metadata": {},
   "outputs": [
    {
     "data": {
      "text/plain": [
       "numpy.ndarray"
      ]
     },
     "execution_count": 53,
     "metadata": {},
     "output_type": "execute_result"
    }
   ],
   "source": [
    "type(my_series.values)"
   ]
  },
  {
   "cell_type": "markdown",
   "metadata": {},
   "source": [
    "The nice thing about using Pandas Series arrays to store numerical values is that we can perform **mathematical operations** on their values.  For instance, if we want to multiply every value in $\\texttt{my_series}$ by $5$ and store the result in a new series $\\texttt{my_series_y}$ we can do so as follows: "
   ]
  },
  {
   "cell_type": "code",
   "execution_count": 54,
   "metadata": {},
   "outputs": [
    {
     "name": "stdout",
     "output_type": "stream",
     "text": [
      "my_series =  [32  9  3  4 10  4  5  6 40  7]\n",
      "y = 5 * my_series =  [160  45  15  20  50  20  25  30 200  35]\n"
     ]
    }
   ],
   "source": [
    "# Recall my_series is a numerical SERIES, NOT a list.\n",
    "y = 5 * my_series\n",
    "print('my_series = ', my_series.values)\n",
    "print('y = 5 * my_series = ', y.values)\n",
    "# my_series is Series and so is y."
   ]
  },
  {
   "cell_type": "markdown",
   "metadata": {},
   "source": [
    "We can also obtain an array of the indices associated with the Series using the $\\texttt{.index}$ attribute.  "
   ]
  },
  {
   "cell_type": "code",
   "execution_count": 55,
   "metadata": {},
   "outputs": [
    {
     "data": {
      "text/plain": [
       "RangeIndex(start=0, stop=10, step=1)"
      ]
     },
     "execution_count": 55,
     "metadata": {},
     "output_type": "execute_result"
    }
   ],
   "source": [
    "my_series.index"
   ]
  },
  {
   "cell_type": "markdown",
   "metadata": {},
   "source": [
    "In this case the $\\color{red}{\\text{data type}}$ of $\\texttt{my_series.index}$ is a $\\color{red}{\\text{Pandas RangeIndex}}$, which is sort of like an ordered integer array.  "
   ]
  },
  {
   "cell_type": "markdown",
   "metadata": {},
   "source": [
    "<span style='color:Red'> Exercise 4a:  Write a Pandas code to add, subtract, multiply and divide the following two Pandas Series: \n",
    " [2, 4, 6, 8, 10], [1, 3, 5, 7, 9] </span>\n"
   ]
  },
  {
   "cell_type": "code",
   "execution_count": 56,
   "metadata": {},
   "outputs": [],
   "source": [
    "#EXERCISE 4a:  TO DO"
   ]
  },
  {
   "cell_type": "markdown",
   "metadata": {},
   "source": [
    "OK, so far we've defined a basic Pandas Series that uses the default indices.  Typically, if we think of the index as a label describing where the piece of data in the series came from, it's useful to define our own $\\color{red}{\\text{custom indices}}$.  For example, we could create a series listing the FY 2022 Market Value (in billions of \\$) of the 5 largest information technology companies ([source](https://en.wikipedia.org/wiki/List_of_the_largest_information_technology_companies))"
   ]
  },
  {
   "cell_type": "code",
   "execution_count": 57,
   "metadata": {},
   "outputs": [
    {
     "name": "stdout",
     "output_type": "stream",
     "text": [
      "Apple        2600.20\n",
      "Samsung       367.10\n",
      "Microsoft    2100.10\n",
      "Tencent       414.13\n",
      "Alphabet     1600.20\n",
      "dtype: float64\n"
     ]
    }
   ],
   "source": [
    "top_tech2022 = pd.Series([2600.2, 367.1, 2100.1, 414.13, 1600.2], \n",
    "                         index=[\"Apple\", \"Samsung\", \"Microsoft\", \"Tencent\", \"Alphabet\"])\n",
    "\n",
    "print(top_tech2022)"
   ]
  },
  {
   "cell_type": "markdown",
   "metadata": {},
   "source": [
    "Now suppose that we only care about the _really_ high performers, and want the $\\color{red}{\\text{subset}}$ of the Series corresponding to companies that had market value in **excess of \\$500B.**  We can index into the Series using a boolean condition: "
   ]
  },
  {
   "cell_type": "code",
   "execution_count": 58,
   "metadata": {},
   "outputs": [
    {
     "data": {
      "text/plain": [
       "Apple        2600.2\n",
       "Microsoft    2100.1\n",
       "Alphabet     1600.2\n",
       "dtype: float64"
      ]
     },
     "execution_count": 58,
     "metadata": {},
     "output_type": "execute_result"
    }
   ],
   "source": [
    "top_tech2022[top_tech2022 > 500]"
   ]
  },
  {
   "cell_type": "markdown",
   "metadata": {},
   "source": [
    "When Series are very large it's important to be able to check if particular elements are in the Series without having to scan through with our eyeballs.  Here we can check if companies Amazon and AT&T are part of the Series. "
   ]
  },
  {
   "cell_type": "code",
   "execution_count": 59,
   "metadata": {},
   "outputs": [
    {
     "name": "stdout",
     "output_type": "stream",
     "text": [
      "True\n",
      "False\n"
     ]
    }
   ],
   "source": [
    "print(\"Tencent\" in top_tech2022)\n",
    "print(\"Meta\" in top_tech2022)"
   ]
  },
  {
   "cell_type": "markdown",
   "metadata": {},
   "source": [
    "<span style='color:Red'> Exercise 4b:  Write code to sum all of the market value entries in top_tech2022 that are greater than $2000:  "
   ]
  },
  {
   "cell_type": "code",
   "execution_count": 63,
   "metadata": {},
   "outputs": [
    {
     "data": {
      "text/plain": [
       "4700.299999999999"
      ]
     },
     "execution_count": 63,
     "metadata": {},
     "output_type": "execute_result"
    }
   ],
   "source": [
    "#Exercise 4b:  TO DO\n",
    "y = 0\n",
    "for x in top_tech2022:\n",
    "    if x > 2000:\n",
    "        y = y + x\n",
    "y"
   ]
  },
  {
   "cell_type": "markdown",
   "metadata": {},
   "source": [
    "Again, just as with Numpy arrays we can use Series to easily improve on our \"add one\" function from above (i.e. to add one to each value in a list):  "
   ]
  },
  {
   "cell_type": "markdown",
   "metadata": {},
   "source": [
    "<span style='color:Red'> Exercise 4c:  Add one to each element of the Series Top_Tech2022.  Practice returning both a Pandas Series and a Numpy 1D array:\n"
   ]
  },
  {
   "cell_type": "code",
   "execution_count": 67,
   "metadata": {},
   "outputs": [
    {
     "name": "stdout",
     "output_type": "stream",
     "text": [
      "Apple        2601.20\n",
      "Samsung       368.10\n",
      "Microsoft    2101.10\n",
      "Tencent       415.13\n",
      "Alphabet     1601.20\n",
      "dtype: float64\n",
      "[2601.2   368.1  2101.1   415.13 1601.2 ]\n"
     ]
    }
   ],
   "source": [
    "cool_series = pd.Series(top_tech2022)\n",
    "\n",
    "aaa=np.array(top_tech2022)\n",
    "\n",
    "print(cool_series + 1)\n",
    "print(aaa+1)"
   ]
  },
  {
   "cell_type": "markdown",
   "metadata": {},
   "source": [
    "##  B).  The Pandas $\\color{red}{\\textbf{DataFrame}}$\n",
    "\n",
    "In our next  notebook (Notebook 1) we'll dive into the other main Pandas data structure, the DataFrame.\n",
    "\n",
    "\n"
   ]
  },
  {
   "cell_type": "markdown",
   "metadata": {},
   "source": [
    "# Further Reading\n",
    "\n",
    "We've just barely scratched the surface of what Pandas and Numpy can do.  As we move forward in the course we'll learn how to apply various statistical functions to data, how to make plots and charts based on data, and how to clean and wrangle messy data.  \n",
    "\n",
    "If you want to explore more of what Pandas can do, check out the (very readable) pandas docs for more information\n",
    "\n",
    "http://pandas.pydata.org/pandas-docs/stable/"
   ]
  }
 ],
 "metadata": {
  "kernelspec": {
   "display_name": "Python 3 (ipykernel)",
   "language": "python",
   "name": "python3"
  },
  "language_info": {
   "codemirror_mode": {
    "name": "ipython",
    "version": 3
   },
   "file_extension": ".py",
   "mimetype": "text/x-python",
   "name": "python",
   "nbconvert_exporter": "python",
   "pygments_lexer": "ipython3",
   "version": "3.10.8"
  }
 },
 "nbformat": 4,
 "nbformat_minor": 4
}
